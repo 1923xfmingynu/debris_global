{
 "cells": [
  {
   "cell_type": "code",
   "execution_count": 1,
   "metadata": {},
   "outputs": [],
   "source": [
    "#! /usr/bin/env python\n",
    "\"\"\"\n",
    "Compute debris thickness through sub-debris and temperature inversion methods\n",
    "\"\"\"\n",
    "import sys\n",
    "import os\n",
    "import re\n",
    "import subprocess\n",
    "from datetime import datetime, timedelta\n",
    "import time\n",
    "import pickle\n",
    "from collections import OrderedDict\n",
    "\n",
    "import geopandas as gpd\n",
    "import matplotlib.pyplot as plt\n",
    "import numpy as np\n",
    "import pandas as pd\n",
    "import rasterio\n",
    "from rasterio.merge import merge\n",
    "from rasterio.warp import calculate_default_transform, reproject, Resampling\n",
    "from scipy import ndimage\n",
    "from scipy.optimize import curve_fit\n",
    "from scipy.optimize import minimize\n",
    "from scipy.stats import median_absolute_deviation\n",
    "import xarray as xr\n",
    "from osgeo import gdal, ogr, osr\n",
    "\n",
    "from pygeotools.lib import malib, warplib, geolib, iolib, timelib\n",
    "\n",
    "\n",
    "import debrisglobal.globaldebris_input as debris_prms\n",
    "from debrisglobal.glacfeat import GlacFeat, create_glacfeat\n",
    "from meltcurves import melt_fromdebris_func\n",
    "from meltcurves import debris_frommelt_func\n",
    "from spc_split_lists import split_list\n",
    "\n",
    "\n",
    "debug=False"
   ]
  },
  {
   "cell_type": "code",
   "execution_count": 2,
   "metadata": {},
   "outputs": [],
   "source": [
    "#Function to generate a 3-panel plot for input arrays\n",
    "def plot_array(dem, clim=None, titles=None, cmap='inferno', label=None, overlay=None, fn=None, close_fig=True):\n",
    "    fig, ax = plt.subplots(1,1, sharex=True, sharey=True, figsize=(10,5))\n",
    "    alpha = 1.0\n",
    "    #Gray background\n",
    "    ax.set_facecolor('0.5')\n",
    "    #Force aspect ratio to match images\n",
    "    ax.set(aspect='equal')\n",
    "    #Turn off axes labels/ticks\n",
    "    ax.get_xaxis().set_visible(False)\n",
    "    ax.get_yaxis().set_visible(False)\n",
    "    if titles is not None:\n",
    "        ax.set_title(titles[0])\n",
    "    #Plot background shaded relief map\n",
    "    if overlay is not None:\n",
    "        alpha = 0.7\n",
    "        ax.imshow(overlay, cmap='gray', clim=(1,255))\n",
    "    #Plot each array\n",
    "    im_list = [ax.imshow(dem, clim=clim, cmap=cmap, alpha=alpha)]\n",
    "    fig.tight_layout()\n",
    "    fig.colorbar(im_list[0], label=label, extend='both', shrink=0.5)\n",
    "    if fn is not None:\n",
    "        fig.savefig(fn, bbox_inches='tight', pad_inches=0, dpi=150)\n",
    "    if close_fig:\n",
    "        plt.close(fig)\n",
    "        \n",
    "\n",
    "def maskedarray_gt(data, value):\n",
    "    \"\"\" Greater than operation on masked array to avoid warning errors \"\"\"\n",
    "    data = np.nan_to_num(data,0)\n",
    "    data[data > value] = value\n",
    "    return data\n",
    "\n",
    "\n",
    "def maskedarray_lt(data, value):\n",
    "    \"\"\" Less than operation on masked array to avoid warning errors \"\"\"\n",
    "    data = np.nan_to_num(data,0)\n",
    "    data[data < value] = value\n",
    "    return data\n",
    "\n",
    "\n",
    "# def ts_fromdebris_func(h, a, b, c):\n",
    "#         \"\"\" estimate surface temperature from debris thickness (h is debris thickness, a and k are coefficients) \n",
    "#         Hill Equation\"\"\"\n",
    "#         return a * h**c / (b**c + h**c)\n",
    "# def debris_fromts_func(ts, a, b, c, ts_offset=0):\n",
    "#     \"\"\" estimate debris thickness from surface temperature (ts is surface temperature, a and k are coefficients) \n",
    "#     Hill Equation\"\"\"\n",
    "#     ts_woffset = ts + ts_offset\n",
    "#     return (ts_woffset * b**c / (a - ts))**(1/c)\n",
    "\n",
    "\n",
    "# def melt_fromts_func(ts, a, b, c, b0, k):\n",
    "#     \"\"\" estimate melt from surface temperature \n",
    "#     Parameters\n",
    "#     ----------\n",
    "#     ts : surface temperature\n",
    "#     a, b, c : coefficients with debris-ts curve (Hill equation)\n",
    "#     b0, k: coefficients with debris-melt curve (2nd order reaction rate)\n",
    "#     \"\"\"\n",
    "#     return b0 / (1 + k* b0 * (ts * b**c / (a - ts))**(1/c))\n",
    "\n",
    "\n",
    "\n",
    "# def meltfactor_fromdebris_func(h, a, k, melt_2cm):\n",
    "#     \"\"\" estimate melt factor from debris thickness (h is debris thickness, a and k are coefficients) \n",
    "#     Hill equation \"\"\"\n",
    "#     melt_h = a / (1 + 2 * k * a * h)\n",
    "#     melt_factor = melt_h / melt_2cm\n",
    "#     melt_factor[melt_factor > 1] = 1\n",
    "#     return melt_factor\n",
    "\n",
    "def debris_fromts_maskedarray(ts_raw, a, b, c):\n",
    "    \"\"\" Apply debris_fromts_func to masked array\n",
    "        includes a mask of maximum values, since Michaelis-Mentin Equation has natural maximum \n",
    "    Parameters\n",
    "    ----------\n",
    "    ts_raw : np.ma.array\n",
    "        masked array of the unmodified surface temperature\n",
    "    Returns\n",
    "    -------\n",
    "    hd : np.ma.array \n",
    "        masked array of the debris thickness (m)\n",
    "    \"\"\"\n",
    "    ts = ts_raw.copy()\n",
    "    max_value = ts_fromdebris_func(50, a, b, c)\n",
    "    debris_thick_ts = np.ma.array(maskedarray_gt(ts.data, max_value), mask=np.ma.getmask(ts))\n",
    "    debris_thick_ts = np.ma.array(maskedarray_lt(ts.data, 0), mask=np.ma.getmask(ts))\n",
    "    hd = debris_fromts_func(ts.data, a, b, c)\n",
    "    return hd"
   ]
  },
  {
   "cell_type": "code",
   "execution_count": 3,
   "metadata": {},
   "outputs": [
    {
     "name": "stdout",
     "output_type": "stream",
     "text": [
      "611\n",
      "611 glaciers in region 5 are included in this model run: ['00115', '00181', '00184', '00258', '00270', '00275', '00318', '00319', '00323', '00334', '00335', '00336', '00337', '00342', '00400', '00421', '00445', '00446', '00451', '00459', '00460', '00522', '00530', '00789', '00790', '00793', '00794', '00800', '00801', '00817', '00839', '00859', '00879', '00904', '00938', '01224', '01355', '01383', '01403', '01441', '01452', '01456', '01706', '01780', '02398', '02521', '02536', '02918', '03019', '03185'] and more\n",
      "This study is focusing on 611 glaciers in region [5]\n"
     ]
    }
   ],
   "source": [
    "rgiid_list = []\n",
    "rgiid_fn_list = []\n",
    "for i in os.listdir(debris_prms.mb_binned_fp):\n",
    "    if i.endswith('_mb_bins.csv'):\n",
    "        region = int(i.split('.')[0])\n",
    "        if region in debris_prms.roi_rgidict[debris_prms.roi]:    \n",
    "            if region < 10:\n",
    "                rgiid_list.append(i[0:7])\n",
    "            else:\n",
    "                rgiid_list.append(i[0:8])\n",
    "            rgiid_fn_list.append(i)\n",
    "        \n",
    "        \n",
    "rgiid_list = sorted(rgiid_list)\n",
    "rgiid_fn_list = sorted(rgiid_fn_list)\n",
    "\n",
    "rgiid_fn_list\n",
    "\n",
    "print(len(rgiid_list))\n",
    "\n",
    "# rgiid_list = ['01.25579'] # ERROR WITH NO CLEAN ICE\n",
    "# rgiid_fn_list = ['01.25579_mb_bins.csv']\n",
    "# rgiid_list = ['01.13622'] # ERROR WITH A PLOT - NEED TO TROUBLESHOOT\n",
    "# rgiid_fn_list = ['01.13622_mb_bins.csv']\n",
    "# rgiid_list = ['01.15645']\n",
    "# rgiid_fn_list = ['01.15645_mb_bins.csv']\n",
    "\n",
    "# rgiid_list = ['02.12438']\n",
    "# rgiid_fn_list = ['02.12438_mb_bins.csv']\n",
    "\n",
    "# rgiid_list = ['11.01604']\n",
    "# rgiid_fn_list = ['11.01604_mb_bins.csv']\n",
    "# rgiid_list = ['11.02810']\n",
    "# rgiid_fn_list = ['11.02810_mb_bins.csv']\n",
    "# rgiid_list = ['11.03005']\n",
    "# rgiid_fn_list = ['11.03005_mb_bins.csv']\n",
    "# rgiid_list = ['11.01604', '11.02810', '11.03005']\n",
    "# rgiid_fn_list = ['11.01604_mb_bins.csv', '11.02810_mb_bins.csv', '11.03005_mb_bins.csv']\n",
    "\n",
    "# rgiid_list = ['15.02240']\n",
    "# rgiid_fn_list = ['15.02240_mb_bins.csv']\n",
    "\n",
    "# rgiid_list = ['13.00809']\n",
    "# rgiid_fn_list = ['13.00809_mb_bins.csv']\n",
    "# rgiid_list = ['13.43232']\n",
    "# rgiid_fn_list = ['13.43232_mb_bins.csv']\n",
    "# rgiid_list = ['14.04477']\n",
    "# rgiid_fn_list = ['14.04477_mb_bins.csv']\n",
    "# rgiid_list = ['14.06794']\n",
    "# rgiid_fn_list = ['14.06794_mb_bins.csv']\n",
    "# rgiid_list = ['14.16042']\n",
    "# rgiid_fn_list = ['14.16042_mb_bins.csv']\n",
    "# rgiid_list = ['15.03357']\n",
    "# rgiid_fn_list = ['15.03357_mb_bins.csv']\n",
    "# rgiid_list = ['15.03473']\n",
    "# rgiid_fn_list = ['15.03473_mb_bins.csv']\n",
    "# rgiid_list = ['15.03743']\n",
    "# rgiid_fn_list = ['15.03743_mb_bins.csv']\n",
    "# rgiid_list = ['15.03733']\n",
    "# rgiid_fn_list = ['15.03733_mb_bins.csv']\n",
    "# rgiid_list = ['15.04121']\n",
    "# rgiid_fn_list = ['15.04121_mb_bins.csv']\n",
    "# rgiid_list = ['15.07886']\n",
    "# rgiid_fn_list = ['15.07886_mb_bins.csv']\n",
    "# rgiid_list = ['13.43232', '14.04477', '14.06794', '14.16042', '14.15447', '15.03473', '15.03733', '15.03734', \n",
    "#               '15.04121', '15.07886']\n",
    "# rgiid_fn_list = ['13.43232_mb_bins.csv', '14.04477_mb_bins.csv', '14.06794_mb_bins.csv', '14.16042_mb_bins.csv', \n",
    "#                  '14.15447_mb_bins.csv', '15.03473_mb_bins.csv', '15.03733_mb_bins.csv', '15.03734_mb_bins.csv', \n",
    "#                  '15.04121_mb_bins.csv', '15.07886_mb_bins.csv']\n",
    "\n",
    "# rgiid_list = ['18.02505']\n",
    "# rgiid_fn_list = ['18.02505_mb_bins.csv']\n",
    "\n",
    "# print('\\nHACK!!!!\\nDELETE ME-add glaciers back in!\\n')\n",
    "\n",
    "main_glac_rgi = debris_prms.selectglaciersrgitable(rgiid_list)\n",
    "main_glac_rgi['CenLon_360'] = main_glac_rgi['CenLon']\n",
    "main_glac_rgi.loc[main_glac_rgi['CenLon_360'] < 0, 'CenLon_360'] = (\n",
    "    360 + main_glac_rgi.loc[main_glac_rgi['CenLon_360'] < 0, 'CenLon_360'])\n",
    "main_glac_rgi['bin_fn'] = rgiid_fn_list"
   ]
  },
  {
   "cell_type": "code",
   "execution_count": 4,
   "metadata": {},
   "outputs": [
    {
     "data": {
      "text/html": [
       "<div>\n",
       "<style scoped>\n",
       "    .dataframe tbody tr th:only-of-type {\n",
       "        vertical-align: middle;\n",
       "    }\n",
       "\n",
       "    .dataframe tbody tr th {\n",
       "        vertical-align: top;\n",
       "    }\n",
       "\n",
       "    .dataframe thead th {\n",
       "        text-align: right;\n",
       "    }\n",
       "</style>\n",
       "<table border=\"1\" class=\"dataframe\">\n",
       "  <thead>\n",
       "    <tr style=\"text-align: right;\">\n",
       "      <th></th>\n",
       "      <th>O1Index</th>\n",
       "      <th>RGIId</th>\n",
       "      <th>CenLon</th>\n",
       "      <th>CenLat</th>\n",
       "      <th>O1Region</th>\n",
       "      <th>O2Region</th>\n",
       "      <th>Area</th>\n",
       "      <th>Zmin</th>\n",
       "      <th>Zmax</th>\n",
       "      <th>Zmed</th>\n",
       "      <th>...</th>\n",
       "      <th>glacno</th>\n",
       "      <th>rgino_str</th>\n",
       "      <th>RGIId_float</th>\n",
       "      <th>CenLon_360</th>\n",
       "      <th>bin_fn</th>\n",
       "      <th>lat_nearest</th>\n",
       "      <th>lon_nearest</th>\n",
       "      <th>ostrem_fn</th>\n",
       "      <th>DC_Area_%</th>\n",
       "      <th>DC_Area_v2</th>\n",
       "    </tr>\n",
       "    <tr>\n",
       "      <th>GlacNo</th>\n",
       "      <th></th>\n",
       "      <th></th>\n",
       "      <th></th>\n",
       "      <th></th>\n",
       "      <th></th>\n",
       "      <th></th>\n",
       "      <th></th>\n",
       "      <th></th>\n",
       "      <th></th>\n",
       "      <th></th>\n",
       "      <th></th>\n",
       "      <th></th>\n",
       "      <th></th>\n",
       "      <th></th>\n",
       "      <th></th>\n",
       "      <th></th>\n",
       "      <th></th>\n",
       "      <th></th>\n",
       "      <th></th>\n",
       "      <th></th>\n",
       "      <th></th>\n",
       "    </tr>\n",
       "  </thead>\n",
       "  <tbody>\n",
       "    <tr>\n",
       "      <th>0</th>\n",
       "      <td>114</td>\n",
       "      <td>RGI60-05.00115</td>\n",
       "      <td>-52.1262</td>\n",
       "      <td>65.6000</td>\n",
       "      <td>5</td>\n",
       "      <td>1</td>\n",
       "      <td>72.377</td>\n",
       "      <td>143</td>\n",
       "      <td>1139</td>\n",
       "      <td>825</td>\n",
       "      <td>...</td>\n",
       "      <td>115</td>\n",
       "      <td>05.00115</td>\n",
       "      <td>5.00115</td>\n",
       "      <td>307.8738</td>\n",
       "      <td>5.00115_mb_bins.csv</td>\n",
       "      <td>65.50</td>\n",
       "      <td>307.75</td>\n",
       "      <td>6550N-30775E-debris_melt_curve.nc</td>\n",
       "      <td>1.521</td>\n",
       "      <td>1100729</td>\n",
       "    </tr>\n",
       "    <tr>\n",
       "      <th>1</th>\n",
       "      <td>180</td>\n",
       "      <td>RGI60-05.00181</td>\n",
       "      <td>-52.9288</td>\n",
       "      <td>65.7104</td>\n",
       "      <td>5</td>\n",
       "      <td>1</td>\n",
       "      <td>2.060</td>\n",
       "      <td>111</td>\n",
       "      <td>1015</td>\n",
       "      <td>640</td>\n",
       "      <td>...</td>\n",
       "      <td>181</td>\n",
       "      <td>05.00181</td>\n",
       "      <td>5.00181</td>\n",
       "      <td>307.0712</td>\n",
       "      <td>5.00181_mb_bins.csv</td>\n",
       "      <td>65.75</td>\n",
       "      <td>307.00</td>\n",
       "      <td>6575N-30700E-debris_melt_curve.nc</td>\n",
       "      <td>5.290</td>\n",
       "      <td>108966</td>\n",
       "    </tr>\n",
       "    <tr>\n",
       "      <th>2</th>\n",
       "      <td>183</td>\n",
       "      <td>RGI60-05.00184</td>\n",
       "      <td>-52.9527</td>\n",
       "      <td>65.6998</td>\n",
       "      <td>5</td>\n",
       "      <td>1</td>\n",
       "      <td>2.807</td>\n",
       "      <td>241</td>\n",
       "      <td>925</td>\n",
       "      <td>625</td>\n",
       "      <td>...</td>\n",
       "      <td>184</td>\n",
       "      <td>05.00184</td>\n",
       "      <td>5.00184</td>\n",
       "      <td>307.0473</td>\n",
       "      <td>5.00184_mb_bins.csv</td>\n",
       "      <td>65.75</td>\n",
       "      <td>307.00</td>\n",
       "      <td>6575N-30700E-debris_melt_curve.nc</td>\n",
       "      <td>8.273</td>\n",
       "      <td>232227</td>\n",
       "    </tr>\n",
       "    <tr>\n",
       "      <th>3</th>\n",
       "      <td>257</td>\n",
       "      <td>RGI60-05.00258</td>\n",
       "      <td>-52.5941</td>\n",
       "      <td>65.8403</td>\n",
       "      <td>5</td>\n",
       "      <td>1</td>\n",
       "      <td>4.232</td>\n",
       "      <td>378</td>\n",
       "      <td>1526</td>\n",
       "      <td>1010</td>\n",
       "      <td>...</td>\n",
       "      <td>258</td>\n",
       "      <td>05.00258</td>\n",
       "      <td>5.00258</td>\n",
       "      <td>307.4059</td>\n",
       "      <td>5.00258_mb_bins.csv</td>\n",
       "      <td>65.75</td>\n",
       "      <td>307.50</td>\n",
       "      <td>6575N-30750E-debris_melt_curve.nc</td>\n",
       "      <td>5.980</td>\n",
       "      <td>253069</td>\n",
       "    </tr>\n",
       "    <tr>\n",
       "      <th>4</th>\n",
       "      <td>269</td>\n",
       "      <td>RGI60-05.00270</td>\n",
       "      <td>-52.5381</td>\n",
       "      <td>65.8321</td>\n",
       "      <td>5</td>\n",
       "      <td>1</td>\n",
       "      <td>5.630</td>\n",
       "      <td>351</td>\n",
       "      <td>1663</td>\n",
       "      <td>1062</td>\n",
       "      <td>...</td>\n",
       "      <td>270</td>\n",
       "      <td>05.00270</td>\n",
       "      <td>5.00270</td>\n",
       "      <td>307.4619</td>\n",
       "      <td>5.00270_mb_bins.csv</td>\n",
       "      <td>65.75</td>\n",
       "      <td>307.50</td>\n",
       "      <td>6575N-30750E-debris_melt_curve.nc</td>\n",
       "      <td>5.119</td>\n",
       "      <td>288195</td>\n",
       "    </tr>\n",
       "    <tr>\n",
       "      <th>...</th>\n",
       "      <td>...</td>\n",
       "      <td>...</td>\n",
       "      <td>...</td>\n",
       "      <td>...</td>\n",
       "      <td>...</td>\n",
       "      <td>...</td>\n",
       "      <td>...</td>\n",
       "      <td>...</td>\n",
       "      <td>...</td>\n",
       "      <td>...</td>\n",
       "      <td>...</td>\n",
       "      <td>...</td>\n",
       "      <td>...</td>\n",
       "      <td>...</td>\n",
       "      <td>...</td>\n",
       "      <td>...</td>\n",
       "      <td>...</td>\n",
       "      <td>...</td>\n",
       "      <td>...</td>\n",
       "      <td>...</td>\n",
       "      <td>...</td>\n",
       "    </tr>\n",
       "    <tr>\n",
       "      <th>606</th>\n",
       "      <td>20158</td>\n",
       "      <td>RGI60-05.20173</td>\n",
       "      <td>-21.0378</td>\n",
       "      <td>74.7637</td>\n",
       "      <td>5</td>\n",
       "      <td>1</td>\n",
       "      <td>3.393</td>\n",
       "      <td>827</td>\n",
       "      <td>1292</td>\n",
       "      <td>1062</td>\n",
       "      <td>...</td>\n",
       "      <td>20173</td>\n",
       "      <td>05.20173</td>\n",
       "      <td>5.20173</td>\n",
       "      <td>338.9622</td>\n",
       "      <td>5.20173_mb_bins.csv</td>\n",
       "      <td>75.00</td>\n",
       "      <td>339.75</td>\n",
       "      <td>7500N-33975E-debris_melt_curve.nc</td>\n",
       "      <td>5.412</td>\n",
       "      <td>183634</td>\n",
       "    </tr>\n",
       "    <tr>\n",
       "      <th>607</th>\n",
       "      <td>20168</td>\n",
       "      <td>RGI60-05.20183</td>\n",
       "      <td>-22.6020</td>\n",
       "      <td>74.9837</td>\n",
       "      <td>5</td>\n",
       "      <td>1</td>\n",
       "      <td>3.712</td>\n",
       "      <td>1223</td>\n",
       "      <td>1402</td>\n",
       "      <td>1294</td>\n",
       "      <td>...</td>\n",
       "      <td>20183</td>\n",
       "      <td>05.20183</td>\n",
       "      <td>5.20183</td>\n",
       "      <td>337.3980</td>\n",
       "      <td>5.20183_mb_bins.csv</td>\n",
       "      <td>75.00</td>\n",
       "      <td>338.00</td>\n",
       "      <td>7500N-33800E-debris_melt_curve.nc</td>\n",
       "      <td>9.511</td>\n",
       "      <td>353063</td>\n",
       "    </tr>\n",
       "    <tr>\n",
       "      <th>608</th>\n",
       "      <td>20183</td>\n",
       "      <td>RGI60-05.20198</td>\n",
       "      <td>-22.0165</td>\n",
       "      <td>74.9015</td>\n",
       "      <td>5</td>\n",
       "      <td>1</td>\n",
       "      <td>45.809</td>\n",
       "      <td>923</td>\n",
       "      <td>1649</td>\n",
       "      <td>1297</td>\n",
       "      <td>...</td>\n",
       "      <td>20198</td>\n",
       "      <td>05.20198</td>\n",
       "      <td>5.20198</td>\n",
       "      <td>337.9835</td>\n",
       "      <td>5.20198_mb_bins.csv</td>\n",
       "      <td>75.00</td>\n",
       "      <td>338.00</td>\n",
       "      <td>7500N-33800E-debris_melt_curve.nc</td>\n",
       "      <td>5.100</td>\n",
       "      <td>2336088</td>\n",
       "    </tr>\n",
       "    <tr>\n",
       "      <th>609</th>\n",
       "      <td>20216</td>\n",
       "      <td>RGI60-05.20231</td>\n",
       "      <td>-22.1987</td>\n",
       "      <td>75.0658</td>\n",
       "      <td>5</td>\n",
       "      <td>1</td>\n",
       "      <td>4.590</td>\n",
       "      <td>873</td>\n",
       "      <td>1465</td>\n",
       "      <td>1291</td>\n",
       "      <td>...</td>\n",
       "      <td>20231</td>\n",
       "      <td>05.20231</td>\n",
       "      <td>5.20231</td>\n",
       "      <td>337.8013</td>\n",
       "      <td>5.20231_mb_bins.csv</td>\n",
       "      <td>75.00</td>\n",
       "      <td>338.00</td>\n",
       "      <td>7500N-33800E-debris_melt_curve.nc</td>\n",
       "      <td>6.122</td>\n",
       "      <td>281017</td>\n",
       "    </tr>\n",
       "    <tr>\n",
       "      <th>610</th>\n",
       "      <td>20251</td>\n",
       "      <td>RGI60-05.20266</td>\n",
       "      <td>-20.1421</td>\n",
       "      <td>74.9990</td>\n",
       "      <td>5</td>\n",
       "      <td>1</td>\n",
       "      <td>5.599</td>\n",
       "      <td>52</td>\n",
       "      <td>903</td>\n",
       "      <td>266</td>\n",
       "      <td>...</td>\n",
       "      <td>20266</td>\n",
       "      <td>05.20266</td>\n",
       "      <td>5.20266</td>\n",
       "      <td>339.8579</td>\n",
       "      <td>5.20266_mb_bins.csv</td>\n",
       "      <td>75.00</td>\n",
       "      <td>339.75</td>\n",
       "      <td>7500N-33975E-debris_melt_curve.nc</td>\n",
       "      <td>10.280</td>\n",
       "      <td>575551</td>\n",
       "    </tr>\n",
       "  </tbody>\n",
       "</table>\n",
       "<p>611 rows × 27 columns</p>\n",
       "</div>"
      ],
      "text/plain": [
       "        O1Index           RGIId   CenLon   CenLat  O1Region  O2Region    Area  \\\n",
       "GlacNo                                                                          \n",
       "0           114  RGI60-05.00115 -52.1262  65.6000         5         1  72.377   \n",
       "1           180  RGI60-05.00181 -52.9288  65.7104         5         1   2.060   \n",
       "2           183  RGI60-05.00184 -52.9527  65.6998         5         1   2.807   \n",
       "3           257  RGI60-05.00258 -52.5941  65.8403         5         1   4.232   \n",
       "4           269  RGI60-05.00270 -52.5381  65.8321         5         1   5.630   \n",
       "...         ...             ...      ...      ...       ...       ...     ...   \n",
       "606       20158  RGI60-05.20173 -21.0378  74.7637         5         1   3.393   \n",
       "607       20168  RGI60-05.20183 -22.6020  74.9837         5         1   3.712   \n",
       "608       20183  RGI60-05.20198 -22.0165  74.9015         5         1  45.809   \n",
       "609       20216  RGI60-05.20231 -22.1987  75.0658         5         1   4.590   \n",
       "610       20251  RGI60-05.20266 -20.1421  74.9990         5         1   5.599   \n",
       "\n",
       "        Zmin  Zmax  Zmed  ...  glacno  rgino_str  RGIId_float  CenLon_360  \\\n",
       "GlacNo                    ...                                               \n",
       "0        143  1139   825  ...     115   05.00115      5.00115    307.8738   \n",
       "1        111  1015   640  ...     181   05.00181      5.00181    307.0712   \n",
       "2        241   925   625  ...     184   05.00184      5.00184    307.0473   \n",
       "3        378  1526  1010  ...     258   05.00258      5.00258    307.4059   \n",
       "4        351  1663  1062  ...     270   05.00270      5.00270    307.4619   \n",
       "...      ...   ...   ...  ...     ...        ...          ...         ...   \n",
       "606      827  1292  1062  ...   20173   05.20173      5.20173    338.9622   \n",
       "607     1223  1402  1294  ...   20183   05.20183      5.20183    337.3980   \n",
       "608      923  1649  1297  ...   20198   05.20198      5.20198    337.9835   \n",
       "609      873  1465  1291  ...   20231   05.20231      5.20231    337.8013   \n",
       "610       52   903   266  ...   20266   05.20266      5.20266    339.8579   \n",
       "\n",
       "                     bin_fn  lat_nearest  lon_nearest  \\\n",
       "GlacNo                                                  \n",
       "0       5.00115_mb_bins.csv        65.50       307.75   \n",
       "1       5.00181_mb_bins.csv        65.75       307.00   \n",
       "2       5.00184_mb_bins.csv        65.75       307.00   \n",
       "3       5.00258_mb_bins.csv        65.75       307.50   \n",
       "4       5.00270_mb_bins.csv        65.75       307.50   \n",
       "...                     ...          ...          ...   \n",
       "606     5.20173_mb_bins.csv        75.00       339.75   \n",
       "607     5.20183_mb_bins.csv        75.00       338.00   \n",
       "608     5.20198_mb_bins.csv        75.00       338.00   \n",
       "609     5.20231_mb_bins.csv        75.00       338.00   \n",
       "610     5.20266_mb_bins.csv        75.00       339.75   \n",
       "\n",
       "                                ostrem_fn DC_Area_%  DC_Area_v2  \n",
       "GlacNo                                                           \n",
       "0       6550N-30775E-debris_melt_curve.nc     1.521     1100729  \n",
       "1       6575N-30700E-debris_melt_curve.nc     5.290      108966  \n",
       "2       6575N-30700E-debris_melt_curve.nc     8.273      232227  \n",
       "3       6575N-30750E-debris_melt_curve.nc     5.980      253069  \n",
       "4       6575N-30750E-debris_melt_curve.nc     5.119      288195  \n",
       "...                                   ...       ...         ...  \n",
       "606     7500N-33975E-debris_melt_curve.nc     5.412      183634  \n",
       "607     7500N-33800E-debris_melt_curve.nc     9.511      353063  \n",
       "608     7500N-33800E-debris_melt_curve.nc     5.100     2336088  \n",
       "609     7500N-33800E-debris_melt_curve.nc     6.122      281017  \n",
       "610     7500N-33975E-debris_melt_curve.nc    10.280      575551  \n",
       "\n",
       "[611 rows x 27 columns]"
      ]
     },
     "execution_count": 4,
     "metadata": {},
     "output_type": "execute_result"
    }
   ],
   "source": [
    "# Latitude and longitude index to run the model\n",
    "#  Longitude must be 0 - 360 degrees\n",
    "latlon_all = []\n",
    "for i in os.listdir(debris_prms.ostrem_fp):\n",
    "    if i.endswith(debris_prms.ostrem_fn_sample.split('XXXX')[1]):\n",
    "        latlon_fn = i.split(debris_prms.ostrem_fn_sample.split('XXXX')[1])[0]\n",
    "        # Extract latitude\n",
    "        lat_str = latlon_fn.split('-')[0]\n",
    "        if 'N' in lat_str:\n",
    "            i_lat = int(lat_str.split('N')[0]) / 100\n",
    "        elif 'S' in lat_str:\n",
    "            i_lat = -1 * int(lat_str.split('S')[0]) / 100\n",
    "        # Extract longitude\n",
    "        lon_str = latlon_fn.split('-')[1]\n",
    "        i_lon = int(lon_str.split('E')[0]) / 100\n",
    "        latlon_all.append([i_lat, i_lon, i])\n",
    "latlon_all = sorted(latlon_all)\n",
    "\n",
    "lat_all = np.array([x[0] for x in latlon_all])\n",
    "lon_all = np.array([x[1] for x in latlon_all])\n",
    "ostrem_fn_all_raw = [x[2] for x in latlon_all]\n",
    "\n",
    "main_glac_rgi['lat_nearest'] = np.nan\n",
    "main_glac_rgi['lon_nearest'] = np.nan\n",
    "main_glac_rgi['ostrem_fn'] = np.nan\n",
    "for nglac, glac_idx in enumerate(main_glac_rgi.index.values):\n",
    "# for nglac, glac_idx in enumerate([main_glac_rgi.index.values[6855]]):\n",
    "\n",
    "#     if verbose:\n",
    "#         print(nglac, glac_idx, main_glac_rgi.loc[glac_idx,'rgino_str'], \n",
    "#               main_glac_rgi.loc[glac_idx,'CenLat'], main_glac_rgi.loc[glac_idx,'CenLon'])\n",
    "        \n",
    "    latlon_dist = (((main_glac_rgi.loc[glac_idx,'CenLat'] - lat_all)**2 + \n",
    "                    (main_glac_rgi.loc[glac_idx,'CenLon_360'] - lon_all)**2)**0.5)\n",
    "    latlon_nearidx = np.where(latlon_dist == latlon_dist.min())[0][0]\n",
    "    \n",
    "    main_glac_rgi.loc[glac_idx,'lat_nearest'] = lat_all[latlon_nearidx]\n",
    "    main_glac_rgi.loc[glac_idx,'lon_nearest'] = lon_all[latlon_nearidx]\n",
    "    main_glac_rgi.loc[glac_idx,'ostrem_fn'] = ostrem_fn_all_raw[latlon_nearidx]\n",
    "    \n",
    "ostrem_fn_all = sorted(list(np.unique(main_glac_rgi['ostrem_fn'].values)))\n",
    "\n",
    "# Merge with debris cover stats\n",
    "dc_shp = gpd.read_file(debris_prms.debriscover_fp + debris_prms.debriscover_fn_dict[debris_prms.roi])\n",
    "dc_shp = dc_shp.sort_values(by=['RGIId'])\n",
    "dc_shp.reset_index(inplace=True, drop=True)\n",
    "\n",
    "# main_glac_rgi['DC_Area_%'] = 0\n",
    "dc_areaperc_dict = dict(zip(dc_shp.RGIId.values,dc_shp['DC_Area__1'].values))\n",
    "main_glac_rgi['DC_Area_%'] = main_glac_rgi.RGIId.map(dc_areaperc_dict).fillna(0)\n",
    "dc_area_dict = dict(zip(dc_shp.RGIId.values,dc_shp['DC_Area_v2'].values))\n",
    "main_glac_rgi['DC_Area_v2'] = main_glac_rgi.RGIId.map(dc_area_dict).fillna(0)\n",
    "main_glac_rgi"
   ]
  },
  {
   "cell_type": "code",
   "execution_count": 5,
   "metadata": {},
   "outputs": [
    {
     "name": "stdout",
     "output_type": "stream",
     "text": [
      "roi: 05\n"
     ]
    },
    {
     "data": {
      "text/html": [
       "<div>\n",
       "<style scoped>\n",
       "    .dataframe tbody tr th:only-of-type {\n",
       "        vertical-align: middle;\n",
       "    }\n",
       "\n",
       "    .dataframe tbody tr th {\n",
       "        vertical-align: top;\n",
       "    }\n",
       "\n",
       "    .dataframe thead th {\n",
       "        text-align: right;\n",
       "    }\n",
       "</style>\n",
       "<table border=\"1\" class=\"dataframe\">\n",
       "  <thead>\n",
       "    <tr style=\"text-align: right;\">\n",
       "      <th></th>\n",
       "      <th>O1Index</th>\n",
       "      <th>RGIId</th>\n",
       "      <th>CenLon</th>\n",
       "      <th>CenLat</th>\n",
       "      <th>O1Region</th>\n",
       "      <th>O2Region</th>\n",
       "      <th>Area</th>\n",
       "      <th>Zmin</th>\n",
       "      <th>Zmax</th>\n",
       "      <th>Zmed</th>\n",
       "      <th>...</th>\n",
       "      <th>rgino_str</th>\n",
       "      <th>RGIId_float</th>\n",
       "      <th>CenLon_360</th>\n",
       "      <th>bin_fn</th>\n",
       "      <th>lat_nearest</th>\n",
       "      <th>lon_nearest</th>\n",
       "      <th>ostrem_fn</th>\n",
       "      <th>DC_Area_%</th>\n",
       "      <th>DC_Area_v2</th>\n",
       "      <th>mb_data_fullfn</th>\n",
       "    </tr>\n",
       "    <tr>\n",
       "      <th>GlacNo</th>\n",
       "      <th></th>\n",
       "      <th></th>\n",
       "      <th></th>\n",
       "      <th></th>\n",
       "      <th></th>\n",
       "      <th></th>\n",
       "      <th></th>\n",
       "      <th></th>\n",
       "      <th></th>\n",
       "      <th></th>\n",
       "      <th></th>\n",
       "      <th></th>\n",
       "      <th></th>\n",
       "      <th></th>\n",
       "      <th></th>\n",
       "      <th></th>\n",
       "      <th></th>\n",
       "      <th></th>\n",
       "      <th></th>\n",
       "      <th></th>\n",
       "      <th></th>\n",
       "    </tr>\n",
       "  </thead>\n",
       "  <tbody>\n",
       "    <tr>\n",
       "      <th>0</th>\n",
       "      <td>114</td>\n",
       "      <td>RGI60-05.00115</td>\n",
       "      <td>-52.1262</td>\n",
       "      <td>65.6000</td>\n",
       "      <td>5</td>\n",
       "      <td>1</td>\n",
       "      <td>72.377</td>\n",
       "      <td>143</td>\n",
       "      <td>1139</td>\n",
       "      <td>825</td>\n",
       "      <td>...</td>\n",
       "      <td>05.00115</td>\n",
       "      <td>5.00115</td>\n",
       "      <td>307.8738</td>\n",
       "      <td>5.00115_mb_bins.csv</td>\n",
       "      <td>65.50</td>\n",
       "      <td>307.75</td>\n",
       "      <td>6550N-30775E-debris_melt_curve.nc</td>\n",
       "      <td>1.521</td>\n",
       "      <td>1100729</td>\n",
       "      <td>/Users/davidrounce/Documents/Dave_Rounce/Debri...</td>\n",
       "    </tr>\n",
       "    <tr>\n",
       "      <th>1</th>\n",
       "      <td>180</td>\n",
       "      <td>RGI60-05.00181</td>\n",
       "      <td>-52.9288</td>\n",
       "      <td>65.7104</td>\n",
       "      <td>5</td>\n",
       "      <td>1</td>\n",
       "      <td>2.060</td>\n",
       "      <td>111</td>\n",
       "      <td>1015</td>\n",
       "      <td>640</td>\n",
       "      <td>...</td>\n",
       "      <td>05.00181</td>\n",
       "      <td>5.00181</td>\n",
       "      <td>307.0712</td>\n",
       "      <td>5.00181_mb_bins.csv</td>\n",
       "      <td>65.75</td>\n",
       "      <td>307.00</td>\n",
       "      <td>6575N-30700E-debris_melt_curve.nc</td>\n",
       "      <td>5.290</td>\n",
       "      <td>108966</td>\n",
       "      <td>/Users/davidrounce/Documents/Dave_Rounce/Debri...</td>\n",
       "    </tr>\n",
       "    <tr>\n",
       "      <th>2</th>\n",
       "      <td>183</td>\n",
       "      <td>RGI60-05.00184</td>\n",
       "      <td>-52.9527</td>\n",
       "      <td>65.6998</td>\n",
       "      <td>5</td>\n",
       "      <td>1</td>\n",
       "      <td>2.807</td>\n",
       "      <td>241</td>\n",
       "      <td>925</td>\n",
       "      <td>625</td>\n",
       "      <td>...</td>\n",
       "      <td>05.00184</td>\n",
       "      <td>5.00184</td>\n",
       "      <td>307.0473</td>\n",
       "      <td>5.00184_mb_bins.csv</td>\n",
       "      <td>65.75</td>\n",
       "      <td>307.00</td>\n",
       "      <td>6575N-30700E-debris_melt_curve.nc</td>\n",
       "      <td>8.273</td>\n",
       "      <td>232227</td>\n",
       "      <td>/Users/davidrounce/Documents/Dave_Rounce/Debri...</td>\n",
       "    </tr>\n",
       "    <tr>\n",
       "      <th>3</th>\n",
       "      <td>257</td>\n",
       "      <td>RGI60-05.00258</td>\n",
       "      <td>-52.5941</td>\n",
       "      <td>65.8403</td>\n",
       "      <td>5</td>\n",
       "      <td>1</td>\n",
       "      <td>4.232</td>\n",
       "      <td>378</td>\n",
       "      <td>1526</td>\n",
       "      <td>1010</td>\n",
       "      <td>...</td>\n",
       "      <td>05.00258</td>\n",
       "      <td>5.00258</td>\n",
       "      <td>307.4059</td>\n",
       "      <td>5.00258_mb_bins.csv</td>\n",
       "      <td>65.75</td>\n",
       "      <td>307.50</td>\n",
       "      <td>6575N-30750E-debris_melt_curve.nc</td>\n",
       "      <td>5.980</td>\n",
       "      <td>253069</td>\n",
       "      <td>/Users/davidrounce/Documents/Dave_Rounce/Debri...</td>\n",
       "    </tr>\n",
       "    <tr>\n",
       "      <th>4</th>\n",
       "      <td>269</td>\n",
       "      <td>RGI60-05.00270</td>\n",
       "      <td>-52.5381</td>\n",
       "      <td>65.8321</td>\n",
       "      <td>5</td>\n",
       "      <td>1</td>\n",
       "      <td>5.630</td>\n",
       "      <td>351</td>\n",
       "      <td>1663</td>\n",
       "      <td>1062</td>\n",
       "      <td>...</td>\n",
       "      <td>05.00270</td>\n",
       "      <td>5.00270</td>\n",
       "      <td>307.4619</td>\n",
       "      <td>5.00270_mb_bins.csv</td>\n",
       "      <td>65.75</td>\n",
       "      <td>307.50</td>\n",
       "      <td>6575N-30750E-debris_melt_curve.nc</td>\n",
       "      <td>5.119</td>\n",
       "      <td>288195</td>\n",
       "      <td>/Users/davidrounce/Documents/Dave_Rounce/Debri...</td>\n",
       "    </tr>\n",
       "    <tr>\n",
       "      <th>...</th>\n",
       "      <td>...</td>\n",
       "      <td>...</td>\n",
       "      <td>...</td>\n",
       "      <td>...</td>\n",
       "      <td>...</td>\n",
       "      <td>...</td>\n",
       "      <td>...</td>\n",
       "      <td>...</td>\n",
       "      <td>...</td>\n",
       "      <td>...</td>\n",
       "      <td>...</td>\n",
       "      <td>...</td>\n",
       "      <td>...</td>\n",
       "      <td>...</td>\n",
       "      <td>...</td>\n",
       "      <td>...</td>\n",
       "      <td>...</td>\n",
       "      <td>...</td>\n",
       "      <td>...</td>\n",
       "      <td>...</td>\n",
       "      <td>...</td>\n",
       "    </tr>\n",
       "    <tr>\n",
       "      <th>606</th>\n",
       "      <td>20158</td>\n",
       "      <td>RGI60-05.20173</td>\n",
       "      <td>-21.0378</td>\n",
       "      <td>74.7637</td>\n",
       "      <td>5</td>\n",
       "      <td>1</td>\n",
       "      <td>3.393</td>\n",
       "      <td>827</td>\n",
       "      <td>1292</td>\n",
       "      <td>1062</td>\n",
       "      <td>...</td>\n",
       "      <td>05.20173</td>\n",
       "      <td>5.20173</td>\n",
       "      <td>338.9622</td>\n",
       "      <td>5.20173_mb_bins.csv</td>\n",
       "      <td>75.00</td>\n",
       "      <td>339.75</td>\n",
       "      <td>7500N-33975E-debris_melt_curve.nc</td>\n",
       "      <td>5.412</td>\n",
       "      <td>183634</td>\n",
       "      <td>/Users/davidrounce/Documents/Dave_Rounce/Debri...</td>\n",
       "    </tr>\n",
       "    <tr>\n",
       "      <th>607</th>\n",
       "      <td>20168</td>\n",
       "      <td>RGI60-05.20183</td>\n",
       "      <td>-22.6020</td>\n",
       "      <td>74.9837</td>\n",
       "      <td>5</td>\n",
       "      <td>1</td>\n",
       "      <td>3.712</td>\n",
       "      <td>1223</td>\n",
       "      <td>1402</td>\n",
       "      <td>1294</td>\n",
       "      <td>...</td>\n",
       "      <td>05.20183</td>\n",
       "      <td>5.20183</td>\n",
       "      <td>337.3980</td>\n",
       "      <td>5.20183_mb_bins.csv</td>\n",
       "      <td>75.00</td>\n",
       "      <td>338.00</td>\n",
       "      <td>7500N-33800E-debris_melt_curve.nc</td>\n",
       "      <td>9.511</td>\n",
       "      <td>353063</td>\n",
       "      <td>/Users/davidrounce/Documents/Dave_Rounce/Debri...</td>\n",
       "    </tr>\n",
       "    <tr>\n",
       "      <th>608</th>\n",
       "      <td>20183</td>\n",
       "      <td>RGI60-05.20198</td>\n",
       "      <td>-22.0165</td>\n",
       "      <td>74.9015</td>\n",
       "      <td>5</td>\n",
       "      <td>1</td>\n",
       "      <td>45.809</td>\n",
       "      <td>923</td>\n",
       "      <td>1649</td>\n",
       "      <td>1297</td>\n",
       "      <td>...</td>\n",
       "      <td>05.20198</td>\n",
       "      <td>5.20198</td>\n",
       "      <td>337.9835</td>\n",
       "      <td>5.20198_mb_bins.csv</td>\n",
       "      <td>75.00</td>\n",
       "      <td>338.00</td>\n",
       "      <td>7500N-33800E-debris_melt_curve.nc</td>\n",
       "      <td>5.100</td>\n",
       "      <td>2336088</td>\n",
       "      <td>/Users/davidrounce/Documents/Dave_Rounce/Debri...</td>\n",
       "    </tr>\n",
       "    <tr>\n",
       "      <th>609</th>\n",
       "      <td>20216</td>\n",
       "      <td>RGI60-05.20231</td>\n",
       "      <td>-22.1987</td>\n",
       "      <td>75.0658</td>\n",
       "      <td>5</td>\n",
       "      <td>1</td>\n",
       "      <td>4.590</td>\n",
       "      <td>873</td>\n",
       "      <td>1465</td>\n",
       "      <td>1291</td>\n",
       "      <td>...</td>\n",
       "      <td>05.20231</td>\n",
       "      <td>5.20231</td>\n",
       "      <td>337.8013</td>\n",
       "      <td>5.20231_mb_bins.csv</td>\n",
       "      <td>75.00</td>\n",
       "      <td>338.00</td>\n",
       "      <td>7500N-33800E-debris_melt_curve.nc</td>\n",
       "      <td>6.122</td>\n",
       "      <td>281017</td>\n",
       "      <td>/Users/davidrounce/Documents/Dave_Rounce/Debri...</td>\n",
       "    </tr>\n",
       "    <tr>\n",
       "      <th>610</th>\n",
       "      <td>20251</td>\n",
       "      <td>RGI60-05.20266</td>\n",
       "      <td>-20.1421</td>\n",
       "      <td>74.9990</td>\n",
       "      <td>5</td>\n",
       "      <td>1</td>\n",
       "      <td>5.599</td>\n",
       "      <td>52</td>\n",
       "      <td>903</td>\n",
       "      <td>266</td>\n",
       "      <td>...</td>\n",
       "      <td>05.20266</td>\n",
       "      <td>5.20266</td>\n",
       "      <td>339.8579</td>\n",
       "      <td>5.20266_mb_bins.csv</td>\n",
       "      <td>75.00</td>\n",
       "      <td>339.75</td>\n",
       "      <td>7500N-33975E-debris_melt_curve.nc</td>\n",
       "      <td>10.280</td>\n",
       "      <td>575551</td>\n",
       "      <td>/Users/davidrounce/Documents/Dave_Rounce/Debri...</td>\n",
       "    </tr>\n",
       "  </tbody>\n",
       "</table>\n",
       "<p>611 rows × 28 columns</p>\n",
       "</div>"
      ],
      "text/plain": [
       "        O1Index           RGIId   CenLon   CenLat  O1Region  O2Region    Area  \\\n",
       "GlacNo                                                                          \n",
       "0           114  RGI60-05.00115 -52.1262  65.6000         5         1  72.377   \n",
       "1           180  RGI60-05.00181 -52.9288  65.7104         5         1   2.060   \n",
       "2           183  RGI60-05.00184 -52.9527  65.6998         5         1   2.807   \n",
       "3           257  RGI60-05.00258 -52.5941  65.8403         5         1   4.232   \n",
       "4           269  RGI60-05.00270 -52.5381  65.8321         5         1   5.630   \n",
       "...         ...             ...      ...      ...       ...       ...     ...   \n",
       "606       20158  RGI60-05.20173 -21.0378  74.7637         5         1   3.393   \n",
       "607       20168  RGI60-05.20183 -22.6020  74.9837         5         1   3.712   \n",
       "608       20183  RGI60-05.20198 -22.0165  74.9015         5         1  45.809   \n",
       "609       20216  RGI60-05.20231 -22.1987  75.0658         5         1   4.590   \n",
       "610       20251  RGI60-05.20266 -20.1421  74.9990         5         1   5.599   \n",
       "\n",
       "        Zmin  Zmax  Zmed  ...  rgino_str  RGIId_float  CenLon_360  \\\n",
       "GlacNo                    ...                                       \n",
       "0        143  1139   825  ...   05.00115      5.00115    307.8738   \n",
       "1        111  1015   640  ...   05.00181      5.00181    307.0712   \n",
       "2        241   925   625  ...   05.00184      5.00184    307.0473   \n",
       "3        378  1526  1010  ...   05.00258      5.00258    307.4059   \n",
       "4        351  1663  1062  ...   05.00270      5.00270    307.4619   \n",
       "...      ...   ...   ...  ...        ...          ...         ...   \n",
       "606      827  1292  1062  ...   05.20173      5.20173    338.9622   \n",
       "607     1223  1402  1294  ...   05.20183      5.20183    337.3980   \n",
       "608      923  1649  1297  ...   05.20198      5.20198    337.9835   \n",
       "609      873  1465  1291  ...   05.20231      5.20231    337.8013   \n",
       "610       52   903   266  ...   05.20266      5.20266    339.8579   \n",
       "\n",
       "                     bin_fn  lat_nearest  lon_nearest  \\\n",
       "GlacNo                                                  \n",
       "0       5.00115_mb_bins.csv        65.50       307.75   \n",
       "1       5.00181_mb_bins.csv        65.75       307.00   \n",
       "2       5.00184_mb_bins.csv        65.75       307.00   \n",
       "3       5.00258_mb_bins.csv        65.75       307.50   \n",
       "4       5.00270_mb_bins.csv        65.75       307.50   \n",
       "...                     ...          ...          ...   \n",
       "606     5.20173_mb_bins.csv        75.00       339.75   \n",
       "607     5.20183_mb_bins.csv        75.00       338.00   \n",
       "608     5.20198_mb_bins.csv        75.00       338.00   \n",
       "609     5.20231_mb_bins.csv        75.00       338.00   \n",
       "610     5.20266_mb_bins.csv        75.00       339.75   \n",
       "\n",
       "                                ostrem_fn  DC_Area_% DC_Area_v2  \\\n",
       "GlacNo                                                            \n",
       "0       6550N-30775E-debris_melt_curve.nc      1.521    1100729   \n",
       "1       6575N-30700E-debris_melt_curve.nc      5.290     108966   \n",
       "2       6575N-30700E-debris_melt_curve.nc      8.273     232227   \n",
       "3       6575N-30750E-debris_melt_curve.nc      5.980     253069   \n",
       "4       6575N-30750E-debris_melt_curve.nc      5.119     288195   \n",
       "...                                   ...        ...        ...   \n",
       "606     7500N-33975E-debris_melt_curve.nc      5.412     183634   \n",
       "607     7500N-33800E-debris_melt_curve.nc      9.511     353063   \n",
       "608     7500N-33800E-debris_melt_curve.nc      5.100    2336088   \n",
       "609     7500N-33800E-debris_melt_curve.nc      6.122     281017   \n",
       "610     7500N-33975E-debris_melt_curve.nc     10.280     575551   \n",
       "\n",
       "                                           mb_data_fullfn  \n",
       "GlacNo                                                     \n",
       "0       /Users/davidrounce/Documents/Dave_Rounce/Debri...  \n",
       "1       /Users/davidrounce/Documents/Dave_Rounce/Debri...  \n",
       "2       /Users/davidrounce/Documents/Dave_Rounce/Debri...  \n",
       "3       /Users/davidrounce/Documents/Dave_Rounce/Debri...  \n",
       "4       /Users/davidrounce/Documents/Dave_Rounce/Debri...  \n",
       "...                                                   ...  \n",
       "606     /Users/davidrounce/Documents/Dave_Rounce/Debri...  \n",
       "607     /Users/davidrounce/Documents/Dave_Rounce/Debri...  \n",
       "608     /Users/davidrounce/Documents/Dave_Rounce/Debri...  \n",
       "609     /Users/davidrounce/Documents/Dave_Rounce/Debri...  \n",
       "610     /Users/davidrounce/Documents/Dave_Rounce/Debri...  \n",
       "\n",
       "[611 rows x 28 columns]"
      ]
     },
     "execution_count": 5,
     "metadata": {},
     "output_type": "execute_result"
    }
   ],
   "source": [
    "# Add the original mass balance filenames for z_offset adjustments\n",
    "mb_data_fullfn_dict = {}\n",
    "# for mb_dataset in debris_prms.mb_datasets:\n",
    "#     mb_binned_fp = debris_prms.mb_dataset_fp_dict[mb_dataset]    \n",
    "for i in os.listdir(debris_prms.mb_binned_fp):\n",
    "    if i.endswith('_mb_bins.csv'):\n",
    "        rgiid_raw = i.split('_')[0]\n",
    "        rgiid = 'RGI60-' + rgiid_raw.split('.')[0].zfill(2) + '.' + rgiid_raw.split('.')[1]\n",
    "        mb_data_fullfn_dict[rgiid] = debris_prms.mb_binned_fp + i\n",
    "\n",
    "main_glac_rgi['mb_data_fullfn'] = main_glac_rgi.RGIId.map(mb_data_fullfn_dict)\n",
    "            \n",
    "print('roi:', debris_prms.roi)\n",
    "main_glac_rgi"
   ]
  },
  {
   "cell_type": "code",
   "execution_count": 6,
   "metadata": {},
   "outputs": [
    {
     "name": "stdout",
     "output_type": "stream",
     "text": [
      "1 of 226 :\n",
      "   6000N-31650E-debris_melt_curve.nc\n",
      "   6000N-31650E-debris_ts_curve.nc\n",
      "   5.03396\n"
     ]
    },
    {
     "name": "stderr",
     "output_type": "stream",
     "text": [
      "/Users/davidrounce/anaconda3/envs/debris_thickness_global/lib/python3.6/site-packages/pyproj/crs.py:77: FutureWarning: '+init=<authority>:<code>' syntax is deprecated. '<authority>:<code>' is the preferred initialization method.\n",
      "  return _prepare_from_string(\" \".join(pjargs))\n"
     ]
    },
    {
     "name": "stdout",
     "output_type": "stream",
     "text": [
      "2 of 226 :\n",
      "   6025N-31600E-debris_melt_curve.nc\n",
      "   6025N-31600E-debris_ts_curve.nc\n",
      "   5.03653\n"
     ]
    },
    {
     "name": "stderr",
     "output_type": "stream",
     "text": [
      "/Users/davidrounce/anaconda3/envs/debris_thickness_global/lib/python3.6/site-packages/pyproj/crs.py:77: FutureWarning: '+init=<authority>:<code>' syntax is deprecated. '<authority>:<code>' is the preferred initialization method.\n",
      "  return _prepare_from_string(\" \".join(pjargs))\n"
     ]
    },
    {
     "name": "stdout",
     "output_type": "stream",
     "text": [
      "   5.03731\n",
      "   5.04339\n",
      "3 of 226 :\n",
      "   6025N-31675E-debris_melt_curve.nc\n",
      "   6025N-31675E-debris_ts_curve.nc\n",
      "   5.04342\n"
     ]
    },
    {
     "name": "stderr",
     "output_type": "stream",
     "text": [
      "/Users/davidrounce/anaconda3/envs/debris_thickness_global/lib/python3.6/site-packages/pyproj/crs.py:77: FutureWarning: '+init=<authority>:<code>' syntax is deprecated. '<authority>:<code>' is the preferred initialization method.\n",
      "  return _prepare_from_string(\" \".join(pjargs))\n"
     ]
    },
    {
     "name": "stdout",
     "output_type": "stream",
     "text": [
      "4 of 226 :\n",
      "   6050N-31575E-debris_melt_curve.nc\n",
      "   6050N-31575E-debris_ts_curve.nc\n",
      "   5.03904\n"
     ]
    },
    {
     "name": "stderr",
     "output_type": "stream",
     "text": [
      "/Users/davidrounce/anaconda3/envs/debris_thickness_global/lib/python3.6/site-packages/pyproj/crs.py:77: FutureWarning: '+init=<authority>:<code>' syntax is deprecated. '<authority>:<code>' is the preferred initialization method.\n",
      "  return _prepare_from_string(\" \".join(pjargs))\n"
     ]
    },
    {
     "name": "stdout",
     "output_type": "stream",
     "text": [
      "   5.04285\n",
      "   5.04288\n",
      "   5.04294\n",
      "5 of 226 :\n",
      "   6050N-31600E-debris_melt_curve.nc\n",
      "   6050N-31600E-debris_ts_curve.nc\n",
      "   5.04392\n"
     ]
    },
    {
     "name": "stderr",
     "output_type": "stream",
     "text": [
      "/Users/davidrounce/anaconda3/envs/debris_thickness_global/lib/python3.6/site-packages/pyproj/crs.py:77: FutureWarning: '+init=<authority>:<code>' syntax is deprecated. '<authority>:<code>' is the preferred initialization method.\n",
      "  return _prepare_from_string(\" \".join(pjargs))\n"
     ]
    },
    {
     "name": "stdout",
     "output_type": "stream",
     "text": [
      "6 of 226 :\n",
      "   6050N-31625E-debris_melt_curve.nc\n",
      "   6050N-31625E-debris_ts_curve.nc\n",
      "   5.04014\n"
     ]
    },
    {
     "name": "stderr",
     "output_type": "stream",
     "text": [
      "/Users/davidrounce/anaconda3/envs/debris_thickness_global/lib/python3.6/site-packages/pyproj/crs.py:77: FutureWarning: '+init=<authority>:<code>' syntax is deprecated. '<authority>:<code>' is the preferred initialization method.\n",
      "  return _prepare_from_string(\" \".join(pjargs))\n"
     ]
    },
    {
     "name": "stdout",
     "output_type": "stream",
     "text": [
      "   5.04017\n",
      "   5.04178\n",
      "7 of 226 :\n",
      "   6050N-31650E-debris_melt_curve.nc\n",
      "   6050N-31650E-debris_ts_curve.nc\n",
      "   5.04266\n"
     ]
    },
    {
     "name": "stderr",
     "output_type": "stream",
     "text": [
      "/Users/davidrounce/anaconda3/envs/debris_thickness_global/lib/python3.6/site-packages/pyproj/crs.py:77: FutureWarning: '+init=<authority>:<code>' syntax is deprecated. '<authority>:<code>' is the preferred initialization method.\n",
      "  return _prepare_from_string(\" \".join(pjargs))\n",
      "/Users/davidrounce/anaconda3/envs/debris_thickness_global/lib/python3.6/site-packages/numpy/ma/core.py:4008: RuntimeWarning: invalid value encountered in equal\n",
      "  check = compare(sdata, odata)\n"
     ]
    },
    {
     "name": "stdout",
     "output_type": "stream",
     "text": [
      "   5.04272\n",
      "   5.04293\n",
      "   5.04554\n",
      "   5.04557\n",
      "   5.04565\n",
      "8 of 226 :\n",
      "   6075N-31525E-debris_melt_curve.nc\n",
      "   6075N-31525E-debris_ts_curve.nc\n",
      "   5.04591\n"
     ]
    },
    {
     "name": "stderr",
     "output_type": "stream",
     "text": [
      "/Users/davidrounce/anaconda3/envs/debris_thickness_global/lib/python3.6/site-packages/pyproj/crs.py:77: FutureWarning: '+init=<authority>:<code>' syntax is deprecated. '<authority>:<code>' is the preferred initialization method.\n",
      "  return _prepare_from_string(\" \".join(pjargs))\n"
     ]
    },
    {
     "name": "stdout",
     "output_type": "stream",
     "text": [
      "9 of 226 :\n",
      "   6075N-31625E-debris_melt_curve.nc\n",
      "   6075N-31625E-debris_ts_curve.nc\n",
      "   5.04389\n"
     ]
    },
    {
     "name": "stderr",
     "output_type": "stream",
     "text": [
      "/Users/davidrounce/anaconda3/envs/debris_thickness_global/lib/python3.6/site-packages/pyproj/crs.py:77: FutureWarning: '+init=<authority>:<code>' syntax is deprecated. '<authority>:<code>' is the preferred initialization method.\n",
      "  return _prepare_from_string(\" \".join(pjargs))\n"
     ]
    },
    {
     "name": "stdout",
     "output_type": "stream",
     "text": [
      "10 of 226 :\n",
      "   6075N-31650E-debris_melt_curve.nc\n",
      "   6075N-31650E-debris_ts_curve.nc\n",
      "   5.04700\n"
     ]
    },
    {
     "name": "stderr",
     "output_type": "stream",
     "text": [
      "/Users/davidrounce/anaconda3/envs/debris_thickness_global/lib/python3.6/site-packages/pyproj/crs.py:77: FutureWarning: '+init=<authority>:<code>' syntax is deprecated. '<authority>:<code>' is the preferred initialization method.\n",
      "  return _prepare_from_string(\" \".join(pjargs))\n"
     ]
    },
    {
     "name": "stdout",
     "output_type": "stream",
     "text": [
      "11 of 226 :\n",
      "   6075N-31700E-debris_melt_curve.nc\n",
      "   6075N-31700E-debris_ts_curve.nc\n",
      "   5.04525\n"
     ]
    },
    {
     "name": "stderr",
     "output_type": "stream",
     "text": [
      "/Users/davidrounce/anaconda3/envs/debris_thickness_global/lib/python3.6/site-packages/pyproj/crs.py:77: FutureWarning: '+init=<authority>:<code>' syntax is deprecated. '<authority>:<code>' is the preferred initialization method.\n",
      "  return _prepare_from_string(\" \".join(pjargs))\n"
     ]
    },
    {
     "name": "stdout",
     "output_type": "stream",
     "text": [
      "12 of 226 :\n",
      "   6125N-31625E-debris_melt_curve.nc\n",
      "   6125N-31625E-debris_ts_curve.nc\n",
      "   5.04908\n"
     ]
    },
    {
     "name": "stderr",
     "output_type": "stream",
     "text": [
      "/Users/davidrounce/anaconda3/envs/debris_thickness_global/lib/python3.6/site-packages/pyproj/crs.py:77: FutureWarning: '+init=<authority>:<code>' syntax is deprecated. '<authority>:<code>' is the preferred initialization method.\n",
      "  return _prepare_from_string(\" \".join(pjargs))\n"
     ]
    },
    {
     "name": "stdout",
     "output_type": "stream",
     "text": [
      "13 of 226 :\n",
      "   6125N-31675E-debris_melt_curve.nc\n",
      "   6125N-31675E-debris_ts_curve.nc\n",
      "   5.04950\n"
     ]
    },
    {
     "name": "stderr",
     "output_type": "stream",
     "text": [
      "/Users/davidrounce/anaconda3/envs/debris_thickness_global/lib/python3.6/site-packages/pyproj/crs.py:77: FutureWarning: '+init=<authority>:<code>' syntax is deprecated. '<authority>:<code>' is the preferred initialization method.\n",
      "  return _prepare_from_string(\" \".join(pjargs))\n"
     ]
    },
    {
     "name": "stdout",
     "output_type": "stream",
     "text": [
      "14 of 226 :\n",
      "   6275N-31700E-debris_melt_curve.nc\n",
      "   6275N-31700E-debris_ts_curve.nc\n",
      "   5.05684\n"
     ]
    },
    {
     "name": "stderr",
     "output_type": "stream",
     "text": [
      "/Users/davidrounce/anaconda3/envs/debris_thickness_global/lib/python3.6/site-packages/pyproj/crs.py:77: FutureWarning: '+init=<authority>:<code>' syntax is deprecated. '<authority>:<code>' is the preferred initialization method.\n",
      "  return _prepare_from_string(\" \".join(pjargs))\n"
     ]
    },
    {
     "name": "stdout",
     "output_type": "stream",
     "text": [
      "   5.05686\n",
      "   5.05690\n",
      "   5.05697\n",
      "   5.05957\n",
      "15 of 226 :\n",
      "   6275N-31725E-debris_melt_curve.nc\n",
      "   6275N-31725E-debris_ts_curve.nc\n",
      "   5.05483\n"
     ]
    },
    {
     "name": "stderr",
     "output_type": "stream",
     "text": [
      "/Users/davidrounce/anaconda3/envs/debris_thickness_global/lib/python3.6/site-packages/pyproj/crs.py:77: FutureWarning: '+init=<authority>:<code>' syntax is deprecated. '<authority>:<code>' is the preferred initialization method.\n",
      "  return _prepare_from_string(\" \".join(pjargs))\n"
     ]
    },
    {
     "name": "stdout",
     "output_type": "stream",
     "text": [
      "   5.05565\n",
      "   5.05593\n",
      "   5.05680\n",
      "   5.05691\n",
      "16 of 226 :\n",
      "   6300N-31800E-debris_melt_curve.nc\n",
      "   6300N-31800E-debris_ts_curve.nc\n",
      "   5.05515\n"
     ]
    },
    {
     "name": "stderr",
     "output_type": "stream",
     "text": [
      "/Users/davidrounce/anaconda3/envs/debris_thickness_global/lib/python3.6/site-packages/pyproj/crs.py:77: FutureWarning: '+init=<authority>:<code>' syntax is deprecated. '<authority>:<code>' is the preferred initialization method.\n",
      "  return _prepare_from_string(\" \".join(pjargs))\n"
     ]
    },
    {
     "name": "stdout",
     "output_type": "stream",
     "text": [
      "   5.05833\n",
      "   5.05867\n",
      "   5.05931\n",
      "17 of 226 :\n",
      "   6300N-31825E-debris_melt_curve.nc\n",
      "   6300N-31825E-debris_ts_curve.nc\n",
      "   5.05881\n"
     ]
    },
    {
     "name": "stderr",
     "output_type": "stream",
     "text": [
      "/Users/davidrounce/anaconda3/envs/debris_thickness_global/lib/python3.6/site-packages/pyproj/crs.py:77: FutureWarning: '+init=<authority>:<code>' syntax is deprecated. '<authority>:<code>' is the preferred initialization method.\n",
      "  return _prepare_from_string(\" \".join(pjargs))\n"
     ]
    },
    {
     "name": "stdout",
     "output_type": "stream",
     "text": [
      "   5.05996\n",
      "   5.05998\n",
      "18 of 226 :\n",
      "   6325N-31800E-debris_melt_curve.nc\n",
      "   6325N-31800E-debris_ts_curve.nc\n",
      "   5.06079\n"
     ]
    },
    {
     "name": "stderr",
     "output_type": "stream",
     "text": [
      "/Users/davidrounce/anaconda3/envs/debris_thickness_global/lib/python3.6/site-packages/pyproj/crs.py:77: FutureWarning: '+init=<authority>:<code>' syntax is deprecated. '<authority>:<code>' is the preferred initialization method.\n",
      "  return _prepare_from_string(\" \".join(pjargs))\n"
     ]
    },
    {
     "name": "stdout",
     "output_type": "stream",
     "text": [
      "   5.06199\n",
      "   5.06256\n",
      "19 of 226 :\n",
      "   6325N-31850E-debris_melt_curve.nc\n",
      "   6325N-31850E-debris_ts_curve.nc\n",
      "   5.06305\n"
     ]
    },
    {
     "name": "stderr",
     "output_type": "stream",
     "text": [
      "/Users/davidrounce/anaconda3/envs/debris_thickness_global/lib/python3.6/site-packages/pyproj/crs.py:77: FutureWarning: '+init=<authority>:<code>' syntax is deprecated. '<authority>:<code>' is the preferred initialization method.\n",
      "  return _prepare_from_string(\" \".join(pjargs))\n"
     ]
    },
    {
     "name": "stdout",
     "output_type": "stream",
     "text": [
      "   5.06397\n",
      "20 of 226 :\n",
      "   6350N-30900E-debris_melt_curve.nc\n",
      "   6350N-30900E-debris_ts_curve.nc\n",
      "   5.06666\n"
     ]
    },
    {
     "name": "stderr",
     "output_type": "stream",
     "text": [
      "/Users/davidrounce/anaconda3/envs/debris_thickness_global/lib/python3.6/site-packages/pyproj/crs.py:77: FutureWarning: '+init=<authority>:<code>' syntax is deprecated. '<authority>:<code>' is the preferred initialization method.\n",
      "  return _prepare_from_string(\" \".join(pjargs))\n"
     ]
    },
    {
     "name": "stdout",
     "output_type": "stream",
     "text": [
      "21 of 226 :\n",
      "   6350N-30950E-debris_melt_curve.nc\n",
      "   6350N-30950E-debris_ts_curve.nc\n",
      "   5.06921\n"
     ]
    },
    {
     "name": "stderr",
     "output_type": "stream",
     "text": [
      "/Users/davidrounce/anaconda3/envs/debris_thickness_global/lib/python3.6/site-packages/pyproj/crs.py:77: FutureWarning: '+init=<authority>:<code>' syntax is deprecated. '<authority>:<code>' is the preferred initialization method.\n",
      "  return _prepare_from_string(\" \".join(pjargs))\n"
     ]
    },
    {
     "name": "stdout",
     "output_type": "stream",
     "text": [
      "22 of 226 :\n",
      "   6350N-31800E-debris_melt_curve.nc\n",
      "   6350N-31800E-debris_ts_curve.nc\n",
      "   5.06520\n"
     ]
    },
    {
     "name": "stderr",
     "output_type": "stream",
     "text": [
      "/Users/davidrounce/anaconda3/envs/debris_thickness_global/lib/python3.6/site-packages/pyproj/crs.py:77: FutureWarning: '+init=<authority>:<code>' syntax is deprecated. '<authority>:<code>' is the preferred initialization method.\n",
      "  return _prepare_from_string(\" \".join(pjargs))\n"
     ]
    },
    {
     "name": "stdout",
     "output_type": "stream",
     "text": [
      "   5.06545\n",
      "23 of 226 :\n",
      "   6350N-31825E-debris_melt_curve.nc\n",
      "   6350N-31825E-debris_ts_curve.nc\n",
      "   5.06419\n"
     ]
    },
    {
     "name": "stderr",
     "output_type": "stream",
     "text": [
      "/Users/davidrounce/anaconda3/envs/debris_thickness_global/lib/python3.6/site-packages/pyproj/crs.py:77: FutureWarning: '+init=<authority>:<code>' syntax is deprecated. '<authority>:<code>' is the preferred initialization method.\n",
      "  return _prepare_from_string(\" \".join(pjargs))\n"
     ]
    },
    {
     "name": "stdout",
     "output_type": "stream",
     "text": [
      "   5.06485\n",
      "   5.06486\n"
     ]
    },
    {
     "name": "stderr",
     "output_type": "stream",
     "text": [
      "/Users/davidrounce/anaconda3/envs/debris_thickness_global/lib/python3.6/site-packages/numpy/ma/core.py:1015: RuntimeWarning: overflow encountered in multiply\n",
      "  result = self.f(da, db, *args, **kwargs)\n"
     ]
    },
    {
     "name": "stdout",
     "output_type": "stream",
     "text": [
      "   5.06630\n",
      "24 of 226 :\n",
      "   6350N-31850E-debris_melt_curve.nc\n",
      "   6350N-31850E-debris_ts_curve.nc\n",
      "   5.06416\n"
     ]
    },
    {
     "name": "stderr",
     "output_type": "stream",
     "text": [
      "/Users/davidrounce/anaconda3/envs/debris_thickness_global/lib/python3.6/site-packages/pyproj/crs.py:77: FutureWarning: '+init=<authority>:<code>' syntax is deprecated. '<authority>:<code>' is the preferred initialization method.\n",
      "  return _prepare_from_string(\" \".join(pjargs))\n"
     ]
    },
    {
     "name": "stdout",
     "output_type": "stream",
     "text": [
      "25 of 226 :\n",
      "   6350N-31875E-debris_melt_curve.nc\n",
      "   6350N-31875E-debris_ts_curve.nc\n",
      "   5.06616\n"
     ]
    },
    {
     "name": "stderr",
     "output_type": "stream",
     "text": [
      "/Users/davidrounce/anaconda3/envs/debris_thickness_global/lib/python3.6/site-packages/pyproj/crs.py:77: FutureWarning: '+init=<authority>:<code>' syntax is deprecated. '<authority>:<code>' is the preferred initialization method.\n",
      "  return _prepare_from_string(\" \".join(pjargs))\n"
     ]
    },
    {
     "name": "stdout",
     "output_type": "stream",
     "text": [
      "   5.06803\n",
      "26 of 226 :\n",
      "   6350N-31900E-debris_melt_curve.nc\n",
      "   6350N-31900E-debris_ts_curve.nc\n",
      "   5.06638\n"
     ]
    },
    {
     "name": "stderr",
     "output_type": "stream",
     "text": [
      "/Users/davidrounce/anaconda3/envs/debris_thickness_global/lib/python3.6/site-packages/pyproj/crs.py:77: FutureWarning: '+init=<authority>:<code>' syntax is deprecated. '<authority>:<code>' is the preferred initialization method.\n",
      "  return _prepare_from_string(\" \".join(pjargs))\n"
     ]
    },
    {
     "name": "stdout",
     "output_type": "stream",
     "text": [
      "   5.06804\n",
      "27 of 226 :\n",
      "   6375N-30925E-debris_melt_curve.nc\n",
      "   6375N-30925E-debris_ts_curve.nc\n",
      "   5.07045\n"
     ]
    },
    {
     "name": "stderr",
     "output_type": "stream",
     "text": [
      "/Users/davidrounce/anaconda3/envs/debris_thickness_global/lib/python3.6/site-packages/pyproj/crs.py:77: FutureWarning: '+init=<authority>:<code>' syntax is deprecated. '<authority>:<code>' is the preferred initialization method.\n",
      "  return _prepare_from_string(\" \".join(pjargs))\n"
     ]
    },
    {
     "name": "stdout",
     "output_type": "stream",
     "text": [
      "   5.07052\n",
      "28 of 226 :\n",
      "   6375N-30950E-debris_melt_curve.nc\n",
      "   6375N-30950E-debris_ts_curve.nc\n",
      "   5.06823\n"
     ]
    },
    {
     "name": "stderr",
     "output_type": "stream",
     "text": [
      "/Users/davidrounce/anaconda3/envs/debris_thickness_global/lib/python3.6/site-packages/pyproj/crs.py:77: FutureWarning: '+init=<authority>:<code>' syntax is deprecated. '<authority>:<code>' is the preferred initialization method.\n",
      "  return _prepare_from_string(\" \".join(pjargs))\n"
     ]
    },
    {
     "name": "stdout",
     "output_type": "stream",
     "text": [
      "   5.06864\n",
      "   5.07026\n",
      "   5.07067\n",
      "   5.07069\n",
      "29 of 226 :\n",
      "   6375N-31850E-debris_melt_curve.nc\n",
      "   6375N-31850E-debris_ts_curve.nc\n",
      "   5.06786\n"
     ]
    },
    {
     "name": "stderr",
     "output_type": "stream",
     "text": [
      "/Users/davidrounce/anaconda3/envs/debris_thickness_global/lib/python3.6/site-packages/pyproj/crs.py:77: FutureWarning: '+init=<authority>:<code>' syntax is deprecated. '<authority>:<code>' is the preferred initialization method.\n",
      "  return _prepare_from_string(\" \".join(pjargs))\n"
     ]
    },
    {
     "name": "stdout",
     "output_type": "stream",
     "text": [
      "30 of 226 :\n",
      "   6400N-30925E-debris_melt_curve.nc\n",
      "   6400N-30925E-debris_ts_curve.nc\n",
      "   5.07132\n"
     ]
    },
    {
     "name": "stderr",
     "output_type": "stream",
     "text": [
      "/Users/davidrounce/anaconda3/envs/debris_thickness_global/lib/python3.6/site-packages/pyproj/crs.py:77: FutureWarning: '+init=<authority>:<code>' syntax is deprecated. '<authority>:<code>' is the preferred initialization method.\n",
      "  return _prepare_from_string(\" \".join(pjargs))\n"
     ]
    },
    {
     "name": "stdout",
     "output_type": "stream",
     "text": [
      "31 of 226 :\n",
      "   6425N-30875E-debris_melt_curve.nc\n",
      "   6425N-30875E-debris_ts_curve.nc\n",
      "   5.07208\n"
     ]
    },
    {
     "name": "stderr",
     "output_type": "stream",
     "text": [
      "/Users/davidrounce/anaconda3/envs/debris_thickness_global/lib/python3.6/site-packages/pyproj/crs.py:77: FutureWarning: '+init=<authority>:<code>' syntax is deprecated. '<authority>:<code>' is the preferred initialization method.\n",
      "  return _prepare_from_string(\" \".join(pjargs))\n"
     ]
    },
    {
     "name": "stdout",
     "output_type": "stream",
     "text": [
      "32 of 226 :\n",
      "   6550N-30775E-debris_melt_curve.nc\n",
      "   6550N-30775E-debris_ts_curve.nc\n",
      "   5.00115\n"
     ]
    },
    {
     "name": "stderr",
     "output_type": "stream",
     "text": [
      "/Users/davidrounce/anaconda3/envs/debris_thickness_global/lib/python3.6/site-packages/pyproj/crs.py:77: FutureWarning: '+init=<authority>:<code>' syntax is deprecated. '<authority>:<code>' is the preferred initialization method.\n",
      "  return _prepare_from_string(\" \".join(pjargs))\n"
     ]
    },
    {
     "name": "stdout",
     "output_type": "stream",
     "text": [
      "   5.00342\n",
      "33 of 226 :\n",
      "   6575N-30700E-debris_melt_curve.nc\n",
      "   6575N-30700E-debris_ts_curve.nc\n",
      "   5.00181\n"
     ]
    },
    {
     "name": "stderr",
     "output_type": "stream",
     "text": [
      "/Users/davidrounce/anaconda3/envs/debris_thickness_global/lib/python3.6/site-packages/pyproj/crs.py:77: FutureWarning: '+init=<authority>:<code>' syntax is deprecated. '<authority>:<code>' is the preferred initialization method.\n",
      "  return _prepare_from_string(\" \".join(pjargs))\n"
     ]
    },
    {
     "name": "stdout",
     "output_type": "stream",
     "text": [
      "   5.00184\n",
      "34 of 226 :\n",
      "   6575N-30750E-debris_melt_curve.nc\n",
      "   6575N-30750E-debris_ts_curve.nc\n",
      "   5.00258\n"
     ]
    },
    {
     "name": "stderr",
     "output_type": "stream",
     "text": [
      "/Users/davidrounce/anaconda3/envs/debris_thickness_global/lib/python3.6/site-packages/pyproj/crs.py:77: FutureWarning: '+init=<authority>:<code>' syntax is deprecated. '<authority>:<code>' is the preferred initialization method.\n",
      "  return _prepare_from_string(\" \".join(pjargs))\n"
     ]
    },
    {
     "name": "stdout",
     "output_type": "stream",
     "text": [
      "   5.00270\n",
      "   5.00275\n",
      "   5.00323\n",
      "   5.00335\n"
     ]
    },
    {
     "name": "stderr",
     "output_type": "stream",
     "text": [
      "/Users/davidrounce/anaconda3/envs/debris_thickness_global/lib/python3.6/site-packages/numpy/ma/core.py:4008: RuntimeWarning: invalid value encountered in equal\n",
      "  check = compare(sdata, odata)\n"
     ]
    },
    {
     "name": "stdout",
     "output_type": "stream",
     "text": [
      "35 of 226 :\n",
      "   6575N-30775E-debris_melt_curve.nc\n",
      "   6575N-30775E-debris_ts_curve.nc\n",
      "   5.00319\n"
     ]
    },
    {
     "name": "stderr",
     "output_type": "stream",
     "text": [
      "/Users/davidrounce/anaconda3/envs/debris_thickness_global/lib/python3.6/site-packages/pyproj/crs.py:77: FutureWarning: '+init=<authority>:<code>' syntax is deprecated. '<authority>:<code>' is the preferred initialization method.\n",
      "  return _prepare_from_string(\" \".join(pjargs))\n"
     ]
    },
    {
     "name": "stdout",
     "output_type": "stream",
     "text": [
      "   5.00336\n",
      "   5.00337\n",
      "36 of 226 :\n",
      "   6575N-30800E-debris_melt_curve.nc\n",
      "   6575N-30800E-debris_ts_curve.nc\n",
      "   5.00334\n"
     ]
    },
    {
     "name": "stderr",
     "output_type": "stream",
     "text": [
      "/Users/davidrounce/anaconda3/envs/debris_thickness_global/lib/python3.6/site-packages/pyproj/crs.py:77: FutureWarning: '+init=<authority>:<code>' syntax is deprecated. '<authority>:<code>' is the preferred initialization method.\n",
      "  return _prepare_from_string(\" \".join(pjargs))\n"
     ]
    },
    {
     "name": "stdout",
     "output_type": "stream",
     "text": [
      "37 of 226 :\n",
      "   6575N-30825E-debris_melt_curve.nc\n",
      "   6575N-30825E-debris_ts_curve.nc\n",
      "   5.00318\n"
     ]
    },
    {
     "name": "stderr",
     "output_type": "stream",
     "text": [
      "/Users/davidrounce/anaconda3/envs/debris_thickness_global/lib/python3.6/site-packages/pyproj/crs.py:77: FutureWarning: '+init=<authority>:<code>' syntax is deprecated. '<authority>:<code>' is the preferred initialization method.\n",
      "  return _prepare_from_string(\" \".join(pjargs))\n"
     ]
    },
    {
     "name": "stdout",
     "output_type": "stream",
     "text": [
      "38 of 226 :\n",
      "   6575N-32225E-debris_melt_curve.nc\n",
      "   6575N-32225E-debris_ts_curve.nc\n",
      "   5.11195\n"
     ]
    },
    {
     "name": "stderr",
     "output_type": "stream",
     "text": [
      "/Users/davidrounce/anaconda3/envs/debris_thickness_global/lib/python3.6/site-packages/pyproj/crs.py:77: FutureWarning: '+init=<authority>:<code>' syntax is deprecated. '<authority>:<code>' is the preferred initialization method.\n",
      "  return _prepare_from_string(\" \".join(pjargs))\n"
     ]
    },
    {
     "name": "stdout",
     "output_type": "stream",
     "text": [
      "   5.11202\n",
      "   5.11239\n",
      "   5.11268\n",
      "39 of 226 :\n",
      "   6575N-32250E-debris_melt_curve.nc\n",
      "   6575N-32250E-debris_ts_curve.nc\n",
      "   5.11162\n"
     ]
    },
    {
     "name": "stderr",
     "output_type": "stream",
     "text": [
      "/Users/davidrounce/anaconda3/envs/debris_thickness_global/lib/python3.6/site-packages/pyproj/crs.py:77: FutureWarning: '+init=<authority>:<code>' syntax is deprecated. '<authority>:<code>' is the preferred initialization method.\n",
      "  return _prepare_from_string(\" \".join(pjargs))\n"
     ]
    },
    {
     "name": "stdout",
     "output_type": "stream",
     "text": [
      "   5.11192\n",
      "   5.11271\n",
      "   5.11274\n",
      "   5.11275\n",
      "40 of 226 :\n",
      "   6575N-32325E-debris_melt_curve.nc\n",
      "   6575N-32325E-debris_ts_curve.nc\n",
      "   5.11245\n"
     ]
    },
    {
     "name": "stderr",
     "output_type": "stream",
     "text": [
      "/Users/davidrounce/anaconda3/envs/debris_thickness_global/lib/python3.6/site-packages/pyproj/crs.py:77: FutureWarning: '+init=<authority>:<code>' syntax is deprecated. '<authority>:<code>' is the preferred initialization method.\n",
      "  return _prepare_from_string(\" \".join(pjargs))\n"
     ]
    },
    {
     "name": "stdout",
     "output_type": "stream",
     "text": [
      "41 of 226 :\n",
      "   6600N-30750E-debris_melt_curve.nc\n",
      "   6600N-30750E-debris_ts_curve.nc\n",
      "   5.00400\n"
     ]
    },
    {
     "name": "stderr",
     "output_type": "stream",
     "text": [
      "/Users/davidrounce/anaconda3/envs/debris_thickness_global/lib/python3.6/site-packages/pyproj/crs.py:77: FutureWarning: '+init=<authority>:<code>' syntax is deprecated. '<authority>:<code>' is the preferred initialization method.\n",
      "  return _prepare_from_string(\" \".join(pjargs))\n"
     ]
    },
    {
     "name": "stdout",
     "output_type": "stream",
     "text": [
      "   5.00421\n",
      "   5.00839\n",
      "42 of 226 :\n",
      "   6600N-30875E-debris_melt_curve.nc\n",
      "   6600N-30875E-debris_ts_curve.nc\n",
      "   5.00445\n"
     ]
    },
    {
     "name": "stderr",
     "output_type": "stream",
     "text": [
      "/Users/davidrounce/anaconda3/envs/debris_thickness_global/lib/python3.6/site-packages/pyproj/crs.py:77: FutureWarning: '+init=<authority>:<code>' syntax is deprecated. '<authority>:<code>' is the preferred initialization method.\n",
      "  return _prepare_from_string(\" \".join(pjargs))\n"
     ]
    },
    {
     "name": "stdout",
     "output_type": "stream",
     "text": [
      "   5.00451\n",
      "   5.00460\n",
      "   5.00794\n",
      "43 of 226 :\n",
      "   6600N-30925E-debris_melt_curve.nc\n",
      "   6600N-30925E-debris_ts_curve.nc\n",
      "   5.00446\n"
     ]
    },
    {
     "name": "stderr",
     "output_type": "stream",
     "text": [
      "/Users/davidrounce/anaconda3/envs/debris_thickness_global/lib/python3.6/site-packages/pyproj/crs.py:77: FutureWarning: '+init=<authority>:<code>' syntax is deprecated. '<authority>:<code>' is the preferred initialization method.\n",
      "  return _prepare_from_string(\" \".join(pjargs))\n"
     ]
    },
    {
     "name": "stdout",
     "output_type": "stream",
     "text": [
      "   5.00459\n",
      "44 of 226 :\n",
      "   6600N-32250E-debris_melt_curve.nc\n",
      "   6600N-32250E-debris_ts_curve.nc\n",
      "   5.11376\n"
     ]
    },
    {
     "name": "stderr",
     "output_type": "stream",
     "text": [
      "/Users/davidrounce/anaconda3/envs/debris_thickness_global/lib/python3.6/site-packages/pyproj/crs.py:77: FutureWarning: '+init=<authority>:<code>' syntax is deprecated. '<authority>:<code>' is the preferred initialization method.\n",
      "  return _prepare_from_string(\" \".join(pjargs))\n"
     ]
    },
    {
     "name": "stdout",
     "output_type": "stream",
     "text": [
      "   5.11449\n",
      "   5.11453\n",
      "   5.11461\n",
      "   5.11581\n",
      "45 of 226 :\n",
      "   6600N-32275E-debris_melt_curve.nc\n",
      "   6600N-32275E-debris_ts_curve.nc\n",
      "   5.11589\n"
     ]
    },
    {
     "name": "stderr",
     "output_type": "stream",
     "text": [
      "/Users/davidrounce/anaconda3/envs/debris_thickness_global/lib/python3.6/site-packages/pyproj/crs.py:77: FutureWarning: '+init=<authority>:<code>' syntax is deprecated. '<authority>:<code>' is the preferred initialization method.\n",
      "  return _prepare_from_string(\" \".join(pjargs))\n"
     ]
    },
    {
     "name": "stdout",
     "output_type": "stream",
     "text": [
      "   5.11593\n",
      "   5.11596\n",
      "   5.11602\n",
      "   5.11673\n"
     ]
    },
    {
     "name": "stderr",
     "output_type": "stream",
     "text": [
      "/Users/davidrounce/anaconda3/envs/debris_thickness_global/lib/python3.6/site-packages/numpy/ma/core.py:4008: RuntimeWarning: invalid value encountered in equal\n",
      "  check = compare(sdata, odata)\n"
     ]
    },
    {
     "name": "stdout",
     "output_type": "stream",
     "text": [
      "46 of 226 :\n",
      "   6600N-32300E-debris_melt_curve.nc\n",
      "   6600N-32300E-debris_ts_curve.nc\n",
      "   5.11386\n"
     ]
    },
    {
     "name": "stderr",
     "output_type": "stream",
     "text": [
      "/Users/davidrounce/anaconda3/envs/debris_thickness_global/lib/python3.6/site-packages/pyproj/crs.py:77: FutureWarning: '+init=<authority>:<code>' syntax is deprecated. '<authority>:<code>' is the preferred initialization method.\n",
      "  return _prepare_from_string(\" \".join(pjargs))\n"
     ]
    },
    {
     "name": "stdout",
     "output_type": "stream",
     "text": [
      "   5.11542\n",
      "47 of 226 :\n",
      "   6600N-32325E-debris_melt_curve.nc\n",
      "   6600N-32325E-debris_ts_curve.nc\n",
      "   5.13878\n"
     ]
    },
    {
     "name": "stderr",
     "output_type": "stream",
     "text": [
      "/Users/davidrounce/anaconda3/envs/debris_thickness_global/lib/python3.6/site-packages/pyproj/crs.py:77: FutureWarning: '+init=<authority>:<code>' syntax is deprecated. '<authority>:<code>' is the preferred initialization method.\n",
      "  return _prepare_from_string(\" \".join(pjargs))\n"
     ]
    },
    {
     "name": "stdout",
     "output_type": "stream",
     "text": [
      "   5.13910\n",
      "48 of 226 :\n",
      "   6600N-32350E-debris_melt_curve.nc\n",
      "   6600N-32350E-debris_ts_curve.nc\n",
      "   5.11414\n"
     ]
    },
    {
     "name": "stderr",
     "output_type": "stream",
     "text": [
      "/Users/davidrounce/anaconda3/envs/debris_thickness_global/lib/python3.6/site-packages/pyproj/crs.py:77: FutureWarning: '+init=<authority>:<code>' syntax is deprecated. '<authority>:<code>' is the preferred initialization method.\n",
      "  return _prepare_from_string(\" \".join(pjargs))\n",
      "/Users/davidrounce/anaconda3/envs/debris_thickness_global/lib/python3.6/site-packages/numpy/ma/core.py:4008: RuntimeWarning: invalid value encountered in equal\n",
      "  check = compare(sdata, odata)\n"
     ]
    },
    {
     "name": "stdout",
     "output_type": "stream",
     "text": [
      "49 of 226 :\n",
      "   6600N-32375E-debris_melt_curve.nc\n",
      "   6600N-32375E-debris_ts_curve.nc\n",
      "   5.11639\n"
     ]
    },
    {
     "name": "stderr",
     "output_type": "stream",
     "text": [
      "/Users/davidrounce/anaconda3/envs/debris_thickness_global/lib/python3.6/site-packages/pyproj/crs.py:77: FutureWarning: '+init=<authority>:<code>' syntax is deprecated. '<authority>:<code>' is the preferred initialization method.\n",
      "  return _prepare_from_string(\" \".join(pjargs))\n"
     ]
    },
    {
     "name": "stdout",
     "output_type": "stream",
     "text": [
      "50 of 226 :\n",
      "   6625N-30725E-debris_melt_curve.nc\n",
      "   6625N-30725E-debris_ts_curve.nc\n",
      "   5.00801\n"
     ]
    },
    {
     "name": "stderr",
     "output_type": "stream",
     "text": [
      "/Users/davidrounce/anaconda3/envs/debris_thickness_global/lib/python3.6/site-packages/pyproj/crs.py:77: FutureWarning: '+init=<authority>:<code>' syntax is deprecated. '<authority>:<code>' is the preferred initialization method.\n",
      "  return _prepare_from_string(\" \".join(pjargs))\n",
      "/Users/davidrounce/anaconda3/envs/debris_thickness_global/lib/python3.6/site-packages/numpy/ma/core.py:1015: RuntimeWarning: overflow encountered in multiply\n",
      "  result = self.f(da, db, *args, **kwargs)\n"
     ]
    },
    {
     "name": "stdout",
     "output_type": "stream",
     "text": [
      "   5.00859\n",
      "51 of 226 :\n",
      "   6625N-30750E-debris_melt_curve.nc\n",
      "   6625N-30750E-debris_ts_curve.nc\n",
      "   5.00790\n"
     ]
    },
    {
     "name": "stderr",
     "output_type": "stream",
     "text": [
      "/Users/davidrounce/anaconda3/envs/debris_thickness_global/lib/python3.6/site-packages/pyproj/crs.py:77: FutureWarning: '+init=<authority>:<code>' syntax is deprecated. '<authority>:<code>' is the preferred initialization method.\n",
      "  return _prepare_from_string(\" \".join(pjargs))\n"
     ]
    },
    {
     "name": "stdout",
     "output_type": "stream",
     "text": [
      "   5.00793\n",
      "   5.00817\n",
      "   5.00904\n",
      "52 of 226 :\n",
      "   6625N-30800E-debris_melt_curve.nc\n",
      "   6625N-30800E-debris_ts_curve.nc\n",
      "   5.00789\n"
     ]
    },
    {
     "name": "stderr",
     "output_type": "stream",
     "text": [
      "/Users/davidrounce/anaconda3/envs/debris_thickness_global/lib/python3.6/site-packages/pyproj/crs.py:77: FutureWarning: '+init=<authority>:<code>' syntax is deprecated. '<authority>:<code>' is the preferred initialization method.\n",
      "  return _prepare_from_string(\" \".join(pjargs))\n"
     ]
    },
    {
     "name": "stdout",
     "output_type": "stream",
     "text": [
      "   5.00800\n",
      "53 of 226 :\n",
      "   6625N-32250E-debris_melt_curve.nc\n",
      "   6625N-32250E-debris_ts_curve.nc\n",
      "   5.11759\n"
     ]
    },
    {
     "name": "stderr",
     "output_type": "stream",
     "text": [
      "/Users/davidrounce/anaconda3/envs/debris_thickness_global/lib/python3.6/site-packages/pyproj/crs.py:77: FutureWarning: '+init=<authority>:<code>' syntax is deprecated. '<authority>:<code>' is the preferred initialization method.\n",
      "  return _prepare_from_string(\" \".join(pjargs))\n"
     ]
    },
    {
     "name": "stdout",
     "output_type": "stream",
     "text": [
      "   5.11862\n",
      "54 of 226 :\n",
      "   6625N-32275E-debris_melt_curve.nc\n",
      "   6625N-32275E-debris_ts_curve.nc\n",
      "   5.11724\n"
     ]
    },
    {
     "name": "stderr",
     "output_type": "stream",
     "text": [
      "/Users/davidrounce/anaconda3/envs/debris_thickness_global/lib/python3.6/site-packages/pyproj/crs.py:77: FutureWarning: '+init=<authority>:<code>' syntax is deprecated. '<authority>:<code>' is the preferred initialization method.\n",
      "  return _prepare_from_string(\" \".join(pjargs))\n"
     ]
    },
    {
     "name": "stdout",
     "output_type": "stream",
     "text": [
      "   5.11729\n",
      "   5.11730\n",
      "   5.11734\n",
      "   5.11749\n",
      "   5.11755\n",
      "   5.11756\n",
      "   5.11760\n",
      "   5.11787\n",
      "   5.11844\n",
      "55 of 226 :\n",
      "   6625N-32300E-debris_melt_curve.nc\n",
      "   6625N-32300E-debris_ts_curve.nc\n",
      "   5.11719\n"
     ]
    },
    {
     "name": "stderr",
     "output_type": "stream",
     "text": [
      "/Users/davidrounce/anaconda3/envs/debris_thickness_global/lib/python3.6/site-packages/pyproj/crs.py:77: FutureWarning: '+init=<authority>:<code>' syntax is deprecated. '<authority>:<code>' is the preferred initialization method.\n",
      "  return _prepare_from_string(\" \".join(pjargs))\n"
     ]
    },
    {
     "name": "stdout",
     "output_type": "stream",
     "text": [
      "   5.13893\n",
      "   5.13895\n",
      "   5.13918\n",
      "   5.13938\n",
      "   5.13953\n",
      "56 of 226 :\n",
      "   6625N-32325E-debris_melt_curve.nc\n",
      "   6625N-32325E-debris_ts_curve.nc\n",
      "   5.11842\n"
     ]
    },
    {
     "name": "stderr",
     "output_type": "stream",
     "text": [
      "/Users/davidrounce/anaconda3/envs/debris_thickness_global/lib/python3.6/site-packages/pyproj/crs.py:77: FutureWarning: '+init=<authority>:<code>' syntax is deprecated. '<authority>:<code>' is the preferred initialization method.\n",
      "  return _prepare_from_string(\" \".join(pjargs))\n"
     ]
    },
    {
     "name": "stdout",
     "output_type": "stream",
     "text": [
      "   5.13906\n",
      "   5.13916\n",
      "   5.13930\n",
      "57 of 226 :\n",
      "   6625N-32350E-debris_melt_curve.nc\n",
      "   6625N-32350E-debris_ts_curve.nc\n",
      "   5.13950\n"
     ]
    },
    {
     "name": "stderr",
     "output_type": "stream",
     "text": [
      "/Users/davidrounce/anaconda3/envs/debris_thickness_global/lib/python3.6/site-packages/pyproj/crs.py:77: FutureWarning: '+init=<authority>:<code>' syntax is deprecated. '<authority>:<code>' is the preferred initialization method.\n",
      "  return _prepare_from_string(\" \".join(pjargs))\n"
     ]
    },
    {
     "name": "stdout",
     "output_type": "stream",
     "text": [
      "   5.13995\n",
      "58 of 226 :\n",
      "   6625N-32400E-debris_melt_curve.nc\n",
      "   6625N-32400E-debris_ts_curve.nc\n",
      "   5.13931\n"
     ]
    },
    {
     "name": "stderr",
     "output_type": "stream",
     "text": [
      "/Users/davidrounce/anaconda3/envs/debris_thickness_global/lib/python3.6/site-packages/pyproj/crs.py:77: FutureWarning: '+init=<authority>:<code>' syntax is deprecated. '<authority>:<code>' is the preferred initialization method.\n",
      "  return _prepare_from_string(\" \".join(pjargs))\n"
     ]
    },
    {
     "name": "stdout",
     "output_type": "stream",
     "text": [
      "59 of 226 :\n",
      "   6625N-32425E-debris_melt_curve.nc\n",
      "   6625N-32425E-debris_ts_curve.nc\n",
      "   5.11758\n"
     ]
    },
    {
     "name": "stderr",
     "output_type": "stream",
     "text": [
      "/Users/davidrounce/anaconda3/envs/debris_thickness_global/lib/python3.6/site-packages/pyproj/crs.py:77: FutureWarning: '+init=<authority>:<code>' syntax is deprecated. '<authority>:<code>' is the preferred initialization method.\n",
      "  return _prepare_from_string(\" \".join(pjargs))\n"
     ]
    },
    {
     "name": "stdout",
     "output_type": "stream",
     "text": [
      "   5.11762\n"
     ]
    },
    {
     "name": "stderr",
     "output_type": "stream",
     "text": [
      "/Users/davidrounce/anaconda3/envs/debris_thickness_global/lib/python3.6/site-packages/numpy/ma/core.py:4008: RuntimeWarning: invalid value encountered in equal\n",
      "  check = compare(sdata, odata)\n"
     ]
    },
    {
     "name": "stdout",
     "output_type": "stream",
     "text": [
      "60 of 226 :\n",
      "   6625N-32450E-debris_melt_curve.nc\n",
      "   6625N-32450E-debris_ts_curve.nc\n",
      "   5.13774\n"
     ]
    },
    {
     "name": "stderr",
     "output_type": "stream",
     "text": [
      "/Users/davidrounce/anaconda3/envs/debris_thickness_global/lib/python3.6/site-packages/pyproj/crs.py:77: FutureWarning: '+init=<authority>:<code>' syntax is deprecated. '<authority>:<code>' is the preferred initialization method.\n",
      "  return _prepare_from_string(\" \".join(pjargs))\n"
     ]
    },
    {
     "name": "stdout",
     "output_type": "stream",
     "text": [
      "61 of 226 :\n",
      "   6650N-30725E-debris_melt_curve.nc\n",
      "   6650N-30725E-debris_ts_curve.nc\n",
      "   5.00522\n"
     ]
    },
    {
     "name": "stderr",
     "output_type": "stream",
     "text": [
      "/Users/davidrounce/anaconda3/envs/debris_thickness_global/lib/python3.6/site-packages/pyproj/crs.py:77: FutureWarning: '+init=<authority>:<code>' syntax is deprecated. '<authority>:<code>' is the preferred initialization method.\n",
      "  return _prepare_from_string(\" \".join(pjargs))\n"
     ]
    },
    {
     "name": "stdout",
     "output_type": "stream",
     "text": [
      "   5.00530\n",
      "   5.00879\n",
      "   5.00938\n",
      "62 of 226 :\n",
      "   6650N-32200E-debris_melt_curve.nc\n",
      "   6650N-32200E-debris_ts_curve.nc\n",
      "   5.11412\n"
     ]
    },
    {
     "name": "stderr",
     "output_type": "stream",
     "text": [
      "/Users/davidrounce/anaconda3/envs/debris_thickness_global/lib/python3.6/site-packages/pyproj/crs.py:77: FutureWarning: '+init=<authority>:<code>' syntax is deprecated. '<authority>:<code>' is the preferred initialization method.\n",
      "  return _prepare_from_string(\" \".join(pjargs))\n"
     ]
    },
    {
     "name": "stdout",
     "output_type": "stream",
     "text": [
      "   5.12477\n",
      "63 of 226 :\n",
      "   6650N-32250E-debris_melt_curve.nc\n",
      "   6650N-32250E-debris_ts_curve.nc\n",
      "   5.11861\n"
     ]
    },
    {
     "name": "stderr",
     "output_type": "stream",
     "text": [
      "/Users/davidrounce/anaconda3/envs/debris_thickness_global/lib/python3.6/site-packages/pyproj/crs.py:77: FutureWarning: '+init=<authority>:<code>' syntax is deprecated. '<authority>:<code>' is the preferred initialization method.\n",
      "  return _prepare_from_string(\" \".join(pjargs))\n"
     ]
    },
    {
     "name": "stdout",
     "output_type": "stream",
     "text": [
      "   5.11951\n",
      "64 of 226 :\n",
      "   6650N-32275E-debris_melt_curve.nc\n",
      "   6650N-32275E-debris_ts_curve.nc\n",
      "   5.11866\n"
     ]
    },
    {
     "name": "stderr",
     "output_type": "stream",
     "text": [
      "/Users/davidrounce/anaconda3/envs/debris_thickness_global/lib/python3.6/site-packages/pyproj/crs.py:77: FutureWarning: '+init=<authority>:<code>' syntax is deprecated. '<authority>:<code>' is the preferred initialization method.\n",
      "  return _prepare_from_string(\" \".join(pjargs))\n"
     ]
    },
    {
     "name": "stdout",
     "output_type": "stream",
     "text": [
      "   5.11870\n",
      "   5.11882\n",
      "   5.11966\n",
      "65 of 226 :\n",
      "   6650N-32300E-debris_melt_curve.nc\n",
      "   6650N-32300E-debris_ts_curve.nc\n",
      "   5.11948\n"
     ]
    },
    {
     "name": "stderr",
     "output_type": "stream",
     "text": [
      "/Users/davidrounce/anaconda3/envs/debris_thickness_global/lib/python3.6/site-packages/pyproj/crs.py:77: FutureWarning: '+init=<authority>:<code>' syntax is deprecated. '<authority>:<code>' is the preferred initialization method.\n",
      "  return _prepare_from_string(\" \".join(pjargs))\n"
     ]
    },
    {
     "name": "stdout",
     "output_type": "stream",
     "text": [
      "   5.11958\n",
      "   5.11969\n",
      "66 of 226 :\n",
      "   6650N-32425E-debris_melt_curve.nc\n",
      "   6650N-32425E-debris_ts_curve.nc\n",
      "   5.13974\n"
     ]
    },
    {
     "name": "stderr",
     "output_type": "stream",
     "text": [
      "/Users/davidrounce/anaconda3/envs/debris_thickness_global/lib/python3.6/site-packages/pyproj/crs.py:77: FutureWarning: '+init=<authority>:<code>' syntax is deprecated. '<authority>:<code>' is the preferred initialization method.\n",
      "  return _prepare_from_string(\" \".join(pjargs))\n"
     ]
    },
    {
     "name": "stdout",
     "output_type": "stream",
     "text": [
      "   5.13985\n",
      "67 of 226 :\n",
      "   6650N-32450E-debris_melt_curve.nc\n",
      "   6650N-32450E-debris_ts_curve.nc\n",
      "   5.12079\n"
     ]
    },
    {
     "name": "stderr",
     "output_type": "stream",
     "text": [
      "/Users/davidrounce/anaconda3/envs/debris_thickness_global/lib/python3.6/site-packages/pyproj/crs.py:77: FutureWarning: '+init=<authority>:<code>' syntax is deprecated. '<authority>:<code>' is the preferred initialization method.\n",
      "  return _prepare_from_string(\" \".join(pjargs))\n"
     ]
    },
    {
     "name": "stdout",
     "output_type": "stream",
     "text": [
      "   5.12141\n",
      "   5.13812\n",
      "   5.13949\n",
      "   5.13967\n",
      "68 of 226 :\n",
      "   6800N-32875E-debris_melt_curve.nc\n",
      "   6800N-32875E-debris_ts_curve.nc\n",
      "   5.12397\n"
     ]
    },
    {
     "name": "stderr",
     "output_type": "stream",
     "text": [
      "/Users/davidrounce/anaconda3/envs/debris_thickness_global/lib/python3.6/site-packages/pyproj/crs.py:77: FutureWarning: '+init=<authority>:<code>' syntax is deprecated. '<authority>:<code>' is the preferred initialization method.\n",
      "  return _prepare_from_string(\" \".join(pjargs))\n"
     ]
    },
    {
     "name": "stdout",
     "output_type": "stream",
     "text": [
      "69 of 226 :\n",
      "   6800N-32900E-debris_melt_curve.nc\n",
      "   6800N-32900E-debris_ts_curve.nc\n",
      "   5.12423\n"
     ]
    },
    {
     "name": "stderr",
     "output_type": "stream",
     "text": [
      "/Users/davidrounce/anaconda3/envs/debris_thickness_global/lib/python3.6/site-packages/pyproj/crs.py:77: FutureWarning: '+init=<authority>:<code>' syntax is deprecated. '<authority>:<code>' is the preferred initialization method.\n",
      "  return _prepare_from_string(\" \".join(pjargs))\n"
     ]
    },
    {
     "name": "stdout",
     "output_type": "stream",
     "text": [
      "   5.12524\n",
      "70 of 226 :\n",
      "   6825N-32850E-debris_melt_curve.nc\n",
      "   6825N-32850E-debris_ts_curve.nc\n",
      "   5.12370\n"
     ]
    },
    {
     "name": "stderr",
     "output_type": "stream",
     "text": [
      "/Users/davidrounce/anaconda3/envs/debris_thickness_global/lib/python3.6/site-packages/pyproj/crs.py:77: FutureWarning: '+init=<authority>:<code>' syntax is deprecated. '<authority>:<code>' is the preferred initialization method.\n",
      "  return _prepare_from_string(\" \".join(pjargs))\n"
     ]
    },
    {
     "name": "stdout",
     "output_type": "stream",
     "text": [
      "   5.12414\n",
      "   5.12568\n",
      "   5.12692\n",
      "   5.12695\n",
      "   5.12699\n",
      "   5.12754\n",
      "71 of 226 :\n",
      "   6825N-32875E-debris_melt_curve.nc\n",
      "   6825N-32875E-debris_ts_curve.nc\n",
      "   5.12555\n"
     ]
    },
    {
     "name": "stderr",
     "output_type": "stream",
     "text": [
      "/Users/davidrounce/anaconda3/envs/debris_thickness_global/lib/python3.6/site-packages/pyproj/crs.py:77: FutureWarning: '+init=<authority>:<code>' syntax is deprecated. '<authority>:<code>' is the preferred initialization method.\n",
      "  return _prepare_from_string(\" \".join(pjargs))\n"
     ]
    },
    {
     "name": "stdout",
     "output_type": "stream",
     "text": [
      "   5.12593\n",
      "   5.12846\n",
      "   5.12866\n",
      "72 of 226 :\n",
      "   6825N-32900E-debris_melt_curve.nc\n",
      "   6825N-32900E-debris_ts_curve.nc\n",
      "   5.12852\n"
     ]
    },
    {
     "name": "stderr",
     "output_type": "stream",
     "text": [
      "/Users/davidrounce/anaconda3/envs/debris_thickness_global/lib/python3.6/site-packages/pyproj/crs.py:77: FutureWarning: '+init=<authority>:<code>' syntax is deprecated. '<authority>:<code>' is the preferred initialization method.\n",
      "  return _prepare_from_string(\" \".join(pjargs))\n"
     ]
    },
    {
     "name": "stdout",
     "output_type": "stream",
     "text": [
      "73 of 226 :\n",
      "   6825N-32925E-debris_melt_curve.nc\n",
      "   6825N-32925E-debris_ts_curve.nc\n",
      "   5.13086\n"
     ]
    },
    {
     "name": "stderr",
     "output_type": "stream",
     "text": [
      "/Users/davidrounce/anaconda3/envs/debris_thickness_global/lib/python3.6/site-packages/pyproj/crs.py:77: FutureWarning: '+init=<authority>:<code>' syntax is deprecated. '<authority>:<code>' is the preferred initialization method.\n",
      "  return _prepare_from_string(\" \".join(pjargs))\n"
     ]
    },
    {
     "name": "stdout",
     "output_type": "stream",
     "text": [
      "74 of 226 :\n",
      "   6825N-32950E-debris_melt_curve.nc\n",
      "   6825N-32950E-debris_ts_curve.nc\n",
      "   5.12569\n"
     ]
    },
    {
     "name": "stderr",
     "output_type": "stream",
     "text": [
      "/Users/davidrounce/anaconda3/envs/debris_thickness_global/lib/python3.6/site-packages/pyproj/crs.py:77: FutureWarning: '+init=<authority>:<code>' syntax is deprecated. '<authority>:<code>' is the preferred initialization method.\n",
      "  return _prepare_from_string(\" \".join(pjargs))\n"
     ]
    },
    {
     "name": "stdout",
     "output_type": "stream",
     "text": [
      "   5.13071\n",
      "   5.13090\n",
      "75 of 226 :\n",
      "   6825N-32975E-debris_melt_curve.nc\n",
      "   6825N-32975E-debris_ts_curve.nc\n",
      "   5.12738\n"
     ]
    },
    {
     "name": "stderr",
     "output_type": "stream",
     "text": [
      "/Users/davidrounce/anaconda3/envs/debris_thickness_global/lib/python3.6/site-packages/pyproj/crs.py:77: FutureWarning: '+init=<authority>:<code>' syntax is deprecated. '<authority>:<code>' is the preferred initialization method.\n",
      "  return _prepare_from_string(\" \".join(pjargs))\n"
     ]
    },
    {
     "name": "stdout",
     "output_type": "stream",
     "text": [
      "76 of 226 :\n",
      "   6825N-33000E-debris_melt_curve.nc\n",
      "   6825N-33000E-debris_ts_curve.nc\n",
      "   5.12897\n"
     ]
    },
    {
     "name": "stderr",
     "output_type": "stream",
     "text": [
      "/Users/davidrounce/anaconda3/envs/debris_thickness_global/lib/python3.6/site-packages/pyproj/crs.py:77: FutureWarning: '+init=<authority>:<code>' syntax is deprecated. '<authority>:<code>' is the preferred initialization method.\n",
      "  return _prepare_from_string(\" \".join(pjargs))\n"
     ]
    },
    {
     "name": "stdout",
     "output_type": "stream",
     "text": [
      "77 of 226 :\n",
      "   6825N-33050E-debris_melt_curve.nc\n",
      "   6825N-33050E-debris_ts_curve.nc\n",
      "   5.12993\n"
     ]
    },
    {
     "name": "stderr",
     "output_type": "stream",
     "text": [
      "/Users/davidrounce/anaconda3/envs/debris_thickness_global/lib/python3.6/site-packages/pyproj/crs.py:77: FutureWarning: '+init=<authority>:<code>' syntax is deprecated. '<authority>:<code>' is the preferred initialization method.\n",
      "  return _prepare_from_string(\" \".join(pjargs))\n"
     ]
    },
    {
     "name": "stdout",
     "output_type": "stream",
     "text": [
      "78 of 226 :\n",
      "   6825N-33075E-debris_melt_curve.nc\n",
      "   6825N-33075E-debris_ts_curve.nc\n",
      "   5.13098\n"
     ]
    },
    {
     "name": "stderr",
     "output_type": "stream",
     "text": [
      "/Users/davidrounce/anaconda3/envs/debris_thickness_global/lib/python3.6/site-packages/pyproj/crs.py:77: FutureWarning: '+init=<authority>:<code>' syntax is deprecated. '<authority>:<code>' is the preferred initialization method.\n",
      "  return _prepare_from_string(\" \".join(pjargs))\n"
     ]
    },
    {
     "name": "stdout",
     "output_type": "stream",
     "text": [
      "   5.13099\n",
      "79 of 226 :\n",
      "   6850N-32775E-debris_melt_curve.nc\n",
      "   6850N-32775E-debris_ts_curve.nc\n",
      "   5.13508\n"
     ]
    },
    {
     "name": "stderr",
     "output_type": "stream",
     "text": [
      "/Users/davidrounce/anaconda3/envs/debris_thickness_global/lib/python3.6/site-packages/pyproj/crs.py:77: FutureWarning: '+init=<authority>:<code>' syntax is deprecated. '<authority>:<code>' is the preferred initialization method.\n",
      "  return _prepare_from_string(\" \".join(pjargs))\n"
     ]
    },
    {
     "name": "stdout",
     "output_type": "stream",
     "text": [
      "   5.13512\n",
      "80 of 226 :\n",
      "   6850N-32950E-debris_melt_curve.nc\n",
      "   6850N-32950E-debris_ts_curve.nc\n",
      "   5.13050\n"
     ]
    },
    {
     "name": "stderr",
     "output_type": "stream",
     "text": [
      "/Users/davidrounce/anaconda3/envs/debris_thickness_global/lib/python3.6/site-packages/pyproj/crs.py:77: FutureWarning: '+init=<authority>:<code>' syntax is deprecated. '<authority>:<code>' is the preferred initialization method.\n",
      "  return _prepare_from_string(\" \".join(pjargs))\n"
     ]
    },
    {
     "name": "stdout",
     "output_type": "stream",
     "text": [
      "   5.13096\n",
      "   5.13134\n",
      "   5.13147\n",
      "   5.13205\n",
      "81 of 226 :\n",
      "   6850N-33000E-debris_melt_curve.nc\n",
      "   6850N-33000E-debris_ts_curve.nc\n",
      "   5.13440\n"
     ]
    },
    {
     "name": "stderr",
     "output_type": "stream",
     "text": [
      "/Users/davidrounce/anaconda3/envs/debris_thickness_global/lib/python3.6/site-packages/pyproj/crs.py:77: FutureWarning: '+init=<authority>:<code>' syntax is deprecated. '<authority>:<code>' is the preferred initialization method.\n",
      "  return _prepare_from_string(\" \".join(pjargs))\n"
     ]
    },
    {
     "name": "stdout",
     "output_type": "stream",
     "text": [
      "   5.13676\n",
      "82 of 226 :\n",
      "   6850N-33025E-debris_melt_curve.nc\n",
      "   6850N-33025E-debris_ts_curve.nc\n",
      "   5.13437\n"
     ]
    },
    {
     "name": "stderr",
     "output_type": "stream",
     "text": [
      "/Users/davidrounce/anaconda3/envs/debris_thickness_global/lib/python3.6/site-packages/pyproj/crs.py:77: FutureWarning: '+init=<authority>:<code>' syntax is deprecated. '<authority>:<code>' is the preferred initialization method.\n",
      "  return _prepare_from_string(\" \".join(pjargs))\n"
     ]
    },
    {
     "name": "stdout",
     "output_type": "stream",
     "text": [
      "83 of 226 :\n",
      "   6850N-33100E-debris_melt_curve.nc\n",
      "   6850N-33100E-debris_ts_curve.nc\n",
      "   5.13166\n"
     ]
    },
    {
     "name": "stderr",
     "output_type": "stream",
     "text": [
      "/Users/davidrounce/anaconda3/envs/debris_thickness_global/lib/python3.6/site-packages/pyproj/crs.py:77: FutureWarning: '+init=<authority>:<code>' syntax is deprecated. '<authority>:<code>' is the preferred initialization method.\n",
      "  return _prepare_from_string(\" \".join(pjargs))\n"
     ]
    },
    {
     "name": "stdout",
     "output_type": "stream",
     "text": [
      "   5.13424\n",
      "84 of 226 :\n",
      "   6850N-33150E-debris_melt_curve.nc\n",
      "   6850N-33150E-debris_ts_curve.nc\n",
      "   5.13416\n"
     ]
    },
    {
     "name": "stderr",
     "output_type": "stream",
     "text": [
      "/Users/davidrounce/anaconda3/envs/debris_thickness_global/lib/python3.6/site-packages/pyproj/crs.py:77: FutureWarning: '+init=<authority>:<code>' syntax is deprecated. '<authority>:<code>' is the preferred initialization method.\n",
      "  return _prepare_from_string(\" \".join(pjargs))\n"
     ]
    },
    {
     "name": "stdout",
     "output_type": "stream",
     "text": [
      "85 of 226 :\n",
      "   6850N-33175E-debris_melt_curve.nc\n",
      "   6850N-33175E-debris_ts_curve.nc\n",
      "   5.13254\n"
     ]
    },
    {
     "name": "stderr",
     "output_type": "stream",
     "text": [
      "/Users/davidrounce/anaconda3/envs/debris_thickness_global/lib/python3.6/site-packages/pyproj/crs.py:77: FutureWarning: '+init=<authority>:<code>' syntax is deprecated. '<authority>:<code>' is the preferred initialization method.\n",
      "  return _prepare_from_string(\" \".join(pjargs))\n"
     ]
    },
    {
     "name": "stdout",
     "output_type": "stream",
     "text": [
      "   5.13322\n",
      "86 of 226 :\n",
      "   6875N-33000E-debris_melt_curve.nc\n",
      "   6875N-33000E-debris_ts_curve.nc\n",
      "   5.13433\n"
     ]
    },
    {
     "name": "stderr",
     "output_type": "stream",
     "text": [
      "/Users/davidrounce/anaconda3/envs/debris_thickness_global/lib/python3.6/site-packages/pyproj/crs.py:77: FutureWarning: '+init=<authority>:<code>' syntax is deprecated. '<authority>:<code>' is the preferred initialization method.\n",
      "  return _prepare_from_string(\" \".join(pjargs))\n"
     ]
    },
    {
     "name": "stdout",
     "output_type": "stream",
     "text": [
      "87 of 226 :\n",
      "   6875N-33200E-debris_melt_curve.nc\n",
      "   6875N-33200E-debris_ts_curve.nc\n",
      "   5.13354\n"
     ]
    },
    {
     "name": "stderr",
     "output_type": "stream",
     "text": [
      "/Users/davidrounce/anaconda3/envs/debris_thickness_global/lib/python3.6/site-packages/pyproj/crs.py:77: FutureWarning: '+init=<authority>:<code>' syntax is deprecated. '<authority>:<code>' is the preferred initialization method.\n",
      "  return _prepare_from_string(\" \".join(pjargs))\n"
     ]
    },
    {
     "name": "stdout",
     "output_type": "stream",
     "text": [
      "   5.13426\n",
      "   5.13457\n",
      "88 of 226 :\n",
      "   6875N-33300E-debris_melt_curve.nc\n",
      "   6875N-33300E-debris_ts_curve.nc\n",
      "   5.14146\n"
     ]
    },
    {
     "name": "stderr",
     "output_type": "stream",
     "text": [
      "/Users/davidrounce/anaconda3/envs/debris_thickness_global/lib/python3.6/site-packages/pyproj/crs.py:77: FutureWarning: '+init=<authority>:<code>' syntax is deprecated. '<authority>:<code>' is the preferred initialization method.\n",
      "  return _prepare_from_string(\" \".join(pjargs))\n"
     ]
    },
    {
     "name": "stdout",
     "output_type": "stream",
     "text": [
      "89 of 226 :\n",
      "   6875N-33325E-debris_melt_curve.nc\n",
      "   6875N-33325E-debris_ts_curve.nc\n",
      "   5.13456\n"
     ]
    },
    {
     "name": "stderr",
     "output_type": "stream",
     "text": [
      "/Users/davidrounce/anaconda3/envs/debris_thickness_global/lib/python3.6/site-packages/pyproj/crs.py:77: FutureWarning: '+init=<authority>:<code>' syntax is deprecated. '<authority>:<code>' is the preferred initialization method.\n",
      "  return _prepare_from_string(\" \".join(pjargs))\n",
      "/Users/davidrounce/anaconda3/envs/debris_thickness_global/lib/python3.6/site-packages/numpy/ma/core.py:4008: RuntimeWarning: invalid value encountered in equal\n",
      "  check = compare(sdata, odata)\n"
     ]
    },
    {
     "name": "stdout",
     "output_type": "stream",
     "text": [
      "   5.13663\n",
      "   5.13666\n",
      "   5.14180\n",
      "90 of 226 :\n",
      "   6875N-33350E-debris_melt_curve.nc\n",
      "   6875N-33350E-debris_ts_curve.nc\n",
      "   5.14165\n"
     ]
    },
    {
     "name": "stderr",
     "output_type": "stream",
     "text": [
      "/Users/davidrounce/anaconda3/envs/debris_thickness_global/lib/python3.6/site-packages/pyproj/crs.py:77: FutureWarning: '+init=<authority>:<code>' syntax is deprecated. '<authority>:<code>' is the preferred initialization method.\n",
      "  return _prepare_from_string(\" \".join(pjargs))\n"
     ]
    },
    {
     "name": "stdout",
     "output_type": "stream",
     "text": [
      "91 of 226 :\n",
      "   6875N-33375E-debris_melt_curve.nc\n",
      "   6875N-33375E-debris_ts_curve.nc\n",
      "   5.14197\n"
     ]
    },
    {
     "name": "stderr",
     "output_type": "stream",
     "text": [
      "/Users/davidrounce/anaconda3/envs/debris_thickness_global/lib/python3.6/site-packages/pyproj/crs.py:77: FutureWarning: '+init=<authority>:<code>' syntax is deprecated. '<authority>:<code>' is the preferred initialization method.\n",
      "  return _prepare_from_string(\" \".join(pjargs))\n",
      "/Users/davidrounce/anaconda3/envs/debris_thickness_global/lib/python3.6/site-packages/numpy/ma/core.py:4008: RuntimeWarning: invalid value encountered in equal\n",
      "  check = compare(sdata, odata)\n"
     ]
    },
    {
     "name": "stdout",
     "output_type": "stream",
     "text": [
      "92 of 226 :\n",
      "   6900N-33275E-debris_melt_curve.nc\n",
      "   6900N-33275E-debris_ts_curve.nc\n",
      "   5.14094\n"
     ]
    },
    {
     "name": "stderr",
     "output_type": "stream",
     "text": [
      "/Users/davidrounce/anaconda3/envs/debris_thickness_global/lib/python3.6/site-packages/pyproj/crs.py:77: FutureWarning: '+init=<authority>:<code>' syntax is deprecated. '<authority>:<code>' is the preferred initialization method.\n",
      "  return _prepare_from_string(\" \".join(pjargs))\n",
      "/Users/davidrounce/anaconda3/envs/debris_thickness_global/lib/python3.6/site-packages/numpy/ma/core.py:4008: RuntimeWarning: invalid value encountered in equal\n",
      "  check = compare(sdata, odata)\n"
     ]
    },
    {
     "name": "stdout",
     "output_type": "stream",
     "text": [
      "93 of 226 :\n",
      "   6950N-33475E-debris_melt_curve.nc\n",
      "   6950N-33475E-debris_ts_curve.nc\n",
      "   5.14380\n"
     ]
    },
    {
     "name": "stderr",
     "output_type": "stream",
     "text": [
      "/Users/davidrounce/anaconda3/envs/debris_thickness_global/lib/python3.6/site-packages/pyproj/crs.py:77: FutureWarning: '+init=<authority>:<code>' syntax is deprecated. '<authority>:<code>' is the preferred initialization method.\n",
      "  return _prepare_from_string(\" \".join(pjargs))\n"
     ]
    },
    {
     "name": "stdout",
     "output_type": "stream",
     "text": [
      "   5.14546\n",
      "   5.14574\n",
      "   5.14603\n",
      "94 of 226 :\n",
      "   6975N-30600E-debris_melt_curve.nc\n",
      "   6975N-30600E-debris_ts_curve.nc\n",
      "   5.01224\n"
     ]
    },
    {
     "name": "stderr",
     "output_type": "stream",
     "text": [
      "/Users/davidrounce/anaconda3/envs/debris_thickness_global/lib/python3.6/site-packages/pyproj/crs.py:77: FutureWarning: '+init=<authority>:<code>' syntax is deprecated. '<authority>:<code>' is the preferred initialization method.\n",
      "  return _prepare_from_string(\" \".join(pjargs))\n"
     ]
    },
    {
     "name": "stdout",
     "output_type": "stream",
     "text": [
      "   5.01383\n",
      "   5.01403\n",
      "95 of 226 :\n",
      "   6975N-30650E-debris_melt_curve.nc\n",
      "   6975N-30650E-debris_ts_curve.nc\n",
      "   5.01441\n"
     ]
    },
    {
     "name": "stderr",
     "output_type": "stream",
     "text": [
      "/Users/davidrounce/anaconda3/envs/debris_thickness_global/lib/python3.6/site-packages/pyproj/crs.py:77: FutureWarning: '+init=<authority>:<code>' syntax is deprecated. '<authority>:<code>' is the preferred initialization method.\n",
      "  return _prepare_from_string(\" \".join(pjargs))\n"
     ]
    },
    {
     "name": "stdout",
     "output_type": "stream",
     "text": [
      "   5.01452\n",
      "96 of 226 :\n",
      "   6975N-30675E-debris_melt_curve.nc\n",
      "   6975N-30675E-debris_ts_curve.nc\n",
      "   5.01456\n"
     ]
    },
    {
     "name": "stderr",
     "output_type": "stream",
     "text": [
      "/Users/davidrounce/anaconda3/envs/debris_thickness_global/lib/python3.6/site-packages/pyproj/crs.py:77: FutureWarning: '+init=<authority>:<code>' syntax is deprecated. '<authority>:<code>' is the preferred initialization method.\n",
      "  return _prepare_from_string(\" \".join(pjargs))\n"
     ]
    },
    {
     "name": "stdout",
     "output_type": "stream",
     "text": [
      "97 of 226 :\n",
      "   6975N-30725E-debris_melt_curve.nc\n",
      "   6975N-30725E-debris_ts_curve.nc\n",
      "   5.01355\n"
     ]
    },
    {
     "name": "stderr",
     "output_type": "stream",
     "text": [
      "/Users/davidrounce/anaconda3/envs/debris_thickness_global/lib/python3.6/site-packages/pyproj/crs.py:77: FutureWarning: '+init=<authority>:<code>' syntax is deprecated. '<authority>:<code>' is the preferred initialization method.\n",
      "  return _prepare_from_string(\" \".join(pjargs))\n"
     ]
    },
    {
     "name": "stdout",
     "output_type": "stream",
     "text": [
      "98 of 226 :\n",
      "   6975N-33600E-debris_melt_curve.nc\n",
      "   6975N-33600E-debris_ts_curve.nc\n",
      "   5.14705\n"
     ]
    },
    {
     "name": "stderr",
     "output_type": "stream",
     "text": [
      "/Users/davidrounce/anaconda3/envs/debris_thickness_global/lib/python3.6/site-packages/pyproj/crs.py:77: FutureWarning: '+init=<authority>:<code>' syntax is deprecated. '<authority>:<code>' is the preferred initialization method.\n",
      "  return _prepare_from_string(\" \".join(pjargs))\n"
     ]
    },
    {
     "name": "stdout",
     "output_type": "stream",
     "text": [
      "   5.14707\n",
      "99 of 226 :\n",
      "   7000N-30675E-debris_melt_curve.nc\n",
      "   7000N-30675E-debris_ts_curve.nc\n",
      "   5.01706\n"
     ]
    },
    {
     "name": "stderr",
     "output_type": "stream",
     "text": [
      "/Users/davidrounce/anaconda3/envs/debris_thickness_global/lib/python3.6/site-packages/pyproj/crs.py:77: FutureWarning: '+init=<authority>:<code>' syntax is deprecated. '<authority>:<code>' is the preferred initialization method.\n",
      "  return _prepare_from_string(\" \".join(pjargs))\n"
     ]
    },
    {
     "name": "stdout",
     "output_type": "stream",
     "text": [
      "100 of 226 :\n",
      "   7025N-33175E-debris_melt_curve.nc\n",
      "   7025N-33175E-debris_ts_curve.nc\n",
      "   5.15056\n"
     ]
    },
    {
     "name": "stderr",
     "output_type": "stream",
     "text": [
      "/Users/davidrounce/anaconda3/envs/debris_thickness_global/lib/python3.6/site-packages/pyproj/crs.py:77: FutureWarning: '+init=<authority>:<code>' syntax is deprecated. '<authority>:<code>' is the preferred initialization method.\n",
      "  return _prepare_from_string(\" \".join(pjargs))\n"
     ]
    },
    {
     "name": "stdout",
     "output_type": "stream",
     "text": [
      "   5.15062\n",
      "101 of 226 :\n",
      "   7025N-33200E-debris_melt_curve.nc\n",
      "   7025N-33200E-debris_ts_curve.nc\n",
      "   5.15065\n"
     ]
    },
    {
     "name": "stderr",
     "output_type": "stream",
     "text": [
      "/Users/davidrounce/anaconda3/envs/debris_thickness_global/lib/python3.6/site-packages/pyproj/crs.py:77: FutureWarning: '+init=<authority>:<code>' syntax is deprecated. '<authority>:<code>' is the preferred initialization method.\n",
      "  return _prepare_from_string(\" \".join(pjargs))\n"
     ]
    },
    {
     "name": "stdout",
     "output_type": "stream",
     "text": [
      "   5.16306\n",
      "102 of 226 :\n",
      "   7025N-33225E-debris_melt_curve.nc\n",
      "   7025N-33225E-debris_ts_curve.nc\n",
      "   5.15071\n"
     ]
    },
    {
     "name": "stderr",
     "output_type": "stream",
     "text": [
      "/Users/davidrounce/anaconda3/envs/debris_thickness_global/lib/python3.6/site-packages/pyproj/crs.py:77: FutureWarning: '+init=<authority>:<code>' syntax is deprecated. '<authority>:<code>' is the preferred initialization method.\n",
      "  return _prepare_from_string(\" \".join(pjargs))\n"
     ]
    },
    {
     "name": "stdout",
     "output_type": "stream",
     "text": [
      "   5.15098\n",
      "103 of 226 :\n",
      "   7050N-33825E-debris_melt_curve.nc\n",
      "   7050N-33825E-debris_ts_curve.nc\n",
      "   5.13471\n"
     ]
    },
    {
     "name": "stderr",
     "output_type": "stream",
     "text": [
      "/Users/davidrounce/anaconda3/envs/debris_thickness_global/lib/python3.6/site-packages/pyproj/crs.py:77: FutureWarning: '+init=<authority>:<code>' syntax is deprecated. '<authority>:<code>' is the preferred initialization method.\n",
      "  return _prepare_from_string(\" \".join(pjargs))\n"
     ]
    },
    {
     "name": "stdout",
     "output_type": "stream",
     "text": [
      "   5.14995\n",
      "   5.15662\n",
      "   5.15702\n",
      "   5.15705\n",
      "   5.15706\n",
      "   5.15829\n",
      "   5.16221\n",
      "104 of 226 :\n",
      "   7075N-33400E-debris_melt_curve.nc\n",
      "   7075N-33400E-debris_ts_curve.nc\n",
      "   5.15461\n"
     ]
    },
    {
     "name": "stderr",
     "output_type": "stream",
     "text": [
      "/Users/davidrounce/anaconda3/envs/debris_thickness_global/lib/python3.6/site-packages/pyproj/crs.py:77: FutureWarning: '+init=<authority>:<code>' syntax is deprecated. '<authority>:<code>' is the preferred initialization method.\n",
      "  return _prepare_from_string(\" \".join(pjargs))\n"
     ]
    },
    {
     "name": "stdout",
     "output_type": "stream",
     "text": [
      "   5.15462\n",
      "105 of 226 :\n",
      "   7100N-33400E-debris_melt_curve.nc\n",
      "   7100N-33400E-debris_ts_curve.nc\n",
      "   5.16093\n"
     ]
    },
    {
     "name": "stderr",
     "output_type": "stream",
     "text": [
      "/Users/davidrounce/anaconda3/envs/debris_thickness_global/lib/python3.6/site-packages/pyproj/crs.py:77: FutureWarning: '+init=<authority>:<code>' syntax is deprecated. '<authority>:<code>' is the preferred initialization method.\n",
      "  return _prepare_from_string(\" \".join(pjargs))\n"
     ]
    },
    {
     "name": "stdout",
     "output_type": "stream",
     "text": [
      "106 of 226 :\n",
      "   7100N-33425E-debris_melt_curve.nc\n",
      "   7100N-33425E-debris_ts_curve.nc\n",
      "   5.15456\n"
     ]
    },
    {
     "name": "stderr",
     "output_type": "stream",
     "text": [
      "/Users/davidrounce/anaconda3/envs/debris_thickness_global/lib/python3.6/site-packages/pyproj/crs.py:77: FutureWarning: '+init=<authority>:<code>' syntax is deprecated. '<authority>:<code>' is the preferred initialization method.\n",
      "  return _prepare_from_string(\" \".join(pjargs))\n"
     ]
    },
    {
     "name": "stdout",
     "output_type": "stream",
     "text": [
      "107 of 226 :\n",
      "   7125N-30800E-debris_melt_curve.nc\n",
      "   7125N-30800E-debris_ts_curve.nc\n",
      "   5.01780\n"
     ]
    },
    {
     "name": "stderr",
     "output_type": "stream",
     "text": [
      "/Users/davidrounce/anaconda3/envs/debris_thickness_global/lib/python3.6/site-packages/pyproj/crs.py:77: FutureWarning: '+init=<authority>:<code>' syntax is deprecated. '<authority>:<code>' is the preferred initialization method.\n",
      "  return _prepare_from_string(\" \".join(pjargs))\n"
     ]
    },
    {
     "name": "stdout",
     "output_type": "stream",
     "text": [
      "   5.02398\n",
      "   5.02536\n",
      "108 of 226 :\n",
      "   7125N-33350E-debris_melt_curve.nc\n",
      "   7125N-33350E-debris_ts_curve.nc\n",
      "   5.16062\n"
     ]
    },
    {
     "name": "stderr",
     "output_type": "stream",
     "text": [
      "/Users/davidrounce/anaconda3/envs/debris_thickness_global/lib/python3.6/site-packages/pyproj/crs.py:77: FutureWarning: '+init=<authority>:<code>' syntax is deprecated. '<authority>:<code>' is the preferred initialization method.\n",
      "  return _prepare_from_string(\" \".join(pjargs))\n"
     ]
    },
    {
     "name": "stdout",
     "output_type": "stream",
     "text": [
      "   5.16072\n",
      "109 of 226 :\n",
      "   7150N-30825E-debris_melt_curve.nc\n",
      "   7150N-30825E-debris_ts_curve.nc\n",
      "   5.02521\n"
     ]
    },
    {
     "name": "stderr",
     "output_type": "stream",
     "text": [
      "/Users/davidrounce/anaconda3/envs/debris_thickness_global/lib/python3.6/site-packages/pyproj/crs.py:77: FutureWarning: '+init=<authority>:<code>' syntax is deprecated. '<authority>:<code>' is the preferred initialization method.\n",
      "  return _prepare_from_string(\" \".join(pjargs))\n"
     ]
    },
    {
     "name": "stdout",
     "output_type": "stream",
     "text": [
      "110 of 226 :\n",
      "   7150N-33400E-debris_melt_curve.nc\n",
      "   7150N-33400E-debris_ts_curve.nc\n",
      "   5.16050\n"
     ]
    },
    {
     "name": "stderr",
     "output_type": "stream",
     "text": [
      "/Users/davidrounce/anaconda3/envs/debris_thickness_global/lib/python3.6/site-packages/pyproj/crs.py:77: FutureWarning: '+init=<authority>:<code>' syntax is deprecated. '<authority>:<code>' is the preferred initialization method.\n",
      "  return _prepare_from_string(\" \".join(pjargs))\n"
     ]
    },
    {
     "name": "stdout",
     "output_type": "stream",
     "text": [
      "   5.16061\n",
      "111 of 226 :\n",
      "   7150N-33450E-debris_melt_curve.nc\n",
      "   7150N-33450E-debris_ts_curve.nc\n",
      "   5.17150\n"
     ]
    },
    {
     "name": "stderr",
     "output_type": "stream",
     "text": [
      "/Users/davidrounce/anaconda3/envs/debris_thickness_global/lib/python3.6/site-packages/pyproj/crs.py:77: FutureWarning: '+init=<authority>:<code>' syntax is deprecated. '<authority>:<code>' is the preferred initialization method.\n",
      "  return _prepare_from_string(\" \".join(pjargs))\n"
     ]
    },
    {
     "name": "stdout",
     "output_type": "stream",
     "text": [
      "112 of 226 :\n",
      "   7150N-33475E-debris_melt_curve.nc\n",
      "   7150N-33475E-debris_ts_curve.nc\n",
      "   5.17200\n"
     ]
    },
    {
     "name": "stderr",
     "output_type": "stream",
     "text": [
      "/Users/davidrounce/anaconda3/envs/debris_thickness_global/lib/python3.6/site-packages/pyproj/crs.py:77: FutureWarning: '+init=<authority>:<code>' syntax is deprecated. '<authority>:<code>' is the preferred initialization method.\n",
      "  return _prepare_from_string(\" \".join(pjargs))\n"
     ]
    },
    {
     "name": "stdout",
     "output_type": "stream",
     "text": [
      "113 of 226 :\n",
      "   7175N-33375E-debris_melt_curve.nc\n",
      "   7175N-33375E-debris_ts_curve.nc\n",
      "   5.17186\n"
     ]
    },
    {
     "name": "stderr",
     "output_type": "stream",
     "text": [
      "/Users/davidrounce/anaconda3/envs/debris_thickness_global/lib/python3.6/site-packages/pyproj/crs.py:77: FutureWarning: '+init=<authority>:<code>' syntax is deprecated. '<authority>:<code>' is the preferred initialization method.\n",
      "  return _prepare_from_string(\" \".join(pjargs))\n"
     ]
    },
    {
     "name": "stdout",
     "output_type": "stream",
     "text": [
      "114 of 226 :\n",
      "   7175N-33425E-debris_melt_curve.nc\n",
      "   7175N-33425E-debris_ts_curve.nc\n",
      "   5.17145\n"
     ]
    },
    {
     "name": "stderr",
     "output_type": "stream",
     "text": [
      "/Users/davidrounce/anaconda3/envs/debris_thickness_global/lib/python3.6/site-packages/pyproj/crs.py:77: FutureWarning: '+init=<authority>:<code>' syntax is deprecated. '<authority>:<code>' is the preferred initialization method.\n",
      "  return _prepare_from_string(\" \".join(pjargs))\n"
     ]
    },
    {
     "name": "stdout",
     "output_type": "stream",
     "text": [
      "115 of 226 :\n",
      "   7175N-33500E-debris_melt_curve.nc\n",
      "   7175N-33500E-debris_ts_curve.nc\n",
      "   5.17177\n"
     ]
    },
    {
     "name": "stderr",
     "output_type": "stream",
     "text": [
      "/Users/davidrounce/anaconda3/envs/debris_thickness_global/lib/python3.6/site-packages/pyproj/crs.py:77: FutureWarning: '+init=<authority>:<code>' syntax is deprecated. '<authority>:<code>' is the preferred initialization method.\n",
      "  return _prepare_from_string(\" \".join(pjargs))\n"
     ]
    },
    {
     "name": "stdout",
     "output_type": "stream",
     "text": [
      "   5.17178\n",
      "116 of 226 :\n",
      "   7175N-33525E-debris_melt_curve.nc\n",
      "   7175N-33525E-debris_ts_curve.nc\n",
      "   5.17176\n"
     ]
    },
    {
     "name": "stderr",
     "output_type": "stream",
     "text": [
      "/Users/davidrounce/anaconda3/envs/debris_thickness_global/lib/python3.6/site-packages/pyproj/crs.py:77: FutureWarning: '+init=<authority>:<code>' syntax is deprecated. '<authority>:<code>' is the preferred initialization method.\n",
      "  return _prepare_from_string(\" \".join(pjargs))\n"
     ]
    },
    {
     "name": "stdout",
     "output_type": "stream",
     "text": [
      "117 of 226 :\n",
      "   7200N-30500E-debris_melt_curve.nc\n",
      "   7200N-30500E-debris_ts_curve.nc\n",
      "   5.02918\n"
     ]
    },
    {
     "name": "stderr",
     "output_type": "stream",
     "text": [
      "/Users/davidrounce/anaconda3/envs/debris_thickness_global/lib/python3.6/site-packages/pyproj/crs.py:77: FutureWarning: '+init=<authority>:<code>' syntax is deprecated. '<authority>:<code>' is the preferred initialization method.\n",
      "  return _prepare_from_string(\" \".join(pjargs))\n"
     ]
    },
    {
     "name": "stdout",
     "output_type": "stream",
     "text": [
      "   5.03185\n",
      "118 of 226 :\n",
      "   7200N-30625E-debris_melt_curve.nc\n",
      "   7200N-30625E-debris_ts_curve.nc\n",
      "   5.03019\n"
     ]
    },
    {
     "name": "stderr",
     "output_type": "stream",
     "text": [
      "/Users/davidrounce/anaconda3/envs/debris_thickness_global/lib/python3.6/site-packages/pyproj/crs.py:77: FutureWarning: '+init=<authority>:<code>' syntax is deprecated. '<authority>:<code>' is the preferred initialization method.\n",
      "  return _prepare_from_string(\" \".join(pjargs))\n"
     ]
    },
    {
     "name": "stdout",
     "output_type": "stream",
     "text": [
      "   5.03251\n",
      "119 of 226 :\n",
      "   7200N-33425E-debris_melt_curve.nc\n",
      "   7200N-33425E-debris_ts_curve.nc\n",
      "   5.17047\n"
     ]
    },
    {
     "name": "stderr",
     "output_type": "stream",
     "text": [
      "/Users/davidrounce/anaconda3/envs/debris_thickness_global/lib/python3.6/site-packages/pyproj/crs.py:77: FutureWarning: '+init=<authority>:<code>' syntax is deprecated. '<authority>:<code>' is the preferred initialization method.\n",
      "  return _prepare_from_string(\" \".join(pjargs))\n"
     ]
    },
    {
     "name": "stdout",
     "output_type": "stream",
     "text": [
      "   5.17118\n",
      "   5.17192\n",
      "120 of 226 :\n",
      "   7200N-33525E-debris_melt_curve.nc\n",
      "   7200N-33525E-debris_ts_curve.nc\n",
      "   5.17160\n"
     ]
    },
    {
     "name": "stderr",
     "output_type": "stream",
     "text": [
      "/Users/davidrounce/anaconda3/envs/debris_thickness_global/lib/python3.6/site-packages/pyproj/crs.py:77: FutureWarning: '+init=<authority>:<code>' syntax is deprecated. '<authority>:<code>' is the preferred initialization method.\n",
      "  return _prepare_from_string(\" \".join(pjargs))\n"
     ]
    },
    {
     "name": "stdout",
     "output_type": "stream",
     "text": [
      "121 of 226 :\n",
      "   7200N-33550E-debris_melt_curve.nc\n",
      "   7200N-33550E-debris_ts_curve.nc\n",
      "   5.17199\n"
     ]
    },
    {
     "name": "stderr",
     "output_type": "stream",
     "text": [
      "/Users/davidrounce/anaconda3/envs/debris_thickness_global/lib/python3.6/site-packages/pyproj/crs.py:77: FutureWarning: '+init=<authority>:<code>' syntax is deprecated. '<authority>:<code>' is the preferred initialization method.\n",
      "  return _prepare_from_string(\" \".join(pjargs))\n"
     ]
    },
    {
     "name": "stdout",
     "output_type": "stream",
     "text": [
      "122 of 226 :\n",
      "   7200N-33625E-debris_melt_curve.nc\n",
      "   7200N-33625E-debris_ts_curve.nc\n",
      "   5.17065\n"
     ]
    },
    {
     "name": "stderr",
     "output_type": "stream",
     "text": [
      "/Users/davidrounce/anaconda3/envs/debris_thickness_global/lib/python3.6/site-packages/pyproj/crs.py:77: FutureWarning: '+init=<authority>:<code>' syntax is deprecated. '<authority>:<code>' is the preferred initialization method.\n",
      "  return _prepare_from_string(\" \".join(pjargs))\n"
     ]
    },
    {
     "name": "stdout",
     "output_type": "stream",
     "text": [
      "   5.17175\n",
      "123 of 226 :\n",
      "   7200N-33675E-debris_melt_curve.nc\n",
      "   7200N-33675E-debris_ts_curve.nc\n",
      "   5.18663\n"
     ]
    },
    {
     "name": "stderr",
     "output_type": "stream",
     "text": [
      "/Users/davidrounce/anaconda3/envs/debris_thickness_global/lib/python3.6/site-packages/pyproj/crs.py:77: FutureWarning: '+init=<authority>:<code>' syntax is deprecated. '<authority>:<code>' is the preferred initialization method.\n",
      "  return _prepare_from_string(\" \".join(pjargs))\n",
      "/Users/davidrounce/anaconda3/envs/debris_thickness_global/lib/python3.6/site-packages/numpy/ma/core.py:1178: RuntimeWarning: invalid value encountered in multiply\n",
      "  masked_da = umath.multiply(m, da)\n"
     ]
    },
    {
     "name": "stdout",
     "output_type": "stream",
     "text": [
      "124 of 226 :\n",
      "   7225N-33500E-debris_melt_curve.nc\n",
      "   7225N-33500E-debris_ts_curve.nc\n",
      "   5.17117\n"
     ]
    },
    {
     "name": "stderr",
     "output_type": "stream",
     "text": [
      "/Users/davidrounce/anaconda3/envs/debris_thickness_global/lib/python3.6/site-packages/pyproj/crs.py:77: FutureWarning: '+init=<authority>:<code>' syntax is deprecated. '<authority>:<code>' is the preferred initialization method.\n",
      "  return _prepare_from_string(\" \".join(pjargs))\n"
     ]
    },
    {
     "name": "stdout",
     "output_type": "stream",
     "text": [
      "125 of 226 :\n",
      "   7225N-33525E-debris_melt_curve.nc\n",
      "   7225N-33525E-debris_ts_curve.nc\n",
      "   5.17053\n"
     ]
    },
    {
     "name": "stderr",
     "output_type": "stream",
     "text": [
      "/Users/davidrounce/anaconda3/envs/debris_thickness_global/lib/python3.6/site-packages/pyproj/crs.py:77: FutureWarning: '+init=<authority>:<code>' syntax is deprecated. '<authority>:<code>' is the preferred initialization method.\n",
      "  return _prepare_from_string(\" \".join(pjargs))\n"
     ]
    },
    {
     "name": "stdout",
     "output_type": "stream",
     "text": [
      "   5.17171\n",
      "126 of 226 :\n",
      "   7225N-33750E-debris_melt_curve.nc\n",
      "   7225N-33750E-debris_ts_curve.nc\n",
      "   5.18669\n"
     ]
    },
    {
     "name": "stderr",
     "output_type": "stream",
     "text": [
      "/Users/davidrounce/anaconda3/envs/debris_thickness_global/lib/python3.6/site-packages/pyproj/crs.py:77: FutureWarning: '+init=<authority>:<code>' syntax is deprecated. '<authority>:<code>' is the preferred initialization method.\n",
      "  return _prepare_from_string(\" \".join(pjargs))\n"
     ]
    },
    {
     "name": "stdout",
     "output_type": "stream",
     "text": [
      "127 of 226 :\n",
      "   7250N-33375E-debris_melt_curve.nc\n",
      "   7250N-33375E-debris_ts_curve.nc\n",
      "   5.17052\n"
     ]
    },
    {
     "name": "stderr",
     "output_type": "stream",
     "text": [
      "/Users/davidrounce/anaconda3/envs/debris_thickness_global/lib/python3.6/site-packages/pyproj/crs.py:77: FutureWarning: '+init=<authority>:<code>' syntax is deprecated. '<authority>:<code>' is the preferred initialization method.\n",
      "  return _prepare_from_string(\" \".join(pjargs))\n"
     ]
    },
    {
     "name": "stdout",
     "output_type": "stream",
     "text": [
      "   5.18770\n",
      "128 of 226 :\n",
      "   7250N-33400E-debris_melt_curve.nc\n",
      "   7250N-33400E-debris_ts_curve.nc\n",
      "   5.18781\n"
     ]
    },
    {
     "name": "stderr",
     "output_type": "stream",
     "text": [
      "/Users/davidrounce/anaconda3/envs/debris_thickness_global/lib/python3.6/site-packages/pyproj/crs.py:77: FutureWarning: '+init=<authority>:<code>' syntax is deprecated. '<authority>:<code>' is the preferred initialization method.\n",
      "  return _prepare_from_string(\" \".join(pjargs))\n"
     ]
    },
    {
     "name": "stdout",
     "output_type": "stream",
     "text": [
      "129 of 226 :\n",
      "   7275N-33575E-debris_melt_curve.nc\n",
      "   7275N-33575E-debris_ts_curve.nc\n",
      "   5.18102\n"
     ]
    },
    {
     "name": "stderr",
     "output_type": "stream",
     "text": [
      "/Users/davidrounce/anaconda3/envs/debris_thickness_global/lib/python3.6/site-packages/pyproj/crs.py:77: FutureWarning: '+init=<authority>:<code>' syntax is deprecated. '<authority>:<code>' is the preferred initialization method.\n",
      "  return _prepare_from_string(\" \".join(pjargs))\n"
     ]
    },
    {
     "name": "stdout",
     "output_type": "stream",
     "text": [
      "   5.18139\n",
      "130 of 226 :\n",
      "   7300N-33300E-debris_melt_curve.nc\n",
      "   7300N-33300E-debris_ts_curve.nc\n",
      "   5.19098\n"
     ]
    },
    {
     "name": "stderr",
     "output_type": "stream",
     "text": [
      "/Users/davidrounce/anaconda3/envs/debris_thickness_global/lib/python3.6/site-packages/pyproj/crs.py:77: FutureWarning: '+init=<authority>:<code>' syntax is deprecated. '<authority>:<code>' is the preferred initialization method.\n",
      "  return _prepare_from_string(\" \".join(pjargs))\n"
     ]
    },
    {
     "name": "stdout",
     "output_type": "stream",
     "text": [
      "131 of 226 :\n",
      "   7350N-33700E-debris_melt_curve.nc\n",
      "   7350N-33700E-debris_ts_curve.nc\n",
      "   5.18439\n"
     ]
    },
    {
     "name": "stderr",
     "output_type": "stream",
     "text": [
      "/Users/davidrounce/anaconda3/envs/debris_thickness_global/lib/python3.6/site-packages/pyproj/crs.py:77: FutureWarning: '+init=<authority>:<code>' syntax is deprecated. '<authority>:<code>' is the preferred initialization method.\n",
      "  return _prepare_from_string(\" \".join(pjargs))\n"
     ]
    },
    {
     "name": "stdout",
     "output_type": "stream",
     "text": [
      "   5.19654\n"
     ]
    },
    {
     "name": "stderr",
     "output_type": "stream",
     "text": [
      "/Users/davidrounce/anaconda3/envs/debris_thickness_global/lib/python3.6/site-packages/numpy/ma/core.py:1015: RuntimeWarning: overflow encountered in multiply\n",
      "  result = self.f(da, db, *args, **kwargs)\n",
      "/Users/davidrounce/anaconda3/envs/debris_thickness_global/lib/python3.6/site-packages/numpy/ma/core.py:1178: RuntimeWarning: invalid value encountered in multiply\n",
      "  masked_da = umath.multiply(m, da)\n"
     ]
    },
    {
     "name": "stdout",
     "output_type": "stream",
     "text": [
      "   5.19659\n",
      "132 of 226 :\n",
      "   7400N-33675E-debris_melt_curve.nc\n",
      "   7400N-33675E-debris_ts_curve.nc\n",
      "   5.18499\n"
     ]
    },
    {
     "name": "stderr",
     "output_type": "stream",
     "text": [
      "/Users/davidrounce/anaconda3/envs/debris_thickness_global/lib/python3.6/site-packages/pyproj/crs.py:77: FutureWarning: '+init=<authority>:<code>' syntax is deprecated. '<authority>:<code>' is the preferred initialization method.\n",
      "  return _prepare_from_string(\" \".join(pjargs))\n"
     ]
    },
    {
     "name": "stdout",
     "output_type": "stream",
     "text": [
      "   5.19663\n",
      "   5.19678\n",
      "   5.19688\n",
      "   5.19751\n",
      "   5.19802\n",
      "   5.19830\n",
      "133 of 226 :\n",
      "   7400N-33700E-debris_melt_curve.nc\n",
      "   7400N-33700E-debris_ts_curve.nc\n",
      "   5.19833\n"
     ]
    },
    {
     "name": "stderr",
     "output_type": "stream",
     "text": [
      "/Users/davidrounce/anaconda3/envs/debris_thickness_global/lib/python3.6/site-packages/pyproj/crs.py:77: FutureWarning: '+init=<authority>:<code>' syntax is deprecated. '<authority>:<code>' is the preferred initialization method.\n",
      "  return _prepare_from_string(\" \".join(pjargs))\n"
     ]
    },
    {
     "name": "stdout",
     "output_type": "stream",
     "text": [
      "134 of 226 :\n",
      "   7400N-33725E-debris_melt_curve.nc\n",
      "   7400N-33725E-debris_ts_curve.nc\n",
      "   5.18552\n"
     ]
    },
    {
     "name": "stderr",
     "output_type": "stream",
     "text": [
      "/Users/davidrounce/anaconda3/envs/debris_thickness_global/lib/python3.6/site-packages/pyproj/crs.py:77: FutureWarning: '+init=<authority>:<code>' syntax is deprecated. '<authority>:<code>' is the preferred initialization method.\n",
      "  return _prepare_from_string(\" \".join(pjargs))\n"
     ]
    },
    {
     "name": "stdout",
     "output_type": "stream",
     "text": [
      "   5.19727\n",
      "   5.19831\n",
      "135 of 226 :\n",
      "   7400N-33750E-debris_melt_curve.nc\n",
      "   7400N-33750E-debris_ts_curve.nc\n",
      "   5.19876\n"
     ]
    },
    {
     "name": "stderr",
     "output_type": "stream",
     "text": [
      "/Users/davidrounce/anaconda3/envs/debris_thickness_global/lib/python3.6/site-packages/pyproj/crs.py:77: FutureWarning: '+init=<authority>:<code>' syntax is deprecated. '<authority>:<code>' is the preferred initialization method.\n",
      "  return _prepare_from_string(\" \".join(pjargs))\n"
     ]
    },
    {
     "name": "stdout",
     "output_type": "stream",
     "text": [
      "   5.19877\n",
      "136 of 226 :\n",
      "   7425N-30350E-debris_melt_curve.nc\n",
      "   7425N-30350E-debris_ts_curve.nc\n",
      "   5.07408\n"
     ]
    },
    {
     "name": "stderr",
     "output_type": "stream",
     "text": [
      "/Users/davidrounce/anaconda3/envs/debris_thickness_global/lib/python3.6/site-packages/pyproj/crs.py:77: FutureWarning: '+init=<authority>:<code>' syntax is deprecated. '<authority>:<code>' is the preferred initialization method.\n",
      "  return _prepare_from_string(\" \".join(pjargs))\n"
     ]
    },
    {
     "name": "stdout",
     "output_type": "stream",
     "text": [
      "137 of 226 :\n",
      "   7425N-33525E-debris_melt_curve.nc\n",
      "   7425N-33525E-debris_ts_curve.nc\n",
      "   5.08982\n"
     ]
    },
    {
     "name": "stderr",
     "output_type": "stream",
     "text": [
      "/Users/davidrounce/anaconda3/envs/debris_thickness_global/lib/python3.6/site-packages/pyproj/crs.py:77: FutureWarning: '+init=<authority>:<code>' syntax is deprecated. '<authority>:<code>' is the preferred initialization method.\n",
      "  return _prepare_from_string(\" \".join(pjargs))\n"
     ]
    },
    {
     "name": "stdout",
     "output_type": "stream",
     "text": [
      "   5.09072\n",
      "   5.09447\n",
      "   5.17467\n",
      "   5.19705\n",
      "   5.19747\n",
      "   5.19921\n",
      "138 of 226 :\n",
      "   7425N-33775E-debris_melt_curve.nc\n",
      "   7425N-33775E-debris_ts_curve.nc\n",
      "   5.19945\n"
     ]
    },
    {
     "name": "stderr",
     "output_type": "stream",
     "text": [
      "/Users/davidrounce/anaconda3/envs/debris_thickness_global/lib/python3.6/site-packages/pyproj/crs.py:77: FutureWarning: '+init=<authority>:<code>' syntax is deprecated. '<authority>:<code>' is the preferred initialization method.\n",
      "  return _prepare_from_string(\" \".join(pjargs))\n"
     ]
    },
    {
     "name": "stdout",
     "output_type": "stream",
     "text": [
      "   5.20052\n",
      "139 of 226 :\n",
      "   7450N-34050E-debris_melt_curve.nc\n",
      "   7450N-34050E-debris_ts_curve.nc\n",
      "   5.18601\n"
     ]
    },
    {
     "name": "stderr",
     "output_type": "stream",
     "text": [
      "/Users/davidrounce/anaconda3/envs/debris_thickness_global/lib/python3.6/site-packages/pyproj/crs.py:77: FutureWarning: '+init=<authority>:<code>' syntax is deprecated. '<authority>:<code>' is the preferred initialization method.\n",
      "  return _prepare_from_string(\" \".join(pjargs))\n"
     ]
    },
    {
     "name": "stdout",
     "output_type": "stream",
     "text": [
      "140 of 226 :\n",
      "   7500N-33800E-debris_melt_curve.nc\n",
      "   7500N-33800E-debris_ts_curve.nc\n",
      "   5.20183\n"
     ]
    },
    {
     "name": "stderr",
     "output_type": "stream",
     "text": [
      "/Users/davidrounce/anaconda3/envs/debris_thickness_global/lib/python3.6/site-packages/pyproj/crs.py:77: FutureWarning: '+init=<authority>:<code>' syntax is deprecated. '<authority>:<code>' is the preferred initialization method.\n",
      "  return _prepare_from_string(\" \".join(pjargs))\n"
     ]
    },
    {
     "name": "stdout",
     "output_type": "stream",
     "text": [
      "   5.20198\n",
      "   5.20231\n",
      "141 of 226 :\n",
      "   7500N-33975E-debris_melt_curve.nc\n",
      "   7500N-33975E-debris_ts_curve.nc\n",
      "   5.09558\n"
     ]
    },
    {
     "name": "stderr",
     "output_type": "stream",
     "text": [
      "/Users/davidrounce/anaconda3/envs/debris_thickness_global/lib/python3.6/site-packages/pyproj/crs.py:77: FutureWarning: '+init=<authority>:<code>' syntax is deprecated. '<authority>:<code>' is the preferred initialization method.\n",
      "  return _prepare_from_string(\" \".join(pjargs))\n"
     ]
    },
    {
     "name": "stdout",
     "output_type": "stream",
     "text": [
      "   5.09569\n",
      "   5.20173\n",
      "   5.20266\n",
      "142 of 226 :\n",
      "   7525N-33800E-debris_melt_curve.nc\n",
      "   7525N-33800E-debris_ts_curve.nc\n",
      "   5.08655\n"
     ]
    },
    {
     "name": "stderr",
     "output_type": "stream",
     "text": [
      "/Users/davidrounce/anaconda3/envs/debris_thickness_global/lib/python3.6/site-packages/pyproj/crs.py:77: FutureWarning: '+init=<authority>:<code>' syntax is deprecated. '<authority>:<code>' is the preferred initialization method.\n",
      "  return _prepare_from_string(\" \".join(pjargs))\n"
     ]
    },
    {
     "name": "stdout",
     "output_type": "stream",
     "text": [
      "   5.08682\n",
      "   5.09203\n",
      "   5.09295\n",
      "   5.09551\n",
      "143 of 226 :\n",
      "   7675N-28950E-debris_melt_curve.nc\n",
      "   7675N-28950E-debris_ts_curve.nc\n",
      "   5.08053\n"
     ]
    },
    {
     "name": "stderr",
     "output_type": "stream",
     "text": [
      "/Users/davidrounce/anaconda3/envs/debris_thickness_global/lib/python3.6/site-packages/pyproj/crs.py:77: FutureWarning: '+init=<authority>:<code>' syntax is deprecated. '<authority>:<code>' is the preferred initialization method.\n",
      "  return _prepare_from_string(\" \".join(pjargs))\n"
     ]
    },
    {
     "name": "stdout",
     "output_type": "stream",
     "text": [
      "144 of 226 :\n",
      "   7700N-28925E-debris_melt_curve.nc\n",
      "   7700N-28925E-debris_ts_curve.nc\n",
      "   5.08044\n"
     ]
    },
    {
     "name": "stderr",
     "output_type": "stream",
     "text": [
      "/Users/davidrounce/anaconda3/envs/debris_thickness_global/lib/python3.6/site-packages/pyproj/crs.py:77: FutureWarning: '+init=<authority>:<code>' syntax is deprecated. '<authority>:<code>' is the preferred initialization method.\n",
      "  return _prepare_from_string(\" \".join(pjargs))\n"
     ]
    },
    {
     "name": "stdout",
     "output_type": "stream",
     "text": [
      "   5.08189\n",
      "145 of 226 :\n",
      "   7700N-29000E-debris_melt_curve.nc\n",
      "   7700N-29000E-debris_ts_curve.nc\n",
      "   5.07893\n"
     ]
    },
    {
     "name": "stderr",
     "output_type": "stream",
     "text": [
      "/Users/davidrounce/anaconda3/envs/debris_thickness_global/lib/python3.6/site-packages/pyproj/crs.py:77: FutureWarning: '+init=<authority>:<code>' syntax is deprecated. '<authority>:<code>' is the preferred initialization method.\n",
      "  return _prepare_from_string(\" \".join(pjargs))\n"
     ]
    },
    {
     "name": "stdout",
     "output_type": "stream",
     "text": [
      "   5.08029\n",
      "   5.08060\n",
      "146 of 226 :\n",
      "   7700N-29125E-debris_melt_curve.nc\n",
      "   7700N-29125E-debris_ts_curve.nc\n",
      "   5.07854\n"
     ]
    },
    {
     "name": "stderr",
     "output_type": "stream",
     "text": [
      "/Users/davidrounce/anaconda3/envs/debris_thickness_global/lib/python3.6/site-packages/pyproj/crs.py:77: FutureWarning: '+init=<authority>:<code>' syntax is deprecated. '<authority>:<code>' is the preferred initialization method.\n",
      "  return _prepare_from_string(\" \".join(pjargs))\n"
     ]
    },
    {
     "name": "stdout",
     "output_type": "stream",
     "text": [
      "   5.08035\n",
      "   5.08041\n",
      "   5.08054\n",
      "   5.08055\n",
      "   5.08067\n",
      "   5.08071\n",
      "   5.08074\n",
      "147 of 226 :\n",
      "   7725N-29075E-debris_melt_curve.nc\n",
      "   7725N-29075E-debris_ts_curve.nc\n",
      "   5.08033\n"
     ]
    },
    {
     "name": "stderr",
     "output_type": "stream",
     "text": [
      "/Users/davidrounce/anaconda3/envs/debris_thickness_global/lib/python3.6/site-packages/pyproj/crs.py:77: FutureWarning: '+init=<authority>:<code>' syntax is deprecated. '<authority>:<code>' is the preferred initialization method.\n",
      "  return _prepare_from_string(\" \".join(pjargs))\n"
     ]
    },
    {
     "name": "stdout",
     "output_type": "stream",
     "text": [
      "   5.08068\n",
      "148 of 226 :\n",
      "   7750N-29450E-debris_melt_curve.nc\n",
      "   7750N-29450E-debris_ts_curve.nc\n",
      "   5.07572\n"
     ]
    },
    {
     "name": "stderr",
     "output_type": "stream",
     "text": [
      "/Users/davidrounce/anaconda3/envs/debris_thickness_global/lib/python3.6/site-packages/pyproj/crs.py:77: FutureWarning: '+init=<authority>:<code>' syntax is deprecated. '<authority>:<code>' is the preferred initialization method.\n",
      "  return _prepare_from_string(\" \".join(pjargs))\n"
     ]
    },
    {
     "name": "stdout",
     "output_type": "stream",
     "text": [
      "   5.07857\n",
      "   5.07878\n",
      "   5.07993\n",
      "149 of 226 :\n",
      "   7975N-34075E-debris_melt_curve.nc\n",
      "   7975N-34075E-debris_ts_curve.nc\n",
      "   5.09571\n"
     ]
    },
    {
     "name": "stderr",
     "output_type": "stream",
     "text": [
      "/Users/davidrounce/anaconda3/envs/debris_thickness_global/lib/python3.6/site-packages/pyproj/crs.py:77: FutureWarning: '+init=<authority>:<code>' syntax is deprecated. '<authority>:<code>' is the preferred initialization method.\n",
      "  return _prepare_from_string(\" \".join(pjargs))\n"
     ]
    },
    {
     "name": "stdout",
     "output_type": "stream",
     "text": [
      "   5.09574\n",
      "   5.09575\n",
      "   5.09578\n",
      "   5.09595\n",
      "   5.09599\n",
      "   5.09606\n",
      "   5.09820\n",
      "   5.09825\n",
      "150 of 226 :\n",
      "   8000N-29625E-debris_melt_curve.nc\n",
      "   8000N-29625E-debris_ts_curve.nc\n",
      "   5.08255\n"
     ]
    },
    {
     "name": "stderr",
     "output_type": "stream",
     "text": [
      "/Users/davidrounce/anaconda3/envs/debris_thickness_global/lib/python3.6/site-packages/pyproj/crs.py:77: FutureWarning: '+init=<authority>:<code>' syntax is deprecated. '<authority>:<code>' is the preferred initialization method.\n",
      "  return _prepare_from_string(\" \".join(pjargs))\n"
     ]
    },
    {
     "name": "stdout",
     "output_type": "stream",
     "text": [
      "151 of 226 :\n",
      "   8000N-29650E-debris_melt_curve.nc\n",
      "   8000N-29650E-debris_ts_curve.nc\n",
      "   5.08254\n"
     ]
    },
    {
     "name": "stderr",
     "output_type": "stream",
     "text": [
      "/Users/davidrounce/anaconda3/envs/debris_thickness_global/lib/python3.6/site-packages/pyproj/crs.py:77: FutureWarning: '+init=<authority>:<code>' syntax is deprecated. '<authority>:<code>' is the preferred initialization method.\n",
      "  return _prepare_from_string(\" \".join(pjargs))\n"
     ]
    },
    {
     "name": "stdout",
     "output_type": "stream",
     "text": [
      "   5.08256\n",
      "152 of 226 :\n",
      "   8000N-33825E-debris_melt_curve.nc\n",
      "   8000N-33825E-debris_ts_curve.nc\n",
      "   5.09603\n"
     ]
    },
    {
     "name": "stderr",
     "output_type": "stream",
     "text": [
      "/Users/davidrounce/anaconda3/envs/debris_thickness_global/lib/python3.6/site-packages/pyproj/crs.py:77: FutureWarning: '+init=<authority>:<code>' syntax is deprecated. '<authority>:<code>' is the preferred initialization method.\n",
      "  return _prepare_from_string(\" \".join(pjargs))\n"
     ]
    },
    {
     "name": "stdout",
     "output_type": "stream",
     "text": [
      "   5.09627\n",
      "   5.09737\n",
      "   5.09761\n",
      "   5.09785\n",
      "153 of 226 :\n",
      "   8000N-34050E-debris_melt_curve.nc\n",
      "   8000N-34050E-debris_ts_curve.nc\n",
      "   5.09660\n"
     ]
    },
    {
     "name": "stderr",
     "output_type": "stream",
     "text": [
      "/Users/davidrounce/anaconda3/envs/debris_thickness_global/lib/python3.6/site-packages/pyproj/crs.py:77: FutureWarning: '+init=<authority>:<code>' syntax is deprecated. '<authority>:<code>' is the preferred initialization method.\n",
      "  return _prepare_from_string(\" \".join(pjargs))\n"
     ]
    },
    {
     "name": "stdout",
     "output_type": "stream",
     "text": [
      "   5.09748\n",
      "   5.09807\n",
      "   5.09811\n",
      "   5.09813\n",
      "   5.09841\n",
      "   5.09938\n",
      "   5.10138\n",
      "154 of 226 :\n",
      "   8000N-34075E-debris_melt_curve.nc\n",
      "   8000N-34075E-debris_ts_curve.nc\n",
      "   5.09842\n"
     ]
    },
    {
     "name": "stderr",
     "output_type": "stream",
     "text": [
      "/Users/davidrounce/anaconda3/envs/debris_thickness_global/lib/python3.6/site-packages/pyproj/crs.py:77: FutureWarning: '+init=<authority>:<code>' syntax is deprecated. '<authority>:<code>' is the preferred initialization method.\n",
      "  return _prepare_from_string(\" \".join(pjargs))\n"
     ]
    },
    {
     "name": "stdout",
     "output_type": "stream",
     "text": [
      "   5.09915\n",
      "   5.09940\n",
      "155 of 226 :\n",
      "   8025N-29400E-debris_melt_curve.nc\n",
      "   8025N-29400E-debris_ts_curve.nc\n",
      "   5.08277\n"
     ]
    },
    {
     "name": "stderr",
     "output_type": "stream",
     "text": [
      "/Users/davidrounce/anaconda3/envs/debris_thickness_global/lib/python3.6/site-packages/pyproj/crs.py:77: FutureWarning: '+init=<authority>:<code>' syntax is deprecated. '<authority>:<code>' is the preferred initialization method.\n",
      "  return _prepare_from_string(\" \".join(pjargs))\n"
     ]
    },
    {
     "name": "stdout",
     "output_type": "stream",
     "text": [
      "   5.08282\n",
      "156 of 226 :\n",
      "   8025N-29425E-debris_melt_curve.nc\n",
      "   8025N-29425E-debris_ts_curve.nc\n",
      "   5.08267\n"
     ]
    },
    {
     "name": "stderr",
     "output_type": "stream",
     "text": [
      "/Users/davidrounce/anaconda3/envs/debris_thickness_global/lib/python3.6/site-packages/pyproj/crs.py:77: FutureWarning: '+init=<authority>:<code>' syntax is deprecated. '<authority>:<code>' is the preferred initialization method.\n",
      "  return _prepare_from_string(\" \".join(pjargs))\n"
     ]
    },
    {
     "name": "stdout",
     "output_type": "stream",
     "text": [
      "157 of 226 :\n",
      "   8025N-29525E-debris_melt_curve.nc\n",
      "   8025N-29525E-debris_ts_curve.nc\n",
      "   5.08262\n"
     ]
    },
    {
     "name": "stderr",
     "output_type": "stream",
     "text": [
      "/Users/davidrounce/anaconda3/envs/debris_thickness_global/lib/python3.6/site-packages/pyproj/crs.py:77: FutureWarning: '+init=<authority>:<code>' syntax is deprecated. '<authority>:<code>' is the preferred initialization method.\n",
      "  return _prepare_from_string(\" \".join(pjargs))\n"
     ]
    },
    {
     "name": "stdout",
     "output_type": "stream",
     "text": [
      "   5.08263\n",
      "   5.08352\n",
      "   5.08393\n",
      "158 of 226 :\n",
      "   8025N-29550E-debris_melt_curve.nc\n",
      "   8025N-29550E-debris_ts_curve.nc\n",
      "   5.08261\n"
     ]
    },
    {
     "name": "stderr",
     "output_type": "stream",
     "text": [
      "/Users/davidrounce/anaconda3/envs/debris_thickness_global/lib/python3.6/site-packages/pyproj/crs.py:77: FutureWarning: '+init=<authority>:<code>' syntax is deprecated. '<authority>:<code>' is the preferred initialization method.\n",
      "  return _prepare_from_string(\" \".join(pjargs))\n"
     ]
    },
    {
     "name": "stdout",
     "output_type": "stream",
     "text": [
      "   5.08389\n",
      "159 of 226 :\n",
      "   8025N-29625E-debris_melt_curve.nc\n",
      "   8025N-29625E-debris_ts_curve.nc\n",
      "   5.08259\n"
     ]
    },
    {
     "name": "stderr",
     "output_type": "stream",
     "text": [
      "/Users/davidrounce/anaconda3/envs/debris_thickness_global/lib/python3.6/site-packages/pyproj/crs.py:77: FutureWarning: '+init=<authority>:<code>' syntax is deprecated. '<authority>:<code>' is the preferred initialization method.\n",
      "  return _prepare_from_string(\" \".join(pjargs))\n"
     ]
    },
    {
     "name": "stdout",
     "output_type": "stream",
     "text": [
      "   5.08284\n",
      "160 of 226 :\n",
      "   8025N-34125E-debris_melt_curve.nc\n",
      "   8025N-34125E-debris_ts_curve.nc\n",
      "   5.09854\n"
     ]
    },
    {
     "name": "stderr",
     "output_type": "stream",
     "text": [
      "/Users/davidrounce/anaconda3/envs/debris_thickness_global/lib/python3.6/site-packages/pyproj/crs.py:77: FutureWarning: '+init=<authority>:<code>' syntax is deprecated. '<authority>:<code>' is the preferred initialization method.\n",
      "  return _prepare_from_string(\" \".join(pjargs))\n"
     ]
    },
    {
     "name": "stdout",
     "output_type": "stream",
     "text": [
      "   5.09935\n",
      "161 of 226 :\n",
      "   8025N-34150E-debris_melt_curve.nc\n",
      "   8025N-34150E-debris_ts_curve.nc\n",
      "   5.09924\n"
     ]
    },
    {
     "name": "stderr",
     "output_type": "stream",
     "text": [
      "/Users/davidrounce/anaconda3/envs/debris_thickness_global/lib/python3.6/site-packages/pyproj/crs.py:77: FutureWarning: '+init=<authority>:<code>' syntax is deprecated. '<authority>:<code>' is the preferred initialization method.\n",
      "  return _prepare_from_string(\" \".join(pjargs))\n"
     ]
    },
    {
     "name": "stdout",
     "output_type": "stream",
     "text": [
      "   5.09928\n",
      "162 of 226 :\n",
      "   8025N-34200E-debris_melt_curve.nc\n",
      "   8025N-34200E-debris_ts_curve.nc\n",
      "   5.09784\n"
     ]
    },
    {
     "name": "stderr",
     "output_type": "stream",
     "text": [
      "/Users/davidrounce/anaconda3/envs/debris_thickness_global/lib/python3.6/site-packages/pyproj/crs.py:77: FutureWarning: '+init=<authority>:<code>' syntax is deprecated. '<authority>:<code>' is the preferred initialization method.\n",
      "  return _prepare_from_string(\" \".join(pjargs))\n"
     ]
    },
    {
     "name": "stdout",
     "output_type": "stream",
     "text": [
      "   5.09832\n",
      "   5.09995\n",
      "   5.09997\n",
      "   5.09998\n",
      "   5.10000\n",
      "   5.10001\n",
      "163 of 226 :\n",
      "   8050N-29425E-debris_melt_curve.nc\n",
      "   8050N-29425E-debris_ts_curve.nc\n",
      "   5.08291\n"
     ]
    },
    {
     "name": "stderr",
     "output_type": "stream",
     "text": [
      "/Users/davidrounce/anaconda3/envs/debris_thickness_global/lib/python3.6/site-packages/pyproj/crs.py:77: FutureWarning: '+init=<authority>:<code>' syntax is deprecated. '<authority>:<code>' is the preferred initialization method.\n",
      "  return _prepare_from_string(\" \".join(pjargs))\n"
     ]
    },
    {
     "name": "stdout",
     "output_type": "stream",
     "text": [
      "164 of 226 :\n",
      "   8050N-29650E-debris_melt_curve.nc\n",
      "   8050N-29650E-debris_ts_curve.nc\n",
      "   5.08279\n"
     ]
    },
    {
     "name": "stderr",
     "output_type": "stream",
     "text": [
      "/Users/davidrounce/anaconda3/envs/debris_thickness_global/lib/python3.6/site-packages/pyproj/crs.py:77: FutureWarning: '+init=<authority>:<code>' syntax is deprecated. '<authority>:<code>' is the preferred initialization method.\n",
      "  return _prepare_from_string(\" \".join(pjargs))\n"
     ]
    },
    {
     "name": "stdout",
     "output_type": "stream",
     "text": [
      "   5.08390\n",
      "165 of 226 :\n",
      "   8050N-33850E-debris_melt_curve.nc\n",
      "   8050N-33850E-debris_ts_curve.nc\n",
      "   5.09862\n"
     ]
    },
    {
     "name": "stderr",
     "output_type": "stream",
     "text": [
      "/Users/davidrounce/anaconda3/envs/debris_thickness_global/lib/python3.6/site-packages/pyproj/crs.py:77: FutureWarning: '+init=<authority>:<code>' syntax is deprecated. '<authority>:<code>' is the preferred initialization method.\n",
      "  return _prepare_from_string(\" \".join(pjargs))\n"
     ]
    },
    {
     "name": "stdout",
     "output_type": "stream",
     "text": [
      "   5.10148\n",
      "   5.10149\n",
      "166 of 226 :\n",
      "   8075N-29750E-debris_melt_curve.nc\n",
      "   8075N-29750E-debris_ts_curve.nc\n",
      "   5.08270\n"
     ]
    },
    {
     "name": "stderr",
     "output_type": "stream",
     "text": [
      "/Users/davidrounce/anaconda3/envs/debris_thickness_global/lib/python3.6/site-packages/pyproj/crs.py:77: FutureWarning: '+init=<authority>:<code>' syntax is deprecated. '<authority>:<code>' is the preferred initialization method.\n",
      "  return _prepare_from_string(\" \".join(pjargs))\n"
     ]
    },
    {
     "name": "stdout",
     "output_type": "stream",
     "text": [
      "   5.08300\n",
      "   5.08443\n",
      "   5.08446\n",
      "167 of 226 :\n",
      "   8075N-33525E-debris_melt_curve.nc\n",
      "   8075N-33525E-debris_ts_curve.nc\n",
      "   5.09853\n"
     ]
    },
    {
     "name": "stderr",
     "output_type": "stream",
     "text": [
      "/Users/davidrounce/anaconda3/envs/debris_thickness_global/lib/python3.6/site-packages/pyproj/crs.py:77: FutureWarning: '+init=<authority>:<code>' syntax is deprecated. '<authority>:<code>' is the preferred initialization method.\n",
      "  return _prepare_from_string(\" \".join(pjargs))\n"
     ]
    },
    {
     "name": "stdout",
     "output_type": "stream",
     "text": [
      "   5.09857\n",
      "   5.09859\n",
      "   5.09870\n",
      "   5.10073\n",
      "   5.10122\n",
      "   5.10127\n",
      "168 of 226 :\n",
      "   8075N-34475E-debris_melt_curve.nc\n",
      "   8075N-34475E-debris_ts_curve.nc\n",
      "   5.09989\n"
     ]
    },
    {
     "name": "stderr",
     "output_type": "stream",
     "text": [
      "/Users/davidrounce/anaconda3/envs/debris_thickness_global/lib/python3.6/site-packages/pyproj/crs.py:77: FutureWarning: '+init=<authority>:<code>' syntax is deprecated. '<authority>:<code>' is the preferred initialization method.\n",
      "  return _prepare_from_string(\" \".join(pjargs))\n"
     ]
    },
    {
     "name": "stdout",
     "output_type": "stream",
     "text": [
      "   5.09994\n",
      "   5.10315\n",
      "   5.10327\n",
      "   5.10328\n",
      "   5.10372\n",
      "169 of 226 :\n",
      "   8075N-34500E-debris_melt_curve.nc\n",
      "   8075N-34500E-debris_ts_curve.nc\n",
      "   5.10268\n"
     ]
    },
    {
     "name": "stderr",
     "output_type": "stream",
     "text": [
      "/Users/davidrounce/anaconda3/envs/debris_thickness_global/lib/python3.6/site-packages/pyproj/crs.py:77: FutureWarning: '+init=<authority>:<code>' syntax is deprecated. '<authority>:<code>' is the preferred initialization method.\n",
      "  return _prepare_from_string(\" \".join(pjargs))\n"
     ]
    },
    {
     "name": "stdout",
     "output_type": "stream",
     "text": [
      "   5.10321\n",
      "170 of 226 :\n",
      "   8100N-33275E-debris_melt_curve.nc\n",
      "   8100N-33275E-debris_ts_curve.nc\n",
      "   5.09852\n"
     ]
    },
    {
     "name": "stderr",
     "output_type": "stream",
     "text": [
      "/Users/davidrounce/anaconda3/envs/debris_thickness_global/lib/python3.6/site-packages/pyproj/crs.py:77: FutureWarning: '+init=<authority>:<code>' syntax is deprecated. '<authority>:<code>' is the preferred initialization method.\n",
      "  return _prepare_from_string(\" \".join(pjargs))\n"
     ]
    },
    {
     "name": "stdout",
     "output_type": "stream",
     "text": [
      "   5.09877\n",
      "   5.09970\n",
      "   5.09974\n",
      "   5.10077\n",
      "   5.10310\n",
      "171 of 226 :\n",
      "   8100N-33875E-debris_melt_curve.nc\n",
      "   8100N-33875E-debris_ts_curve.nc\n",
      "   5.10056\n"
     ]
    },
    {
     "name": "stderr",
     "output_type": "stream",
     "text": [
      "/Users/davidrounce/anaconda3/envs/debris_thickness_global/lib/python3.6/site-packages/pyproj/crs.py:77: FutureWarning: '+init=<authority>:<code>' syntax is deprecated. '<authority>:<code>' is the preferred initialization method.\n",
      "  return _prepare_from_string(\" \".join(pjargs))\n"
     ]
    },
    {
     "name": "stdout",
     "output_type": "stream",
     "text": [
      "   5.10120\n",
      "   5.10143\n",
      "   5.10144\n",
      "   5.10145\n",
      "   5.10209\n",
      "   5.10307\n",
      "172 of 226 :\n",
      "   8125N-30250E-debris_melt_curve.nc\n",
      "   8125N-30250E-debris_ts_curve.nc\n",
      "   5.08383\n"
     ]
    },
    {
     "name": "stderr",
     "output_type": "stream",
     "text": [
      "/Users/davidrounce/anaconda3/envs/debris_thickness_global/lib/python3.6/site-packages/pyproj/crs.py:77: FutureWarning: '+init=<authority>:<code>' syntax is deprecated. '<authority>:<code>' is the preferred initialization method.\n",
      "  return _prepare_from_string(\" \".join(pjargs))\n"
     ]
    },
    {
     "name": "stdout",
     "output_type": "stream",
     "text": [
      "   5.08391\n",
      "   5.08409\n",
      "   5.08490\n",
      "   5.08497\n",
      "173 of 226 :\n",
      "   8150N-30450E-debris_melt_curve.nc\n",
      "   8150N-30450E-debris_ts_curve.nc\n",
      "   5.08415\n"
     ]
    },
    {
     "name": "stderr",
     "output_type": "stream",
     "text": [
      "/Users/davidrounce/anaconda3/envs/debris_thickness_global/lib/python3.6/site-packages/pyproj/crs.py:77: FutureWarning: '+init=<authority>:<code>' syntax is deprecated. '<authority>:<code>' is the preferred initialization method.\n",
      "  return _prepare_from_string(\" \".join(pjargs))\n"
     ]
    },
    {
     "name": "stdout",
     "output_type": "stream",
     "text": [
      "   5.08771\n",
      "174 of 226 :\n",
      "   8150N-30475E-debris_melt_curve.nc\n",
      "   8150N-30475E-debris_ts_curve.nc\n",
      "   5.08412\n"
     ]
    },
    {
     "name": "stderr",
     "output_type": "stream",
     "text": [
      "/Users/davidrounce/anaconda3/envs/debris_thickness_global/lib/python3.6/site-packages/pyproj/crs.py:77: FutureWarning: '+init=<authority>:<code>' syntax is deprecated. '<authority>:<code>' is the preferred initialization method.\n",
      "  return _prepare_from_string(\" \".join(pjargs))\n"
     ]
    },
    {
     "name": "stdout",
     "output_type": "stream",
     "text": [
      "175 of 226 :\n",
      "   8150N-30675E-debris_melt_curve.nc\n",
      "   8150N-30675E-debris_ts_curve.nc\n",
      "   5.08396\n"
     ]
    },
    {
     "name": "stderr",
     "output_type": "stream",
     "text": [
      "/Users/davidrounce/anaconda3/envs/debris_thickness_global/lib/python3.6/site-packages/pyproj/crs.py:77: FutureWarning: '+init=<authority>:<code>' syntax is deprecated. '<authority>:<code>' is the preferred initialization method.\n",
      "  return _prepare_from_string(\" \".join(pjargs))\n"
     ]
    },
    {
     "name": "stdout",
     "output_type": "stream",
     "text": [
      "   5.08485\n",
      "   5.08823\n",
      "   5.08837\n"
     ]
    },
    {
     "name": "stderr",
     "output_type": "stream",
     "text": [
      "/Users/davidrounce/anaconda3/envs/debris_thickness_global/lib/python3.6/site-packages/numpy/ma/core.py:4008: RuntimeWarning: invalid value encountered in equal\n",
      "  check = compare(sdata, odata)\n"
     ]
    },
    {
     "name": "stdout",
     "output_type": "stream",
     "text": [
      "   5.10433\n",
      "176 of 226 :\n",
      "   8150N-30850E-debris_melt_curve.nc\n",
      "   8150N-30850E-debris_ts_curve.nc\n",
      "   5.10009\n"
     ]
    },
    {
     "name": "stderr",
     "output_type": "stream",
     "text": [
      "/Users/davidrounce/anaconda3/envs/debris_thickness_global/lib/python3.6/site-packages/pyproj/crs.py:77: FutureWarning: '+init=<authority>:<code>' syntax is deprecated. '<authority>:<code>' is the preferred initialization method.\n",
      "  return _prepare_from_string(\" \".join(pjargs))\n"
     ]
    },
    {
     "name": "stdout",
     "output_type": "stream",
     "text": [
      "   5.10010\n",
      "   5.10397\n",
      "177 of 226 :\n",
      "   8150N-32625E-debris_melt_curve.nc\n",
      "   8150N-32625E-debris_ts_curve.nc\n",
      "   5.10016\n"
     ]
    },
    {
     "name": "stderr",
     "output_type": "stream",
     "text": [
      "/Users/davidrounce/anaconda3/envs/debris_thickness_global/lib/python3.6/site-packages/pyproj/crs.py:77: FutureWarning: '+init=<authority>:<code>' syntax is deprecated. '<authority>:<code>' is the preferred initialization method.\n",
      "  return _prepare_from_string(\" \".join(pjargs))\n"
     ]
    },
    {
     "name": "stdout",
     "output_type": "stream",
     "text": [
      "178 of 226 :\n",
      "   8150N-33000E-debris_melt_curve.nc\n",
      "   8150N-33000E-debris_ts_curve.nc\n",
      "   5.10193\n"
     ]
    },
    {
     "name": "stderr",
     "output_type": "stream",
     "text": [
      "/Users/davidrounce/anaconda3/envs/debris_thickness_global/lib/python3.6/site-packages/pyproj/crs.py:77: FutureWarning: '+init=<authority>:<code>' syntax is deprecated. '<authority>:<code>' is the preferred initialization method.\n",
      "  return _prepare_from_string(\" \".join(pjargs))\n"
     ]
    },
    {
     "name": "stdout",
     "output_type": "stream",
     "text": [
      "   5.10194\n",
      "179 of 226 :\n",
      "   8150N-33625E-debris_melt_curve.nc\n",
      "   8150N-33625E-debris_ts_curve.nc\n",
      "   5.10087\n"
     ]
    },
    {
     "name": "stderr",
     "output_type": "stream",
     "text": [
      "/Users/davidrounce/anaconda3/envs/debris_thickness_global/lib/python3.6/site-packages/pyproj/crs.py:77: FutureWarning: '+init=<authority>:<code>' syntax is deprecated. '<authority>:<code>' is the preferred initialization method.\n",
      "  return _prepare_from_string(\" \".join(pjargs))\n"
     ]
    },
    {
     "name": "stdout",
     "output_type": "stream",
     "text": [
      "   5.10220\n",
      "   5.10229\n",
      "   5.10253\n",
      "180 of 226 :\n",
      "   8150N-33750E-debris_melt_curve.nc\n",
      "   8150N-33750E-debris_ts_curve.nc\n",
      "   5.10103\n"
     ]
    },
    {
     "name": "stderr",
     "output_type": "stream",
     "text": [
      "/Users/davidrounce/anaconda3/envs/debris_thickness_global/lib/python3.6/site-packages/pyproj/crs.py:77: FutureWarning: '+init=<authority>:<code>' syntax is deprecated. '<authority>:<code>' is the preferred initialization method.\n",
      "  return _prepare_from_string(\" \".join(pjargs))\n"
     ]
    },
    {
     "name": "stdout",
     "output_type": "stream",
     "text": [
      "   5.10210\n",
      "   5.10290\n",
      "181 of 226 :\n",
      "   8150N-33800E-debris_melt_curve.nc\n",
      "   8150N-33800E-debris_ts_curve.nc\n",
      "   5.10304\n"
     ]
    },
    {
     "name": "stderr",
     "output_type": "stream",
     "text": [
      "/Users/davidrounce/anaconda3/envs/debris_thickness_global/lib/python3.6/site-packages/pyproj/crs.py:77: FutureWarning: '+init=<authority>:<code>' syntax is deprecated. '<authority>:<code>' is the preferred initialization method.\n",
      "  return _prepare_from_string(\" \".join(pjargs))\n"
     ]
    },
    {
     "name": "stdout",
     "output_type": "stream",
     "text": [
      "   5.10306\n",
      "   5.10308\n",
      "182 of 226 :\n",
      "   8175N-30250E-debris_melt_curve.nc\n",
      "   8175N-30250E-debris_ts_curve.nc\n",
      "   5.10442\n"
     ]
    },
    {
     "name": "stderr",
     "output_type": "stream",
     "text": [
      "/Users/davidrounce/anaconda3/envs/debris_thickness_global/lib/python3.6/site-packages/pyproj/crs.py:77: FutureWarning: '+init=<authority>:<code>' syntax is deprecated. '<authority>:<code>' is the preferred initialization method.\n",
      "  return _prepare_from_string(\" \".join(pjargs))\n"
     ]
    },
    {
     "name": "stdout",
     "output_type": "stream",
     "text": [
      "   5.10467\n",
      "   5.10490\n",
      "183 of 226 :\n",
      "   8175N-30275E-debris_melt_curve.nc\n",
      "   8175N-30275E-debris_ts_curve.nc\n",
      "   5.08473\n"
     ]
    },
    {
     "name": "stderr",
     "output_type": "stream",
     "text": [
      "/Users/davidrounce/anaconda3/envs/debris_thickness_global/lib/python3.6/site-packages/pyproj/crs.py:77: FutureWarning: '+init=<authority>:<code>' syntax is deprecated. '<authority>:<code>' is the preferred initialization method.\n",
      "  return _prepare_from_string(\" \".join(pjargs))\n"
     ]
    },
    {
     "name": "stdout",
     "output_type": "stream",
     "text": [
      "   5.08475\n",
      "   5.08477\n",
      "   5.08479\n",
      "   5.08802\n",
      "   5.10379\n",
      "184 of 226 :\n",
      "   8175N-30375E-debris_melt_curve.nc\n",
      "   8175N-30375E-debris_ts_curve.nc\n",
      "   5.08357\n"
     ]
    },
    {
     "name": "stderr",
     "output_type": "stream",
     "text": [
      "/Users/davidrounce/anaconda3/envs/debris_thickness_global/lib/python3.6/site-packages/pyproj/crs.py:77: FutureWarning: '+init=<authority>:<code>' syntax is deprecated. '<authority>:<code>' is the preferred initialization method.\n",
      "  return _prepare_from_string(\" \".join(pjargs))\n"
     ]
    },
    {
     "name": "stdout",
     "output_type": "stream",
     "text": [
      "   5.08449\n",
      "   5.08450\n",
      "   5.08487\n",
      "   5.08801\n",
      "   5.08846\n",
      "   5.10438\n",
      "185 of 226 :\n",
      "   8175N-30400E-debris_melt_curve.nc\n",
      "   8175N-30400E-debris_ts_curve.nc\n",
      "   5.08843\n"
     ]
    },
    {
     "name": "stderr",
     "output_type": "stream",
     "text": [
      "/Users/davidrounce/anaconda3/envs/debris_thickness_global/lib/python3.6/site-packages/pyproj/crs.py:77: FutureWarning: '+init=<authority>:<code>' syntax is deprecated. '<authority>:<code>' is the preferred initialization method.\n",
      "  return _prepare_from_string(\" \".join(pjargs))\n"
     ]
    },
    {
     "name": "stdout",
     "output_type": "stream",
     "text": [
      "186 of 226 :\n",
      "   8175N-30425E-debris_melt_curve.nc\n",
      "   8175N-30425E-debris_ts_curve.nc\n",
      "   5.08855\n"
     ]
    },
    {
     "name": "stderr",
     "output_type": "stream",
     "text": [
      "/Users/davidrounce/anaconda3/envs/debris_thickness_global/lib/python3.6/site-packages/pyproj/crs.py:77: FutureWarning: '+init=<authority>:<code>' syntax is deprecated. '<authority>:<code>' is the preferred initialization method.\n",
      "  return _prepare_from_string(\" \".join(pjargs))\n"
     ]
    },
    {
     "name": "stdout",
     "output_type": "stream",
     "text": [
      "187 of 226 :\n",
      "   8175N-30450E-debris_melt_curve.nc\n",
      "   8175N-30450E-debris_ts_curve.nc\n",
      "   5.08854\n"
     ]
    },
    {
     "name": "stderr",
     "output_type": "stream",
     "text": [
      "/Users/davidrounce/anaconda3/envs/debris_thickness_global/lib/python3.6/site-packages/pyproj/crs.py:77: FutureWarning: '+init=<authority>:<code>' syntax is deprecated. '<authority>:<code>' is the preferred initialization method.\n",
      "  return _prepare_from_string(\" \".join(pjargs))\n"
     ]
    },
    {
     "name": "stdout",
     "output_type": "stream",
     "text": [
      "188 of 226 :\n",
      "   8175N-30500E-debris_melt_curve.nc\n",
      "   8175N-30500E-debris_ts_curve.nc\n",
      "   5.08853\n"
     ]
    },
    {
     "name": "stderr",
     "output_type": "stream",
     "text": [
      "/Users/davidrounce/anaconda3/envs/debris_thickness_global/lib/python3.6/site-packages/pyproj/crs.py:77: FutureWarning: '+init=<authority>:<code>' syntax is deprecated. '<authority>:<code>' is the preferred initialization method.\n",
      "  return _prepare_from_string(\" \".join(pjargs))\n"
     ]
    },
    {
     "name": "stdout",
     "output_type": "stream",
     "text": [
      "189 of 226 :\n",
      "   8175N-30525E-debris_melt_curve.nc\n",
      "   8175N-30525E-debris_ts_curve.nc\n",
      "   5.08408\n"
     ]
    },
    {
     "name": "stderr",
     "output_type": "stream",
     "text": [
      "/Users/davidrounce/anaconda3/envs/debris_thickness_global/lib/python3.6/site-packages/pyproj/crs.py:77: FutureWarning: '+init=<authority>:<code>' syntax is deprecated. '<authority>:<code>' is the preferred initialization method.\n",
      "  return _prepare_from_string(\" \".join(pjargs))\n"
     ]
    },
    {
     "name": "stdout",
     "output_type": "stream",
     "text": [
      "   5.08851\n",
      "190 of 226 :\n",
      "   8175N-30925E-debris_melt_curve.nc\n",
      "   8175N-30925E-debris_ts_curve.nc\n",
      "   5.10389\n"
     ]
    },
    {
     "name": "stderr",
     "output_type": "stream",
     "text": [
      "/Users/davidrounce/anaconda3/envs/debris_thickness_global/lib/python3.6/site-packages/pyproj/crs.py:77: FutureWarning: '+init=<authority>:<code>' syntax is deprecated. '<authority>:<code>' is the preferred initialization method.\n",
      "  return _prepare_from_string(\" \".join(pjargs))\n"
     ]
    },
    {
     "name": "stdout",
     "output_type": "stream",
     "text": [
      "   5.10395\n",
      "191 of 226 :\n",
      "   8175N-31025E-debris_melt_curve.nc\n",
      "   8175N-31025E-debris_ts_curve.nc\n",
      "   5.10013\n"
     ]
    },
    {
     "name": "stderr",
     "output_type": "stream",
     "text": [
      "/Users/davidrounce/anaconda3/envs/debris_thickness_global/lib/python3.6/site-packages/pyproj/crs.py:77: FutureWarning: '+init=<authority>:<code>' syntax is deprecated. '<authority>:<code>' is the preferred initialization method.\n",
      "  return _prepare_from_string(\" \".join(pjargs))\n"
     ]
    },
    {
     "name": "stdout",
     "output_type": "stream",
     "text": [
      "   5.10018\n",
      "   5.10023\n",
      "   5.10415\n",
      "192 of 226 :\n",
      "   8175N-31075E-debris_melt_curve.nc\n",
      "   8175N-31075E-debris_ts_curve.nc\n",
      "   5.10017\n"
     ]
    },
    {
     "name": "stderr",
     "output_type": "stream",
     "text": [
      "/Users/davidrounce/anaconda3/envs/debris_thickness_global/lib/python3.6/site-packages/pyproj/crs.py:77: FutureWarning: '+init=<authority>:<code>' syntax is deprecated. '<authority>:<code>' is the preferred initialization method.\n",
      "  return _prepare_from_string(\" \".join(pjargs))\n"
     ]
    },
    {
     "name": "stdout",
     "output_type": "stream",
     "text": [
      "   5.10441\n",
      "193 of 226 :\n",
      "   8175N-31125E-debris_melt_curve.nc\n",
      "   8175N-31125E-debris_ts_curve.nc\n",
      "   5.10020\n"
     ]
    },
    {
     "name": "stderr",
     "output_type": "stream",
     "text": [
      "/Users/davidrounce/anaconda3/envs/debris_thickness_global/lib/python3.6/site-packages/pyproj/crs.py:77: FutureWarning: '+init=<authority>:<code>' syntax is deprecated. '<authority>:<code>' is the preferred initialization method.\n",
      "  return _prepare_from_string(\" \".join(pjargs))\n"
     ]
    },
    {
     "name": "stdout",
     "output_type": "stream",
     "text": [
      "   5.10021\n",
      "   5.10402\n",
      "   5.10562\n",
      "   5.10574\n",
      "194 of 226 :\n",
      "   8175N-32650E-debris_melt_curve.nc\n",
      "   8175N-32650E-debris_ts_curve.nc\n",
      "   5.10022\n"
     ]
    },
    {
     "name": "stderr",
     "output_type": "stream",
     "text": [
      "/Users/davidrounce/anaconda3/envs/debris_thickness_global/lib/python3.6/site-packages/pyproj/crs.py:77: FutureWarning: '+init=<authority>:<code>' syntax is deprecated. '<authority>:<code>' is the preferred initialization method.\n",
      "  return _prepare_from_string(\" \".join(pjargs))\n"
     ]
    },
    {
     "name": "stdout",
     "output_type": "stream",
     "text": [
      "   5.10025\n",
      "   5.10026\n",
      "195 of 226 :\n",
      "   8175N-32700E-debris_melt_curve.nc\n",
      "   8175N-32700E-debris_ts_curve.nc\n",
      "   5.10400\n"
     ]
    },
    {
     "name": "stderr",
     "output_type": "stream",
     "text": [
      "/Users/davidrounce/anaconda3/envs/debris_thickness_global/lib/python3.6/site-packages/pyproj/crs.py:77: FutureWarning: '+init=<authority>:<code>' syntax is deprecated. '<authority>:<code>' is the preferred initialization method.\n",
      "  return _prepare_from_string(\" \".join(pjargs))\n"
     ]
    },
    {
     "name": "stdout",
     "output_type": "stream",
     "text": [
      "   5.10411\n",
      "   5.10484\n",
      "   5.10485\n",
      "196 of 226 :\n",
      "   8175N-32950E-debris_melt_curve.nc\n",
      "   8175N-32950E-debris_ts_curve.nc\n",
      "   5.10204\n"
     ]
    },
    {
     "name": "stderr",
     "output_type": "stream",
     "text": [
      "/Users/davidrounce/anaconda3/envs/debris_thickness_global/lib/python3.6/site-packages/pyproj/crs.py:77: FutureWarning: '+init=<authority>:<code>' syntax is deprecated. '<authority>:<code>' is the preferred initialization method.\n",
      "  return _prepare_from_string(\" \".join(pjargs))\n"
     ]
    },
    {
     "name": "stdout",
     "output_type": "stream",
     "text": [
      "   5.10207\n",
      "   5.10208\n",
      "   5.10231\n",
      "   5.10257\n",
      "   5.10260\n",
      "197 of 226 :\n",
      "   8175N-33125E-debris_melt_curve.nc\n",
      "   8175N-33125E-debris_ts_curve.nc\n",
      "   5.10191\n"
     ]
    },
    {
     "name": "stderr",
     "output_type": "stream",
     "text": [
      "/Users/davidrounce/anaconda3/envs/debris_thickness_global/lib/python3.6/site-packages/pyproj/crs.py:77: FutureWarning: '+init=<authority>:<code>' syntax is deprecated. '<authority>:<code>' is the preferred initialization method.\n",
      "  return _prepare_from_string(\" \".join(pjargs))\n"
     ]
    },
    {
     "name": "stdout",
     "output_type": "stream",
     "text": [
      "198 of 226 :\n",
      "   8175N-33425E-debris_melt_curve.nc\n",
      "   8175N-33425E-debris_ts_curve.nc\n",
      "   5.09895\n"
     ]
    },
    {
     "name": "stderr",
     "output_type": "stream",
     "text": [
      "/Users/davidrounce/anaconda3/envs/debris_thickness_global/lib/python3.6/site-packages/pyproj/crs.py:77: FutureWarning: '+init=<authority>:<code>' syntax is deprecated. '<authority>:<code>' is the preferred initialization method.\n",
      "  return _prepare_from_string(\" \".join(pjargs))\n"
     ]
    },
    {
     "name": "stdout",
     "output_type": "stream",
     "text": [
      "   5.09908\n",
      "   5.09968\n",
      "   5.09980\n",
      "   5.10043\n",
      "   5.10078\n",
      "   5.10272\n",
      "199 of 226 :\n",
      "   8200N-30500E-debris_melt_curve.nc\n",
      "   8200N-30500E-debris_ts_curve.nc\n",
      "   5.10413\n"
     ]
    },
    {
     "name": "stderr",
     "output_type": "stream",
     "text": [
      "/Users/davidrounce/anaconda3/envs/debris_thickness_global/lib/python3.6/site-packages/pyproj/crs.py:77: FutureWarning: '+init=<authority>:<code>' syntax is deprecated. '<authority>:<code>' is the preferred initialization method.\n",
      "  return _prepare_from_string(\" \".join(pjargs))\n"
     ]
    },
    {
     "name": "stdout",
     "output_type": "stream",
     "text": [
      "   5.10501\n",
      "200 of 226 :\n",
      "   8200N-30925E-debris_melt_curve.nc\n",
      "   8200N-30925E-debris_ts_curve.nc\n",
      "   5.10436\n"
     ]
    },
    {
     "name": "stderr",
     "output_type": "stream",
     "text": [
      "/Users/davidrounce/anaconda3/envs/debris_thickness_global/lib/python3.6/site-packages/pyproj/crs.py:77: FutureWarning: '+init=<authority>:<code>' syntax is deprecated. '<authority>:<code>' is the preferred initialization method.\n",
      "  return _prepare_from_string(\" \".join(pjargs))\n"
     ]
    },
    {
     "name": "stdout",
     "output_type": "stream",
     "text": [
      "201 of 226 :\n",
      "   8200N-32825E-debris_melt_curve.nc\n",
      "   8200N-32825E-debris_ts_curve.nc\n",
      "   5.10069\n"
     ]
    },
    {
     "name": "stderr",
     "output_type": "stream",
     "text": [
      "/Users/davidrounce/anaconda3/envs/debris_thickness_global/lib/python3.6/site-packages/pyproj/crs.py:77: FutureWarning: '+init=<authority>:<code>' syntax is deprecated. '<authority>:<code>' is the preferred initialization method.\n",
      "  return _prepare_from_string(\" \".join(pjargs))\n"
     ]
    },
    {
     "name": "stdout",
     "output_type": "stream",
     "text": [
      "   5.10186\n",
      "   5.10472\n",
      "   5.10473\n",
      "   5.10475\n",
      "   5.10479\n",
      "202 of 226 :\n",
      "   8225N-30600E-debris_melt_curve.nc\n",
      "   8225N-30600E-debris_ts_curve.nc\n",
      "   5.10491\n"
     ]
    },
    {
     "name": "stderr",
     "output_type": "stream",
     "text": [
      "/Users/davidrounce/anaconda3/envs/debris_thickness_global/lib/python3.6/site-packages/pyproj/crs.py:77: FutureWarning: '+init=<authority>:<code>' syntax is deprecated. '<authority>:<code>' is the preferred initialization method.\n",
      "  return _prepare_from_string(\" \".join(pjargs))\n"
     ]
    },
    {
     "name": "stdout",
     "output_type": "stream",
     "text": [
      "203 of 226 :\n",
      "   8225N-31000E-debris_melt_curve.nc\n",
      "   8225N-31000E-debris_ts_curve.nc\n",
      "   5.10494\n"
     ]
    },
    {
     "name": "stderr",
     "output_type": "stream",
     "text": [
      "/Users/davidrounce/anaconda3/envs/debris_thickness_global/lib/python3.6/site-packages/pyproj/crs.py:77: FutureWarning: '+init=<authority>:<code>' syntax is deprecated. '<authority>:<code>' is the preferred initialization method.\n",
      "  return _prepare_from_string(\" \".join(pjargs))\n"
     ]
    },
    {
     "name": "stdout",
     "output_type": "stream",
     "text": [
      "204 of 226 :\n",
      "   8225N-32000E-debris_melt_curve.nc\n",
      "   8225N-32000E-debris_ts_curve.nc\n",
      "   5.10763\n"
     ]
    },
    {
     "name": "stderr",
     "output_type": "stream",
     "text": [
      "/Users/davidrounce/anaconda3/envs/debris_thickness_global/lib/python3.6/site-packages/pyproj/crs.py:77: FutureWarning: '+init=<authority>:<code>' syntax is deprecated. '<authority>:<code>' is the preferred initialization method.\n",
      "  return _prepare_from_string(\" \".join(pjargs))\n"
     ]
    },
    {
     "name": "stdout",
     "output_type": "stream",
     "text": [
      "205 of 226 :\n",
      "   8225N-32400E-debris_melt_curve.nc\n",
      "   8225N-32400E-debris_ts_curve.nc\n",
      "   5.10460\n"
     ]
    },
    {
     "name": "stderr",
     "output_type": "stream",
     "text": [
      "/Users/davidrounce/anaconda3/envs/debris_thickness_global/lib/python3.6/site-packages/pyproj/crs.py:77: FutureWarning: '+init=<authority>:<code>' syntax is deprecated. '<authority>:<code>' is the preferred initialization method.\n",
      "  return _prepare_from_string(\" \".join(pjargs))\n"
     ]
    },
    {
     "name": "stdout",
     "output_type": "stream",
     "text": [
      "   5.10470\n"
     ]
    },
    {
     "name": "stderr",
     "output_type": "stream",
     "text": [
      "/Users/davidrounce/anaconda3/envs/debris_thickness_global/lib/python3.6/site-packages/numpy/ma/core.py:1015: RuntimeWarning: overflow encountered in multiply\n",
      "  result = self.f(da, db, *args, **kwargs)\n"
     ]
    },
    {
     "name": "stdout",
     "output_type": "stream",
     "text": [
      "   5.10735\n",
      "   5.10747\n",
      "   5.10756\n",
      "206 of 226 :\n",
      "   8250N-31500E-debris_melt_curve.nc\n",
      "   8250N-31500E-debris_ts_curve.nc\n",
      "   5.10444\n"
     ]
    },
    {
     "name": "stderr",
     "output_type": "stream",
     "text": [
      "/Users/davidrounce/anaconda3/envs/debris_thickness_global/lib/python3.6/site-packages/pyproj/crs.py:77: FutureWarning: '+init=<authority>:<code>' syntax is deprecated. '<authority>:<code>' is the preferred initialization method.\n",
      "  return _prepare_from_string(\" \".join(pjargs))\n"
     ]
    },
    {
     "name": "stdout",
     "output_type": "stream",
     "text": [
      "   5.10452\n",
      "   5.10471\n",
      "   5.10521\n",
      "   5.10526\n",
      "   5.10575\n",
      "   5.10609\n",
      "   5.10623\n",
      "207 of 226 :\n",
      "   8250N-31875E-debris_melt_curve.nc\n",
      "   8250N-31875E-debris_ts_curve.nc\n",
      "   5.10583\n"
     ]
    },
    {
     "name": "stderr",
     "output_type": "stream",
     "text": [
      "/Users/davidrounce/anaconda3/envs/debris_thickness_global/lib/python3.6/site-packages/pyproj/crs.py:77: FutureWarning: '+init=<authority>:<code>' syntax is deprecated. '<authority>:<code>' is the preferred initialization method.\n",
      "  return _prepare_from_string(\" \".join(pjargs))\n"
     ]
    },
    {
     "name": "stdout",
     "output_type": "stream",
     "text": [
      "   5.10584\n",
      "   5.10586\n",
      "   5.10587\n",
      "   5.10628\n",
      "   5.10640\n",
      "   5.10750\n",
      "208 of 226 :\n",
      "   8250N-32100E-debris_melt_curve.nc\n",
      "   8250N-32100E-debris_ts_curve.nc\n",
      "   5.10748\n"
     ]
    },
    {
     "name": "stderr",
     "output_type": "stream",
     "text": [
      "/Users/davidrounce/anaconda3/envs/debris_thickness_global/lib/python3.6/site-packages/pyproj/crs.py:77: FutureWarning: '+init=<authority>:<code>' syntax is deprecated. '<authority>:<code>' is the preferred initialization method.\n",
      "  return _prepare_from_string(\" \".join(pjargs))\n"
     ]
    },
    {
     "name": "stdout",
     "output_type": "stream",
     "text": [
      "   5.10766\n",
      "   5.10769\n",
      "209 of 226 :\n",
      "   8275N-31600E-debris_melt_curve.nc\n",
      "   8275N-31600E-debris_ts_curve.nc\n",
      "   5.10440\n"
     ]
    },
    {
     "name": "stderr",
     "output_type": "stream",
     "text": [
      "/Users/davidrounce/anaconda3/envs/debris_thickness_global/lib/python3.6/site-packages/pyproj/crs.py:77: FutureWarning: '+init=<authority>:<code>' syntax is deprecated. '<authority>:<code>' is the preferred initialization method.\n",
      "  return _prepare_from_string(\" \".join(pjargs))\n"
     ]
    },
    {
     "name": "stdout",
     "output_type": "stream",
     "text": [
      "   5.10603\n",
      "   5.10610\n",
      "   5.10617\n",
      "210 of 226 :\n",
      "   8275N-31675E-debris_melt_curve.nc\n",
      "   8275N-31675E-debris_ts_curve.nc\n",
      "   5.10590\n"
     ]
    },
    {
     "name": "stderr",
     "output_type": "stream",
     "text": [
      "/Users/davidrounce/anaconda3/envs/debris_thickness_global/lib/python3.6/site-packages/pyproj/crs.py:77: FutureWarning: '+init=<authority>:<code>' syntax is deprecated. '<authority>:<code>' is the preferred initialization method.\n",
      "  return _prepare_from_string(\" \".join(pjargs))\n"
     ]
    },
    {
     "name": "stdout",
     "output_type": "stream",
     "text": [
      "   5.10593\n",
      "   5.10629\n",
      "211 of 226 :\n",
      "   8275N-31925E-debris_melt_curve.nc\n",
      "   8275N-31925E-debris_ts_curve.nc\n",
      "   5.10520\n"
     ]
    },
    {
     "name": "stderr",
     "output_type": "stream",
     "text": [
      "/Users/davidrounce/anaconda3/envs/debris_thickness_global/lib/python3.6/site-packages/pyproj/crs.py:77: FutureWarning: '+init=<authority>:<code>' syntax is deprecated. '<authority>:<code>' is the preferred initialization method.\n",
      "  return _prepare_from_string(\" \".join(pjargs))\n"
     ]
    },
    {
     "name": "stdout",
     "output_type": "stream",
     "text": [
      "   5.10549\n",
      "   5.10753\n",
      "   5.10754\n",
      "   5.10775\n",
      "212 of 226 :\n",
      "   8275N-32050E-debris_melt_curve.nc\n",
      "   8275N-32050E-debris_ts_curve.nc\n",
      "   5.10498\n"
     ]
    },
    {
     "name": "stderr",
     "output_type": "stream",
     "text": [
      "/Users/davidrounce/anaconda3/envs/debris_thickness_global/lib/python3.6/site-packages/pyproj/crs.py:77: FutureWarning: '+init=<authority>:<code>' syntax is deprecated. '<authority>:<code>' is the preferred initialization method.\n",
      "  return _prepare_from_string(\" \".join(pjargs))\n"
     ]
    },
    {
     "name": "stdout",
     "output_type": "stream",
     "text": [
      "   5.10733\n",
      "   5.10772\n",
      "213 of 226 :\n",
      "   8275N-32525E-debris_melt_curve.nc\n",
      "   8275N-32525E-debris_ts_curve.nc\n",
      "   5.10459\n"
     ]
    },
    {
     "name": "stderr",
     "output_type": "stream",
     "text": [
      "/Users/davidrounce/anaconda3/envs/debris_thickness_global/lib/python3.6/site-packages/pyproj/crs.py:77: FutureWarning: '+init=<authority>:<code>' syntax is deprecated. '<authority>:<code>' is the preferred initialization method.\n",
      "  return _prepare_from_string(\" \".join(pjargs))\n"
     ]
    },
    {
     "name": "stdout",
     "output_type": "stream",
     "text": [
      "   5.10692\n",
      "   5.10699\n",
      "   5.10702\n",
      "   5.10704\n",
      "214 of 226 :\n",
      "   8275N-32675E-debris_melt_curve.nc\n",
      "   8275N-32675E-debris_ts_curve.nc\n",
      "   5.10870\n"
     ]
    },
    {
     "name": "stderr",
     "output_type": "stream",
     "text": [
      "/Users/davidrounce/anaconda3/envs/debris_thickness_global/lib/python3.6/site-packages/pyproj/crs.py:77: FutureWarning: '+init=<authority>:<code>' syntax is deprecated. '<authority>:<code>' is the preferred initialization method.\n",
      "  return _prepare_from_string(\" \".join(pjargs))\n"
     ]
    },
    {
     "name": "stdout",
     "output_type": "stream",
     "text": [
      "215 of 226 :\n",
      "   8275N-32700E-debris_melt_curve.nc\n",
      "   8275N-32700E-debris_ts_curve.nc\n",
      "   5.10898\n"
     ]
    },
    {
     "name": "stderr",
     "output_type": "stream",
     "text": [
      "/Users/davidrounce/anaconda3/envs/debris_thickness_global/lib/python3.6/site-packages/pyproj/crs.py:77: FutureWarning: '+init=<authority>:<code>' syntax is deprecated. '<authority>:<code>' is the preferred initialization method.\n",
      "  return _prepare_from_string(\" \".join(pjargs))\n"
     ]
    },
    {
     "name": "stdout",
     "output_type": "stream",
     "text": [
      "   5.10899\n",
      "216 of 226 :\n",
      "   8275N-32725E-debris_melt_curve.nc\n",
      "   8275N-32725E-debris_ts_curve.nc\n",
      "   5.10901\n"
     ]
    },
    {
     "name": "stderr",
     "output_type": "stream",
     "text": [
      "/Users/davidrounce/anaconda3/envs/debris_thickness_global/lib/python3.6/site-packages/pyproj/crs.py:77: FutureWarning: '+init=<authority>:<code>' syntax is deprecated. '<authority>:<code>' is the preferred initialization method.\n",
      "  return _prepare_from_string(\" \".join(pjargs))\n"
     ]
    },
    {
     "name": "stdout",
     "output_type": "stream",
     "text": [
      "217 of 226 :\n",
      "   8275N-32750E-debris_melt_curve.nc\n",
      "   8275N-32750E-debris_ts_curve.nc\n",
      "   5.10869\n"
     ]
    },
    {
     "name": "stderr",
     "output_type": "stream",
     "text": [
      "/Users/davidrounce/anaconda3/envs/debris_thickness_global/lib/python3.6/site-packages/pyproj/crs.py:77: FutureWarning: '+init=<authority>:<code>' syntax is deprecated. '<authority>:<code>' is the preferred initialization method.\n",
      "  return _prepare_from_string(\" \".join(pjargs))\n"
     ]
    },
    {
     "name": "stdout",
     "output_type": "stream",
     "text": [
      "   5.10872\n",
      "218 of 226 :\n",
      "   8275N-32825E-debris_melt_curve.nc\n",
      "   8275N-32825E-debris_ts_curve.nc\n",
      "   5.10871\n"
     ]
    },
    {
     "name": "stderr",
     "output_type": "stream",
     "text": [
      "/Users/davidrounce/anaconda3/envs/debris_thickness_global/lib/python3.6/site-packages/pyproj/crs.py:77: FutureWarning: '+init=<authority>:<code>' syntax is deprecated. '<authority>:<code>' is the preferred initialization method.\n",
      "  return _prepare_from_string(\" \".join(pjargs))\n"
     ]
    },
    {
     "name": "stdout",
     "output_type": "stream",
     "text": [
      "   5.10873\n",
      "219 of 226 :\n",
      "   8275N-32850E-debris_melt_curve.nc\n",
      "   8275N-32850E-debris_ts_curve.nc\n",
      "   5.10900\n"
     ]
    },
    {
     "name": "stderr",
     "output_type": "stream",
     "text": [
      "/Users/davidrounce/anaconda3/envs/debris_thickness_global/lib/python3.6/site-packages/pyproj/crs.py:77: FutureWarning: '+init=<authority>:<code>' syntax is deprecated. '<authority>:<code>' is the preferred initialization method.\n",
      "  return _prepare_from_string(\" \".join(pjargs))\n"
     ]
    },
    {
     "name": "stdout",
     "output_type": "stream",
     "text": [
      "220 of 226 :\n",
      "   8275N-33100E-debris_melt_curve.nc\n",
      "   8275N-33100E-debris_ts_curve.nc\n",
      "   5.10706\n"
     ]
    },
    {
     "name": "stderr",
     "output_type": "stream",
     "text": [
      "/Users/davidrounce/anaconda3/envs/debris_thickness_global/lib/python3.6/site-packages/pyproj/crs.py:77: FutureWarning: '+init=<authority>:<code>' syntax is deprecated. '<authority>:<code>' is the preferred initialization method.\n",
      "  return _prepare_from_string(\" \".join(pjargs))\n"
     ]
    },
    {
     "name": "stdout",
     "output_type": "stream",
     "text": [
      "   5.10707\n",
      "   5.10710\n",
      "221 of 226 :\n",
      "   8275N-33125E-debris_melt_curve.nc\n",
      "   8275N-33125E-debris_ts_curve.nc\n",
      "   5.10611\n"
     ]
    },
    {
     "name": "stderr",
     "output_type": "stream",
     "text": [
      "/Users/davidrounce/anaconda3/envs/debris_thickness_global/lib/python3.6/site-packages/pyproj/crs.py:77: FutureWarning: '+init=<authority>:<code>' syntax is deprecated. '<authority>:<code>' is the preferred initialization method.\n",
      "  return _prepare_from_string(\" \".join(pjargs))\n"
     ]
    },
    {
     "name": "stdout",
     "output_type": "stream",
     "text": [
      "   5.10678\n",
      "   5.10708\n",
      "222 of 226 :\n",
      "   8275N-33150E-debris_melt_curve.nc\n",
      "   8275N-33150E-debris_ts_curve.nc\n",
      "   5.10565\n"
     ]
    },
    {
     "name": "stderr",
     "output_type": "stream",
     "text": [
      "/Users/davidrounce/anaconda3/envs/debris_thickness_global/lib/python3.6/site-packages/pyproj/crs.py:77: FutureWarning: '+init=<authority>:<code>' syntax is deprecated. '<authority>:<code>' is the preferred initialization method.\n",
      "  return _prepare_from_string(\" \".join(pjargs))\n"
     ]
    },
    {
     "name": "stdout",
     "output_type": "stream",
     "text": [
      "   5.10668\n",
      "   5.10679\n",
      "   5.10680\n",
      "   5.10701\n",
      "223 of 226 :\n",
      "   8275N-33550E-debris_melt_curve.nc\n",
      "   8275N-33550E-debris_ts_curve.nc\n",
      "   5.10836\n"
     ]
    },
    {
     "name": "stderr",
     "output_type": "stream",
     "text": [
      "/Users/davidrounce/anaconda3/envs/debris_thickness_global/lib/python3.6/site-packages/pyproj/crs.py:77: FutureWarning: '+init=<authority>:<code>' syntax is deprecated. '<authority>:<code>' is the preferred initialization method.\n",
      "  return _prepare_from_string(\" \".join(pjargs))\n"
     ]
    },
    {
     "name": "stdout",
     "output_type": "stream",
     "text": [
      "224 of 226 :\n",
      "   8275N-33600E-debris_melt_curve.nc\n",
      "   8275N-33600E-debris_ts_curve.nc\n",
      "   5.10831\n"
     ]
    },
    {
     "name": "stderr",
     "output_type": "stream",
     "text": [
      "/Users/davidrounce/anaconda3/envs/debris_thickness_global/lib/python3.6/site-packages/pyproj/crs.py:77: FutureWarning: '+init=<authority>:<code>' syntax is deprecated. '<authority>:<code>' is the preferred initialization method.\n",
      "  return _prepare_from_string(\" \".join(pjargs))\n"
     ]
    },
    {
     "name": "stdout",
     "output_type": "stream",
     "text": [
      "   5.10833\n",
      "   5.10835\n",
      "225 of 226 :\n",
      "   8275N-33650E-debris_melt_curve.nc\n",
      "   8275N-33650E-debris_ts_curve.nc\n",
      "   5.10834\n"
     ]
    },
    {
     "name": "stderr",
     "output_type": "stream",
     "text": [
      "/Users/davidrounce/anaconda3/envs/debris_thickness_global/lib/python3.6/site-packages/pyproj/crs.py:77: FutureWarning: '+init=<authority>:<code>' syntax is deprecated. '<authority>:<code>' is the preferred initialization method.\n",
      "  return _prepare_from_string(\" \".join(pjargs))\n"
     ]
    },
    {
     "name": "stdout",
     "output_type": "stream",
     "text": [
      "   5.10837\n",
      "226 of 226 :\n",
      "   8275N-33700E-debris_melt_curve.nc\n",
      "   8275N-33700E-debris_ts_curve.nc\n",
      "   5.10838\n"
     ]
    },
    {
     "name": "stderr",
     "output_type": "stream",
     "text": [
      "/Users/davidrounce/anaconda3/envs/debris_thickness_global/lib/python3.6/site-packages/pyproj/crs.py:77: FutureWarning: '+init=<authority>:<code>' syntax is deprecated. '<authority>:<code>' is the preferred initialization method.\n",
      "  return _prepare_from_string(\" \".join(pjargs))\n"
     ]
    }
   ],
   "source": [
    "# ===== ESTIMATE DEBRIS THICKNESS FOR ALL GLACIERS WITH OBSERVATIONS =====\n",
    "add_debris2bins = True\n",
    "plot_tscurve = True\n",
    "plot_ostrem = True\n",
    "plot_ostrem_norm = True\n",
    "add_meltfactor = True\n",
    "\n",
    "def ts_fromdebris_func(h, a, b, c):\n",
    "    \"\"\" estimate surface temperature from debris thickness (h is debris thickness, a and k are coefficients) \n",
    "        Hill Equation\"\"\"\n",
    "    return a * h**c / (b**c + h**c)\n",
    "\n",
    "if add_debris2bins:\n",
    "    \n",
    "    dhdt_vel_fns_fn = debris_prms.dhdt_vel_fns_fn.replace('XXXX',debris_prms.roi)\n",
    "    dhdt_vel_fns_df = pd.read_csv(debris_prms.dhdt_vel_fns_fp + dhdt_vel_fns_fn)\n",
    "    \n",
    "    ts_fns_df = pd.read_csv(debris_prms.ts_fp + debris_prms.ts_fns_fn)\n",
    "    \n",
    "    for nostrem, ostrem_fn in enumerate(ostrem_fn_all):\n",
    "#     for nostrem, ostrem_fn in enumerate([ostrem_fn_all[0]]):\n",
    "\n",
    "        print(nostrem+1, 'of', len(ostrem_fn_all), ':\\n  ', ostrem_fn)\n",
    "\n",
    "        # ===== LOAD DAILY MELT DATA (OSTREM DATA) =====\n",
    "        nelev = 0\n",
    "        ds_ostrem = xr.open_dataset(debris_prms.ostrem_fp + ostrem_fn)\n",
    "        \n",
    "        # ===== LOAD SURFACE TEMPERATURE DATA (TS INVERSION DATA) - STATS OVER MELT SEASON AROUND ACQUISITION TIME =====\n",
    "        tscurve_fn = debris_prms.output_ts_fn_sample.replace('XXXX', ostrem_fn.split('-debris')[0] + '-')\n",
    "        \n",
    "        print('  ', tscurve_fn)\n",
    "        \n",
    "        if os.path.exists(debris_prms.tscurve_fp + tscurve_fn):\n",
    "            \n",
    "            ds_ts = xr.open_dataset(debris_prms.tscurve_fp + tscurve_fn)\n",
    "            debris_thicknesses = ds_ts.hd_cm.values / 100\n",
    "            \n",
    "            dsnow_data = ds_ts['dsnow'][:,:,nelev].values.sum(axis=0)\n",
    "            nosnow_cols = np.where(dsnow_data == 0)[0]\n",
    "            ts_data = ds_ts['ts'][:,nosnow_cols,nelev].values\n",
    "            # replace clean-ice values\n",
    "            ts_data[ts_data == 0] = 273.15\n",
    "            # convert to degC\n",
    "            ts_data = ts_data - 273.15\n",
    "\n",
    "            ts_coeff_daily_cns = ['a', 'b', 'c', 'dif']\n",
    "            ts_coeff_daily = pd.DataFrame(np.zeros((ts_data.shape[1],len(ts_coeff_daily_cns))), \n",
    "                                          columns=ts_coeff_daily_cns)\n",
    "            \n",
    "            plot_ts_alldays = False\n",
    "            if plot_ts_alldays:\n",
    "                fig, ax = plt.subplots(1, 1, squeeze=False, sharex=False, sharey=False, \n",
    "                                       gridspec_kw = {'wspace':0.4, 'hspace':0.15})\n",
    "    \n",
    "            for ncol in np.arange(ts_data.shape[1]):\n",
    "                ts_day = ts_data[:,ncol]\n",
    "                # Fit function\n",
    "                func_coeff_ts, pcov = curve_fit(ts_fromdebris_func, \n",
    "                                                debris_thicknesses, ts_day,\n",
    "                                                p0=[25,1,0.45],\n",
    "#                                                 bounds=((0,0,0.01),(100,4,1)),\n",
    "                                                bounds=((0,0.1,0.2),(100,20,0.5)),\n",
    "                                                )\n",
    "                ts_coeff_daily.loc[ncol,'a'] = func_coeff_ts[0]\n",
    "                ts_coeff_daily.loc[ncol,'b'] = func_coeff_ts[1]\n",
    "                ts_coeff_daily.loc[ncol,'c'] = func_coeff_ts[2]\n",
    "                \n",
    "                if plot_ts_alldays:\n",
    "                    debris_4curve = np.arange(0.,debris_prms.hd_max+0.01,0.01)\n",
    "                    ts_day_mod = ts_fromdebris_func(debris_thicknesses, func_coeff_ts[0], func_coeff_ts[1], \n",
    "                                                    func_coeff_ts[2])\n",
    "                    ax[0,0].plot(debris_thicknesses, ts_day_mod)\n",
    "                \n",
    "        # Select all glaciers that share the same Ostrem curve\n",
    "        main_glac_rgi_subset = main_glac_rgi.loc[np.where(main_glac_rgi['ostrem_fn'] == ostrem_fn)[0],:]\n",
    "        main_glac_rgi_subset.reset_index(inplace=True, drop=True)    \n",
    "\n",
    "        for nglac, glac_idx in enumerate(main_glac_rgi_subset.index.values):\n",
    "#         for nglac, glac_idx in enumerate([main_glac_rgi_subset.index.values[0]]):\n",
    "            glac_str = main_glac_rgi_subset.loc[glac_idx,'rgino_str']\n",
    "            rgiid = main_glac_rgi_subset.loc[glac_idx,'RGIId']\n",
    "            region = glac_str.split('.')[0]\n",
    "            if int(glac_str.split('.')[0]) < 10:\n",
    "                glac_str = glac_str[1:]\n",
    "                \n",
    "            # dhdt and velocity filenames\n",
    "            fn_idx = np.where(dhdt_vel_fns_df['RGIId'].values == rgiid)[0][0]\n",
    "            dhdt_fn_wglacier = dhdt_vel_fns_df.loc[fn_idx,'dhdt_fullfn']\n",
    "            vx_fn_wglacier = dhdt_vel_fns_df.loc[fn_idx,'vel_fullfn']\n",
    "            \n",
    "            # Ts filename\n",
    "            ts_fn_idx = np.where(ts_fns_df['RGIId'].values == rgiid)[0][0]\n",
    "            ts_fn = ts_fns_df.loc[ts_fn_idx,'ts_fullfn']\n",
    "                \n",
    "            if int(region) < 10:\n",
    "                glac_str_noleadzero = str(int(glac_str.split('.')[0])) + '.' + glac_str.split('.')[1]\n",
    "            else:\n",
    "                glac_str_noleadzero = glac_str\n",
    "                \n",
    "            print('  ', glac_str)\n",
    "                  \n",
    "            if (not os.path.exists(debris_prms.hd_fp + debris_prms.hd_fn_sample.replace('XXXX',glac_str_noleadzero)) \n",
    "                and ((main_glac_rgi_subset.loc[glac_idx, 'DC_Area_%'] > debris_prms.dc_percarea_threshold) | \n",
    "                     (main_glac_rgi_subset.loc[glac_idx, 'DC_Area_v2'] / 1e6 > debris_prms.dc_area_threshold)) \n",
    "               and (ts_fn not in ['0.0'])):\n",
    "                \n",
    "                mb_fn = glac_str + '_mb_bins.csv'\n",
    "                mb_df = pd.read_csv(debris_prms.mb_binned_fp + mb_fn)\n",
    "                mb_df.loc[:,:] = mb_df.values.astype(np.float64)\n",
    "                \n",
    "                # Optimized parameters\n",
    "                hdopt_cns = ['glac_str', 'melt_mwea_clean', 'melt_mwea_2cm', 'b0', 'k', 'a', 'b', 'c']\n",
    "                df_hdopt_prms = pd.DataFrame(np.zeros((len(debris_prms.elev_cns),len(hdopt_cns))), columns=hdopt_cns)\n",
    "                df_hdopt_prms['glac_str'] = glac_str\n",
    "                \n",
    "                # ===== Ostrem Curve =====\n",
    "                start_yearfrac = debris_prms.mb_yrfrac_dict[debris_prms.roi][0] \n",
    "                end_yearfrac = debris_prms.mb_yrfrac_dict[debris_prms.roi][1] \n",
    "                time_year = pd.to_datetime(ds_ostrem.time.values).year\n",
    "                time_daysperyear = np.array([366 if x%4 == 0 else 365 for x in time_year])\n",
    "                time_yearfrac = time_year + (pd.to_datetime(ds_ostrem.time.values).dayofyear-1) / time_daysperyear\n",
    "\n",
    "                start_idx = np.where(abs(time_yearfrac - start_yearfrac) == abs(time_yearfrac - start_yearfrac).min())[0][0]\n",
    "                end_idx = np.where(abs(time_yearfrac - end_yearfrac) == abs(time_yearfrac - end_yearfrac).min())[0][0]\n",
    "\n",
    "                # Debris thickness\n",
    "                debris_thicknesses = ds_ostrem.hd_cm.values / 100\n",
    "                debris_melt_df = pd.DataFrame(np.zeros((len(debris_thicknesses),2)), \n",
    "                                              columns=['debris_thickness', 'melt_mwea'])  \n",
    "\n",
    "                for nelev, elev_cn in enumerate(debris_prms.elev_cns):\n",
    "\n",
    "                    for ndebris, debris_thickness in enumerate(debris_thicknesses):                    \n",
    "                        melt_mwea = (ds_ostrem['melt'][ndebris,start_idx:end_idx,nelev].values.sum() / \n",
    "                                    (len(time_yearfrac[start_idx:end_idx])/365.25))\n",
    "                        debris_melt_df.loc[ndebris] = debris_thickness, melt_mwea\n",
    "                    \n",
    "                    # Fit curve\n",
    "                    fit_idx = list(np.where(debris_thicknesses >= 0.05)[0])            \n",
    "                    func_coeff, pcov = curve_fit(melt_fromdebris_func, \n",
    "                                                 debris_melt_df.debris_thickness.values[fit_idx], \n",
    "                                                 debris_melt_df.melt_mwea.values[fit_idx])\n",
    "                    melt_cleanice = debris_melt_df.loc[0,'melt_mwea']\n",
    "                    idx_2cm = np.where(debris_thicknesses == 0.02)[0][0]\n",
    "                    melt_2cm = debris_melt_df.loc[idx_2cm, 'melt_mwea']\n",
    "                    melt_thickest = melt_fromdebris_func(debris_melt_df.debris_thickness.max(), func_coeff[0], func_coeff[1])\n",
    "\n",
    "                    if melt_cleanice == 0:\n",
    "                        troubleshoot_fp = debris_prms.output_fp + 'errors/' + debris_prms.roi + '/'\n",
    "                        if not os.path.exists(troubleshoot_fp):\n",
    "                            os.makedirs(troubleshoot_fp)\n",
    "                        with open(troubleshoot_fp + glac_str + \"-no_cleanice_melt.txt\", \"w\") as text_file:\n",
    "                            text_file.write(glac_str + ' clean ice melt is zero; causes issues for melt factors')\n",
    "                    \n",
    "                    # Add optimized parameters\n",
    "                    df_hdopt_prms.loc[nelev,'melt_mwea_clean'] = melt_cleanice\n",
    "                    df_hdopt_prms.loc[nelev,'melt_mwea_2cm'] = melt_2cm\n",
    "                    df_hdopt_prms.loc[nelev,'b0'] = func_coeff[0]\n",
    "                    df_hdopt_prms.loc[nelev,'k'] = func_coeff[1]\n",
    "\n",
    "                    # ===== PLOT DEBRIS VS. SURFACE LOWERING ===== \n",
    "                    if plot_ostrem and nelev == 0:\n",
    "                        fig, ax = plt.subplots(1, 2, squeeze=False, sharex=True, sharey=False, \n",
    "                                              gridspec_kw = {'wspace':0.3, 'hspace':0.15})\n",
    "                        # Fitted curves\n",
    "                        debris_4curve = np.arange(0.02,debris_prms.hd_max+0.01,0.01)\n",
    "                        melt_4curve = melt_fromdebris_func(debris_4curve, func_coeff[0], func_coeff[1])\n",
    "                        melt_4curve[melt_4curve > melt_2cm] = melt_2cm\n",
    "                        melt_4curve_norm = melt_4curve / melt_cleanice\n",
    "                        # ===== MELT =====\n",
    "                        ax[0,0].plot(debris_melt_df['debris_thickness'], debris_melt_df['melt_mwea'], 'o', \n",
    "                                     color='k', markersize=3, markerfacecolor=\"None\", markeredgewidth=0.75, zorder=3)\n",
    "                        ax[0,0].plot(debris_4curve, melt_4curve, \n",
    "                                     color='k', linewidth=1, linestyle='--', zorder=4)\n",
    "                        # text\n",
    "                        ax[0,0].text(0.5, 1.05, glac_str, size=10, horizontalalignment='center', verticalalignment='top', \n",
    "                                     transform=ax[0,0].transAxes)\n",
    "                        eqn_text = r'$b = \\frac{b_{0}}{1 + kb_{0}h}$'\n",
    "                        coeff1_text = r'$b_{0} = ' + str(np.round(func_coeff[0],2)) + '$' \n",
    "                        coeff2_text = r'$k = ' + str(np.round(func_coeff[1],2)) + '$' \n",
    "                        # coeff$\\frac{b_{0}}{1 + 2kb_{0}h}$'\n",
    "                        ax[0,0].text(0.9, 0.95, eqn_text, size=12, horizontalalignment='right', verticalalignment='top', \n",
    "                                     transform=ax[0,0].transAxes)\n",
    "                        ax[0,0].text(0.615, 0.83, 'where', size=10, horizontalalignment='left', verticalalignment='top', \n",
    "                                     transform=ax[0,0].transAxes)\n",
    "                        ax[0,0].text(0.66, 0.77, coeff1_text, size=10, horizontalalignment='left', verticalalignment='top', \n",
    "                                     transform=ax[0,0].transAxes)\n",
    "                        ax[0,0].text(0.66, 0.7, coeff2_text, size=10, horizontalalignment='left', verticalalignment='top', \n",
    "                                     transform=ax[0,0].transAxes)\n",
    "                        # X-label\n",
    "                        ax[0,0].set_xlabel('Debris thickness(m)', size=12)\n",
    "                        ax[0,0].set_xlim(0, 2.1)\n",
    "                        #ax[0,0].set_xlim(0, debris_melt_df.debris_thickness.max())\n",
    "                        ax[0,0].xaxis.set_tick_params(labelsize=12)\n",
    "                        ax[0,0].xaxis.set_major_locator(plt.MultipleLocator(0.5))\n",
    "                        ax[0,0].xaxis.set_minor_locator(plt.MultipleLocator(0.1))  \n",
    "                        # Y-label\n",
    "                        ax[0,0].set_ylabel('Melt (mwea)', size=12)\n",
    "                        ax[0,0].set_ylim(0,(int(debris_melt_df.melt_mwea.values.max()/0.1)+3)*0.1)\n",
    "                        ax[0,0].yaxis.set_major_locator(plt.MultipleLocator(1))\n",
    "                        ax[0,0].yaxis.set_minor_locator(plt.MultipleLocator(0.1))\n",
    "                        # Tick parameters\n",
    "                        ax[0,0].yaxis.set_ticks_position('both')\n",
    "                        ax[0,0].tick_params(axis='both', which='major', labelsize=12, direction='inout')\n",
    "                        ax[0,0].tick_params(axis='both', which='minor', labelsize=10, direction='in') \n",
    "                        # ===== MELT FACTOR =====\n",
    "                        ax[0,1].plot(debris_melt_df['debris_thickness'], \n",
    "                                     debris_melt_df['melt_mwea'] / melt_cleanice, 'o', \n",
    "                                     color='k', markersize=3, markerfacecolor=\"None\", markeredgewidth=0.75, zorder=3)\n",
    "                        ax[0,1].plot(debris_4curve, melt_4curve_norm, \n",
    "                                     color='k', linewidth=1, linestyle='--', zorder=4)\n",
    "                        ax[0,1].plot(np.array([0,0.02]), np.array([1, melt_2cm/melt_cleanice]), \n",
    "                                     color='k', linewidth=1, linestyle='--', zorder=4)\n",
    "                        # text\n",
    "                        ax[0,1].text(0.5, 1.05, glac_str, size=10, horizontalalignment='center', verticalalignment='top', \n",
    "                                     transform=ax[0,1].transAxes)\n",
    "#                         meltclean_text = r'$b_{clean} = ' + str(np.round(melt_cleanice,2)) + '$' \n",
    "#                         ax[0,1].text(0.66, 0.95, meltclean_text, size=10, horizontalalignment='left', verticalalignment='top', \n",
    "#                                      transform=ax[0,1].transAxes)\n",
    "                        # Y-label\n",
    "                        ax[0,1].set_ylabel('Melt factor (-)', size=12)\n",
    "                        ax[0,1].set_ylim(0,(int(melt_4curve_norm.max()/0.1)+3)*0.1)\n",
    "                        ax[0,1].yaxis.set_major_locator(plt.MultipleLocator(0.2))\n",
    "                        ax[0,1].yaxis.set_minor_locator(plt.MultipleLocator(0.05))\n",
    "                        # Tick parameters\n",
    "                        ax[0,1].yaxis.set_ticks_position('both')\n",
    "                        ax[0,1].tick_params(axis='both', which='major', labelsize=12, direction='inout')\n",
    "                        ax[0,1].tick_params(axis='both', which='minor', labelsize=10, direction='in') \n",
    "    \n",
    "                        fig.set_size_inches(8, 4)\n",
    "                        figure_fn = glac_str + '_curve_hd_melt.png'\n",
    "                        ostrem_fig_fp = debris_prms.output_fig_fp + debris_prms.roi + '/'\n",
    "                        if not os.path.exists(ostrem_fig_fp):\n",
    "                            os.makedirs(ostrem_fig_fp)\n",
    "                        fig.savefig(ostrem_fig_fp + figure_fn, bbox_inches='tight', dpi=300)\n",
    "                        plt.close()\n",
    "                    \n",
    "                    # Create glacier feature from ice thickness raster\n",
    "                    thick_dir = debris_prms.oggm_fp + 'thickness/RGI60-' + str(region.zfill(2)) + '/'\n",
    "                    thick_fn = 'RGI60-' + str(region.zfill(2)) + '.' + rgiid.split('.')[1] + '_thickness.tif'\n",
    "                    gf = create_glacfeat(thick_dir, thick_fn)\n",
    "\n",
    "                    # Debris shape layer processing\n",
    "                    dc_shp_proj_fn = (debris_prms.glac_shp_proj_fp + glac_str + '_dc_crs' + \n",
    "                                      str(gf.aea_srs.GetAttrValue(\"AUTHORITY\", 1)) + '.shp')\n",
    "                    if not os.path.exists(dc_shp_proj_fn):\n",
    "                        dc_shp_init = gpd.read_file(debris_prms.debriscover_fp + \n",
    "                                                    debris_prms.debriscover_fn_dict[debris_prms.roi])\n",
    "                        dc_shp_single = dc_shp_init[dc_shp_init['RGIId'] == rgiid]\n",
    "                        dc_shp_single = dc_shp_single.reset_index()\n",
    "                        dc_shp_proj = dc_shp_single.to_crs({'init': 'epsg:' + \n",
    "                                                            str(gf.aea_srs.GetAttrValue(\"AUTHORITY\", 1))})\n",
    "                        dc_shp_proj.to_file(dc_shp_proj_fn)\n",
    "                    dc_shp_ds = ogr.Open(dc_shp_proj_fn, 0)\n",
    "                    dc_shp_lyr = dc_shp_ds.GetLayer()\n",
    "\n",
    "                    # Add layers\n",
    "                    gf.add_layers(dc_shp_lyr, gf_add_dhdt=True, dhdt_fn=dhdt_fn_wglacier, gf_add_vel=True, \n",
    "                                  vx_fn=vx_fn_wglacier, gf_add_ts=True, ts_fn=ts_fn, gf_add_slope_aspect=False)\n",
    "\n",
    "                    # ===== PLOTS =====\n",
    "                    if debug:\n",
    "                        # DEM\n",
    "                        var_full2plot = gf.z1.copy()\n",
    "                        clim = malib.calcperc(var_full2plot, (2,98))\n",
    "                        plot_array(var_full2plot, clim, [glac_str + ' DEM'], 'inferno', 'elev (masl)', close_fig=False)\n",
    "                        # Surface temperature\n",
    "                        var_full2plot = gf.ts.copy()\n",
    "                        clim = malib.calcperc(var_full2plot, (2,98))\n",
    "                        plot_array(var_full2plot, clim, [glac_str + ' Ts'], 'inferno', 'ts (degC)', close_fig=False)\n",
    "                        # Surface temperature (debris-covered)\n",
    "                        var_full2plot = gf.ts.copy()\n",
    "                        var_full2plot.mask = gf.dc_mask\n",
    "                        clim = malib.calcperc(var_full2plot, (2,98))\n",
    "                        plot_array(var_full2plot, clim, [glac_str + ' Ts'], 'inferno', 'ts (degC)', close_fig=False)\n",
    "\n",
    "                    # Bin data\n",
    "                    outbins_df, z_bin_edges = gf.hist_plot(bin_width=debris_prms.mb_bin_size)\n",
    "                    \n",
    "                    # add emergence velocity from the mb_df\n",
    "                    outbins_df['emvel_mean'] = mb_df['emvel_mean']\n",
    "                    outbins_df['emvel_std'] = mb_df['emvel_std']\n",
    "                    outbins_df['emvel_med'] = mb_df['emvel_med']\n",
    "                    outbins_df['emvel_mad'] = mb_df['emvel_mad']\n",
    "                    # uncertainty with flux divergence from Farinotti et al. (2019)\n",
    "                    outbins_df['emvel_high'] = outbins_df['emvel_mean'] * 1.6\n",
    "                    outbins_df['emvel_low'] = outbins_df['emvel_mean'] * 0.8\n",
    "                    # modify mass balance based on emergence velocity\n",
    "                    outbins_df['dc_mb_wem'] = outbins_df['dc_mb_bin_mean_mwea'] - outbins_df['emvel_mean']\n",
    "                    # Higher emergence --> more melt\n",
    "                    outbins_df['dc_mb_wemthick'] = outbins_df['dc_mb_bin_mean_mwea'] - outbins_df['emvel_high'] - outbins_df['dc_mb_bin_std_mwea']\n",
    "                    # Lower emergence --> less melt\n",
    "                    outbins_df['dc_mb_wemthin'] = outbins_df['dc_mb_bin_mean_mwea'] - outbins_df['emvel_low'] + outbins_df['dc_mb_bin_std_mwea']\n",
    "                    \n",
    "                    # add width to bins\n",
    "                    widths_fp = debris_prms.oggm_fp + 'widths/' + 'RGI60-' + rgiid.split('-')[1].split('.')[0] + '/'\n",
    "                    widths_fn = rgiid + '_widths_m.csv'\n",
    "                    try:\n",
    "                        # Add width to each elevation bin\n",
    "                        widths_df = pd.read_csv(widths_fp + widths_fn)\n",
    "                        elev_nearidx = (np.abs(outbins_df['bin_center_elev_m'].values[:,np.newaxis] - \n",
    "                                               widths_df['elev'].values).argmin(axis=1))\n",
    "                        outbins_df['width_m'] = widths_df.loc[elev_nearidx,'width_m'].values\n",
    "                    except:\n",
    "                        outbins_df['width_m'] = 0\n",
    "                    \n",
    "                    # ===== OPTIMIZE STRICTLY BASED ON THE BINS (computationally efficient!) =====\n",
    "                    # Column name to run objective on\n",
    "                    ts_zscore = 0\n",
    "                    mb_cn = 'dc_mb_wem'\n",
    "                    ts_cn = 'dc_ts_mean'\n",
    "                    \n",
    "                    # Subset \"terminus\" bins based on the following:\n",
    "                    #  - below velocity threshold (low emergence velocity)\n",
    "                    #  - minimum debris-covered area (percentage and pixels)\n",
    "                    #  - mass balance within range of sub-debris melt\n",
    "                    #  - terminus of glacier \n",
    "                    bin_idx_term = np.where((outbins_df['vm_med'] <= debris_prms.vel_threshold)\n",
    "                                            & (outbins_df['width_m'] >= debris_prms.width_min_dict[debris_prms.roi])\n",
    "                                            & (outbins_df['dc_bin_area_perc'] >= debris_prms.debrisperc_threshold)\n",
    "                                            & (outbins_df['dc_bin_count_valid'] >= 10)\n",
    "                                            & (outbins_df[mb_cn] >= -1*melt_2cm)\n",
    "                                            & (outbins_df[mb_cn] <= -1*melt_thickest)\n",
    "                                            & (outbins_df['z1_bin_areas_perc_cum'] <= debris_prms.term_area_perc)\n",
    "                                          )[0]\n",
    "                    \n",
    "                    if debug:\n",
    "                        print('bin_idx_term:', bin_idx_term)\n",
    "                    \n",
    "                    if len(bin_idx_term) > 0:\n",
    "\n",
    "                        # Thin debris based on coldest bin with significant debris cover\n",
    "                        try:\n",
    "                            bin_idx_thin = outbins_df.loc[np.where(outbins_df['dc_bin_count_valid'] >= 10)[0],'dc_ts_mean'].idxmin()\n",
    "                        except:\n",
    "                            bin_idx_thin = outbins_df.loc[np.where((outbins_df['dc_bin_area_perc_cum'] >= 95) & \n",
    "                                                                   (outbins_df['dc_bin_count_valid'] > 0))[0],'dc_ts_mean'].idxmin()\n",
    "                        # set melt equal to 2 cm\n",
    "                        outbins_df.loc[bin_idx_thin, mb_cn] = -1*melt_2cm\n",
    "                        # concatenate terminus and thin bins\n",
    "                        bin_idx_all = np.concatenate((bin_idx_term, np.array([bin_idx_thin])))\n",
    "                        \n",
    "                        def debris_fromts_func(ts, a, b, c):\n",
    "                            \"\"\" estimate debris thickness from surface temperature (ts is surface temperature, a and k are coefficients) \n",
    "                                Hill Equation\"\"\"\n",
    "                            return (ts * b**c / (a - ts))**(1/c)\n",
    "    \n",
    "                        def melt_fromts_func(ts, a, b, c, b0, k, hd_max=debris_prms.hd_max, melt_2cm=melt_2cm):\n",
    "                            \"\"\" estimate melt from surface temperature \n",
    "                            Parameters\n",
    "                            ----------\n",
    "                            ts : surface temperature\n",
    "                            a, b, c : coefficients with debris-ts curve (Hill equation)\n",
    "                            b0, k: coefficients with debris-melt curve (2nd order reaction rate)\n",
    "                            \"\"\"\n",
    "                            ts_copy = ts.copy()\n",
    "                            ts_max = ts_fromdebris_func(hd_max, a, b, c)\n",
    "                            ts_copy[ts_copy > ts_max] = ts_max\n",
    "                            hd = debris_fromts_func(ts_copy, a, b, c)\n",
    "                            hd[hd < 0] = 0.02\n",
    "                            hd[hd > hd_max] = hd_max\n",
    "                            melt = melt_fromdebris_func(hd, b0, k)\n",
    "                            melt[melt > melt_2cm] = melt_2cm\n",
    "                            return melt\n",
    "    \n",
    "#                         def process_df_debris_subset(outbins_df, func_coeff_ts):\n",
    "                        def process_df_debris_subset(func_coeff_ts):\n",
    "                            # Estimate mass balance from surface temperature\n",
    "                            outbins_df['mb_fromts'] = -1 * melt_fromts_func(\n",
    "                                outbins_df[ts_cn], \n",
    "                                func_coeff_ts[0], func_coeff_ts[1], func_coeff_ts[2], \n",
    "                                func_coeff[0], func_coeff[1])\n",
    "                            # Compute difference\n",
    "                            outbins_df['mb_fromts_dif'] = outbins_df['mb_fromts'] - outbins_df[mb_cn]\n",
    "                            # Weighted difference\n",
    "                            melt_dif_weighted_sum = (outbins_df.loc[bin_idx_all, 'mb_fromts_dif'] * \n",
    "                                                     outbins_df.loc[bin_idx_all, 'dc_bin_area_valid_km2']).sum()\n",
    "                            melt_dif_weighted_sum_abs = abs(melt_dif_weighted_sum)\n",
    "                            return outbins_df, melt_dif_weighted_sum, melt_dif_weighted_sum_abs\n",
    "    \n",
    "                        for nrow, func_coeff_ts in enumerate(ts_coeff_daily.values.tolist()):\n",
    "                            outbins_df_raw, melt_dif_weighted_sum, melt_dif_weighted_sum_abs = (\n",
    "#                                 process_df_debris_subset(outbins_df, func_coeff_ts))\n",
    "                                process_df_debris_subset(func_coeff_ts))\n",
    "                            # record difference\n",
    "                            ts_coeff_daily.loc[nrow,'dif'] = melt_dif_weighted_sum\n",
    "                            if debug:\n",
    "                                print(nrow, melt_dif_weighted_sum)\n",
    "                        \n",
    "                        # Best fit\n",
    "                        ts_bestday_idx = np.where(abs(ts_coeff_daily.dif.values) == \n",
    "                                                  abs(ts_coeff_daily.dif.values).min())[0]\n",
    "                        func_coeff_ts = ts_coeff_daily.loc[ts_bestday_idx,:].values[0][0:3]\n",
    "                        outbins_df_raw, melt_dif_weighted_sum, melt_dif_weighted_sum_abs = (\n",
    "#                                 process_df_debris_subset(outbins_df, func_coeff_ts))\n",
    "                                process_df_debris_subset(func_coeff_ts))\n",
    "                        outbins_df['hd_ts'] = debris_fromts_func(outbins_df[ts_cn], func_coeff_ts[0], \n",
    "                                                                 func_coeff_ts[1], func_coeff_ts[2])\n",
    "                        \n",
    "                        # ===== TS OFFSET =====\n",
    "                        def objective(ts_offset):\n",
    "                            \"\"\"\n",
    "                            Objective function to fit ts_zscore for Ts inversions to the subdebris melt inversions\n",
    "\n",
    "                            Parameters\n",
    "                            ----------\n",
    "                            ts_zscore : np.float64\n",
    "                                temperature zscore used to shift data/curve up or down\n",
    "\n",
    "                            Returns\n",
    "                            -------\n",
    "                            melt_dif_weighted_sum_abs\n",
    "                                Returns the difference in melt for measured and surface temp inversion\n",
    "                            \"\"\"\n",
    "                            # Estimate mass balance from surface temperature\n",
    "                            func_coeff_ts_copy = func_coeff_ts.copy()\n",
    "                            func_coeff_ts_copy[0] = func_coeff_ts_copy[0] + ts_offset\n",
    "                            outbins_df['mb_fromts'] = -1 * melt_fromts_func(\n",
    "                                outbins_df[ts_cn], \n",
    "                                func_coeff_ts_copy[0], func_coeff_ts_copy[1], func_coeff_ts_copy[2], \n",
    "                                func_coeff[0], func_coeff[1])\n",
    "                            # Compute difference\n",
    "                            outbins_df['mb_fromts_dif'] = outbins_df['mb_fromts'] - outbins_df[mb_cn]\n",
    "                            # Weighted difference\n",
    "                            melt_dif_weighted_sum = (outbins_df.loc[bin_idx_all, 'mb_fromts_dif'] * \n",
    "                                                     outbins_df.loc[bin_idx_all, 'dc_bin_area_valid_km2']).sum()\n",
    "                            melt_dif_weighted_sum_abs = abs(melt_dif_weighted_sum)\n",
    "                            if debug:\n",
    "                                print('ts_offset and dif:', ts_offset, melt_dif_weighted_sum_abs)\n",
    "                            return melt_dif_weighted_sum_abs\n",
    "                        \n",
    "                        # Find reasonable initial starting point to avoid optimization getting stuck\n",
    "                        n = 0\n",
    "                        ts_offset_init = 0\n",
    "                        ts_offset_step = 0.5\n",
    "                        # initial fit\n",
    "                        func_coeff_ts_copy = func_coeff_ts.copy()\n",
    "                        func_coeff_ts_copy[0] = func_coeff_ts_copy[0] + ts_offset_init\n",
    "                        outbins_df_raw, melt_dif_weighted_sum, melt_dif_weighted_sum_abs = (\n",
    "                            process_df_debris_subset(func_coeff_ts_copy))\n",
    "                        if np.sign(melt_dif_weighted_sum) < 0 and melt_dif_weighted_sum_abs > 0.1:\n",
    "                            while n < 100 and melt_dif_weighted_sum < 0:\n",
    "                                n += 1\n",
    "                                ts_offset_init -= ts_offset_step\n",
    "                                func_coeff_ts_copy = func_coeff_ts.copy()\n",
    "                                func_coeff_ts_copy[0] = func_coeff_ts_copy[0] + ts_offset_init\n",
    "                                outbins_df_raw, melt_dif_weighted_sum, melt_dif_weighted_sum_abs = (\n",
    "                                    process_df_debris_subset(func_coeff_ts_copy))\n",
    "                                if debug:\n",
    "                                    print(' ', ts_offset_init, np.round(melt_dif_weighted_sum,2))\n",
    "                            n_small = 0\n",
    "                            while n_small < 10 and melt_dif_weighted_sum > 0:\n",
    "                                n_small += 1\n",
    "                                ts_offset_init += ts_offset_step/10\n",
    "                                func_coeff_ts_copy = func_coeff_ts.copy()\n",
    "                                func_coeff_ts_copy[0] = func_coeff_ts_copy[0] + ts_offset_init\n",
    "                                outbins_df_raw, melt_dif_weighted_sum, melt_dif_weighted_sum_abs = (\n",
    "                                    process_df_debris_subset(func_coeff_ts_copy))\n",
    "                                if debug:\n",
    "                                    print(' ', ts_offset_init, np.round(melt_dif_weighted_sum,2))\n",
    "                                \n",
    "                        elif np.sign(melt_dif_weighted_sum) > 0 and melt_dif_weighted_sum_abs > 0.1:\n",
    "                            while n < 100 and melt_dif_weighted_sum > 0:\n",
    "                                n += 1\n",
    "                                ts_offset_init += ts_offset_step\n",
    "                                func_coeff_ts_copy = func_coeff_ts.copy()\n",
    "                                func_coeff_ts_copy[0] = func_coeff_ts_copy[0] + ts_offset_init\n",
    "                                outbins_df_raw, melt_dif_weighted_sum, melt_dif_weighted_sum_abs = (\n",
    "                                    process_df_debris_subset(func_coeff_ts_copy))\n",
    "                                if debug:\n",
    "                                    print('  ', ts_offset_init, np.round(melt_dif_weighted_sum,2))\n",
    "                            n_small = 0\n",
    "                            while n_small < 10 and melt_dif_weighted_sum < 0:\n",
    "                                n_small += 1\n",
    "                                ts_offset_init -= ts_offset_step/10\n",
    "                                func_coeff_ts_copy = func_coeff_ts.copy()\n",
    "                                func_coeff_ts_copy[0] = func_coeff_ts_copy[0] + ts_offset_init\n",
    "                                outbins_df_raw, melt_dif_weighted_sum, melt_dif_weighted_sum_abs = (\n",
    "                                    process_df_debris_subset(func_coeff_ts_copy))\n",
    "                                if debug:\n",
    "                                    print(' ', ts_offset_init, np.round(melt_dif_weighted_sum,2))\n",
    "                    \n",
    "                        # RUN OPTIMIZATION\n",
    "                        ts_offset_obj = minimize(objective, ts_offset_init, method='SLSQP',\n",
    "                                                 options={'ftol':1e-5, 'eps':0.01}, \n",
    "                                                 bounds = ((-50,50),)\n",
    "                                                 )\n",
    "                        ts_offset_opt = ts_offset_obj.x[0]\n",
    "                        \n",
    "                        \n",
    "                            \n",
    "                        func_coeff_ts[0] = func_coeff_ts[0] + ts_offset_opt\n",
    "                        outbins_df_raw, melt_dif_weighted_sum, melt_dif_weighted_sum_abs = (\n",
    "                                    process_df_debris_subset(func_coeff_ts))\n",
    "                        \n",
    "                        if debug:\n",
    "                            print('ts_offset_opt (initial):', ts_offset_opt)\n",
    "                            print(func_coeff_ts, melt_dif_weighted_sum_abs)\n",
    "                        \n",
    "                        if melt_dif_weighted_sum_abs > 1:\n",
    "                            print('  ' + rgiid + ' failed to find good ts curve from considered days')\n",
    "                            troubleshoot_fp = (debris_prms.output_fp + 'errors/poor_day_tscurve/' + \n",
    "                                               debris_prms.roi + '/')\n",
    "                            if not os.path.exists(troubleshoot_fp):\n",
    "                                os.makedirs(troubleshoot_fp)\n",
    "                            txt_fn_noconvergence = glac_str + \"-poor_tscurve.txt\"\n",
    "                            with open(troubleshoot_fp + txt_fn_noconvergence, \"w\") as text_file:\n",
    "                                text_file.write(glac_str + ' failed to find good ts curve from considered days')\n",
    "                            export_hd = False\n",
    "                        else:\n",
    "                            export_hd = True    \n",
    "#                         # =====================\n",
    "                                     \n",
    "                        \n",
    "#                         plot_bestday_ts = False\n",
    "#                         if plot_bestday_ts:\n",
    "#                             fig, ax = plt.subplots(1, 1, squeeze=False, sharex=False, sharey=False, \n",
    "#                                        gridspec_kw = {'wspace':0.4, 'hspace':0.15})\n",
    "#                             # Best\n",
    "#                             debris_4curve = np.arange(0.,debris_prms.hd_max+0.01,0.01)\n",
    "#                             ts_day_mod = ts_fromdebris_func(debris_thicknesses, func_coeff_ts[0], func_coeff_ts[1], \n",
    "#                                                             func_coeff_ts[2])\n",
    "#                             ax[0,0].plot(debris_thicknesses, ts_day_mod)\n",
    "# #                         # positive\n",
    "# #                         ts_posidx = np.where(ts_coeff_daily.dif.values >= 0)[0]\n",
    "# #                         ts_bestday_idx_pos = np.where(abs(ts_coeff_daily.dif.values) == \n",
    "# #                                                       abs(ts_coeff_daily.dif.values[ts_posidx]).min())[0]\n",
    "# #                         func_coeff_ts_pos = ts_coeff_daily.loc[ts_bestday_idx_pos,:].values[0]\n",
    "# #                         ts_day_mod = ts_fromdebris_func(debris_thicknesses, func_coeff_ts_pos[0], func_coeff_ts_pos[1], \n",
    "# #                                                         func_coeff_ts_pos[2])\n",
    "# #                         ax[0,0].plot(debris_thicknesses, ts_day_mod)\n",
    "# #                         # negative\n",
    "# #                         ts_negidx = np.where(ts_coeff_daily.dif.values < 0)[0]\n",
    "# #                         ts_bestday_idx_neg = np.where(abs(ts_coeff_daily.dif.values) == \n",
    "# #                                                       abs(ts_coeff_daily.dif.values[ts_negidx]).min())[0]\n",
    "# #                         func_coeff_ts_neg = ts_coeff_daily.loc[ts_bestday_idx_neg,:].values[0]\n",
    "# #                         ts_day_mod = ts_fromdebris_func(debris_thicknesses, func_coeff_ts_neg[0], func_coeff_ts_neg[1], \n",
    "# #                                                         func_coeff_ts_neg[2])\n",
    "# #                         ax[0,0].plot(debris_thicknesses, ts_day_mod)\n",
    "\n",
    "                        # Plot optimized best day curve\n",
    "                        if plot_tscurve:\n",
    "                            fig, ax = plt.subplots(1, 2, squeeze=False, sharex=False, sharey=False, \n",
    "                                       gridspec_kw = {'wspace':0.4, 'hspace':0.15})\n",
    "                            debris_4curve = np.arange(0.,debris_prms.hd_max+0.01,0.01)\n",
    "                            ts_day_mod = ts_fromdebris_func(debris_4curve, func_coeff_ts[0], func_coeff_ts[1], \n",
    "                                                            func_coeff_ts[2])\n",
    "                            ax[0,0].plot(debris_4curve, ts_day_mod, color='k', linewidth=1, linestyle='-', zorder=4)\n",
    "                            # text\n",
    "                            ax[0,0].text(0.5, 1.05, glac_str, size=10, horizontalalignment='center', verticalalignment='top', \n",
    "                                         transform=ax[0,0].transAxes)\n",
    "                            eqn_text = r'$T_{s} = \\frac{a h^{c}}{b^{c}+h^{c}}$'\n",
    "                            coeff1_text = r'$a = ' + str(np.round(func_coeff_ts[0],2)) + '$' \n",
    "                            coeff2_text = r'$b = ' + str(np.round(func_coeff_ts[1],2)) + '$' \n",
    "                            coeff3_text = r'$c = ' + str(np.round(func_coeff_ts[2],2)) + '$' \n",
    "                            ax[0,0].text(0.9, 0.45, eqn_text, size=12, horizontalalignment='right', verticalalignment='top', \n",
    "                                         transform=ax[0,0].transAxes)\n",
    "                            ax[0,0].text(0.615, 0.33, 'where', size=10, horizontalalignment='left', verticalalignment='top', \n",
    "                                         transform=ax[0,0].transAxes)\n",
    "                            ax[0,0].text(0.66, 0.27, coeff1_text, size=10, horizontalalignment='left', verticalalignment='top', \n",
    "                                         transform=ax[0,0].transAxes)\n",
    "                            ax[0,0].text(0.66, 0.2, coeff2_text, size=10, horizontalalignment='left', verticalalignment='top', \n",
    "                                         transform=ax[0,0].transAxes)\n",
    "                            ax[0,0].text(0.66, 0.13, coeff3_text, size=10, horizontalalignment='left', verticalalignment='top', \n",
    "                                         transform=ax[0,0].transAxes)\n",
    "                            # X-label\n",
    "                            ax[0,0].set_xlabel('Debris thickness(m)', size=12)\n",
    "                            ax[0,0].set_xlim(0, 2.1)\n",
    "                            ax[0,0].xaxis.set_tick_params(labelsize=12)\n",
    "                            ax[0,0].xaxis.set_major_locator(plt.MultipleLocator(0.5))\n",
    "                            ax[0,0].xaxis.set_minor_locator(plt.MultipleLocator(0.1))  \n",
    "                            # Y-label\n",
    "                            ax[0,0].set_ylabel('Surface temperature ($^\\circ$C)', size=12)\n",
    "                            # Tick parameters\n",
    "                            ax[0,0].yaxis.set_ticks_position('both')\n",
    "                            ax[0,0].tick_params(axis='both', which='major', labelsize=12, direction='inout')\n",
    "                            ax[0,0].tick_params(axis='both', which='minor', labelsize=10, direction='in') \n",
    "                            \n",
    "                            # ===== Ts vs. Melt =====\n",
    "                            ts_max = ts_fromdebris_func(2., func_coeff_ts[0], func_coeff_ts[1], func_coeff_ts[2])\n",
    "                            ts_4curve = np.arange(0, np.round(np.ceil(ts_max/5)*5)+0.1, 0.1)\n",
    "                            melt_4curve = melt_fromts_func(ts_4curve,\n",
    "                                                           func_coeff_ts[0], func_coeff_ts[1], func_coeff_ts[2], \n",
    "                                                           func_coeff[0], func_coeff[1])\n",
    "                            ax[0,1].plot(ts_4curve, melt_4curve, color='k', linewidth=1, linestyle='-', zorder=4)\n",
    "                            # text\n",
    "                            ax[0,1].text(0.5, 1.05, glac_str, size=10, horizontalalignment='center', verticalalignment='top', \n",
    "                                         transform=ax[0,0].transAxes)\n",
    "                            # X-label\n",
    "                            ax[0,1].set_xlabel('Surface temperature ($^\\circ$C)', size=12)\n",
    "                            ax[0,1].set_xlim(0,np.round(np.ceil(ts_max/5)*5))\n",
    "                            # Y-label\n",
    "                            ax[0,1].set_ylabel('Melt (mwea)', size=12)\n",
    "                            # Tick parameters\n",
    "                            ax[0,1].yaxis.set_ticks_position('both')\n",
    "                            ax[0,1].tick_params(axis='both', which='major', labelsize=12, direction='inout')\n",
    "                            ax[0,1].tick_params(axis='both', which='minor', labelsize=10, direction='in') \n",
    "                            # Save plot\n",
    "                            fig.set_size_inches(8, 4)\n",
    "                            figure_fn = glac_str + '_curve_hd_ts.png'\n",
    "                            ostrem_fig_fp = debris_prms.output_fig_fp + debris_prms.roi + '/'\n",
    "                            if not os.path.exists(ostrem_fig_fp):\n",
    "                                os.makedirs(ostrem_fig_fp)\n",
    "                            fig.savefig(ostrem_fig_fp + figure_fn, bbox_inches='tight', dpi=300)\n",
    "                            plt.close() \n",
    "                        \n",
    "                        # ===== DEBRIS THICKNESS MAP =====\n",
    "                        if export_hd:\n",
    "                            # Estimate the debris thickness\n",
    "                            gf.debris_thick_ts = debris_fromts_maskedarray(gf.ts, func_coeff_ts[0], \n",
    "                                                                           func_coeff_ts[1], func_coeff_ts[2])\n",
    "                            gf.debris_thick_ts = np.ma.array(maskedarray_gt(gf.debris_thick_ts,debris_prms.hd_max), \n",
    "                                                             mask=np.ma.getmask(gf.ts))\n",
    "                            # Plot debris thickness\n",
    "                            var_full2plot = gf.debris_thick_ts.copy()\n",
    "                            clim = (0,1)\n",
    "                            plot_array(var_full2plot, clim, [gf.glacnum + ' hd (from ts)'], 'inferno', 'hd (m)', \n",
    "                                       fn=debris_prms.output_fig_fp + debris_prms.roi + '/' + gf.feat_fn +'_hd_ts.png', \n",
    "                                       close_fig=True)\n",
    "\n",
    "                            # ===== ADD THE MELT FACTOR =====\n",
    "                            if add_meltfactor:\n",
    "                                # Load Ostrem Curve Parameters\n",
    "                                # Melt factor\n",
    "                                gf.meltfactor_ts = (\n",
    "                                    melt_fromdebris_func(gf.debris_thick_ts, func_coeff[0], func_coeff[1]) / melt_cleanice)\n",
    "                                # limit melt rates to modeled 2 cm rate\n",
    "                                gf.meltfactor_ts = np.ma.array(\n",
    "                                    maskedarray_gt(gf.meltfactor_ts, melt_2cm / melt_cleanice), \n",
    "                                    mask=np.ma.getmask(gf.debris_thick_ts))\n",
    "                                # Linearly interpolate between 0 cm and 2 cm for the melt rate\n",
    "                                def meltfactor_0to2cm_adjustment(mf, melt_clean, melt_2cm, hd):\n",
    "                                    \"\"\" Linearly interpolate melt factors between 0 and 2 cm \n",
    "                                        based on clean ice and 2 cm sub-debris melt \"\"\"\n",
    "                                    mf = np.nan_to_num(mf,0)\n",
    "                                    mf[(hd >= 0) & (hd < 0.02)] = (\n",
    "                                        1 + hd[(hd >= 0) & (hd < 0.02)] / 0.02 * (melt_2cm - melt_clean) / melt_clean)\n",
    "                                    return mf\n",
    "                                gf.meltfactor_ts = np.ma.array(\n",
    "                                    meltfactor_0to2cm_adjustment(gf.meltfactor_ts.data.copy(), melt_cleanice, melt_2cm, \n",
    "                                                                 gf.debris_thick_ts.data), \n",
    "                                    mask=np.ma.getmask(gf.debris_thick_ts))\n",
    "                                # Plot melt factor\n",
    "                                titles = [gf.glacnum + ' melt factor']\n",
    "                                var_full2plot = gf.meltfactor_ts.copy()\n",
    "                                clim = (0,1.25)\n",
    "                                plot_array(var_full2plot, clim, titles, 'inferno', 'melt factor (-)', \n",
    "                                           fn=debris_prms.output_fig_fp + debris_prms.roi + '/' + gf.feat_fn +'_mf.png', \n",
    "                                           close_fig=True)   \n",
    "\n",
    "\n",
    "                            # ===== Export debris thickness and melt factor maps ===== \n",
    "                            hd_fp = debris_prms.hd_fp\n",
    "                            if not os.path.exists(hd_fp):\n",
    "                                os.makedirs(hd_fp)\n",
    "                            gf.debris_thick_ts.mask = gf.dc_mask\n",
    "                            debris_fullfn = hd_fp + debris_prms.hd_fn_sample.replace('XXXX',gf.glacnum)\n",
    "                            iolib.writeGTiff(gf.debris_thick_ts, debris_fullfn, gf.ds_dict['z1'])\n",
    "\n",
    "                            if add_meltfactor:\n",
    "                                mf_fp = hd_fp + 'meltfactor/'\n",
    "                                if not os.path.exists(mf_fp):\n",
    "                                    os.makedirs(mf_fp)\n",
    "                                gf.meltfactor_ts.mask = gf.dc_mask\n",
    "                                meltfactor_fullfn = mf_fp + debris_prms.mf_fn_sample.replace('XXXX',gf.glacnum)\n",
    "                                iolib.writeGTiff(gf.meltfactor_ts, meltfactor_fullfn, gf.ds_dict['z1'])\n",
    "\n",
    "                            # ===== EXPORT THE BINNED DEBRIS THICKNESS =====\n",
    "                            # Output debris thickness\n",
    "                            outbins_df, z_bin_edges = gf.hist_plot(bin_width=debris_prms.mb_bin_size)\n",
    "                            if not os.path.exists(debris_prms.mb_binned_fp_wdebris_hdts):\n",
    "                                os.makedirs(debris_prms.mb_binned_fp_wdebris_hdts)\n",
    "                            outbins_df.to_csv(debris_prms.mb_binned_fp_wdebris_hdts + \n",
    "                                              mb_fn.replace('.csv','_hdts.csv'), index=False)\n",
    "                            \n",
    "                            # Export optimized parameters\n",
    "#                             df_hdopt_prms['ts_zscore'] = ts_zscore_opt\n",
    "                            df_hdopt_prms['a'] = func_coeff_ts[0]\n",
    "                            df_hdopt_prms['b'] = func_coeff_ts[1]\n",
    "                            df_hdopt_prms['c'] = func_coeff_ts[2]\n",
    "                            hdopt_prms_fp = debris_prms.output_fp + 'hd_opt_prms/' + debris_prms.roi + '/'\n",
    "                            if not os.path.exists(hdopt_prms_fp):\n",
    "                                os.makedirs(hdopt_prms_fp)\n",
    "                            df_hdopt_prms.to_csv(hdopt_prms_fp + glac_str + '_hdopt_prms.csv', index=False)\n",
    "                            \n",
    "                            if debug:\n",
    "                                print('hdopt_prms:\\n  a:', np.round(func_coeff_ts[0],3), \n",
    "                                      'b:', np.round(func_coeff_ts[1],3),\n",
    "                                      'c:', np.round(func_coeff_ts[2],3))"
   ]
  },
  {
   "cell_type": "code",
   "execution_count": 7,
   "metadata": {},
   "outputs": [],
   "source": [
    "# outbins_printcols = ['bin_center_elev_m', 'z1_bin_count_valid', 'z1_bin_areas_perc_cum', 'dc_mb_bin_mean_mwea', 'dc_mb_bin_std_mwea', \n",
    "#                      'dc_bin_count_valid', 'dc_bin_area_perc', 'dc_bin_area_perc_cum', \n",
    "#                      'ts_mean', 'ts_std', \n",
    "#                      'vm_med', 'width_m', 'dc_bin_area_perc', 'z1_bin_areas_perc_cum',\n",
    "# #                      'hd_ts_mean_m'\n",
    "#                     ]\n",
    "# print('melt 2cm:', np.round(-1*melt_2cm,3), 'melt thickest:', np.round(-1*melt_thickest,3))\n",
    "# print(outbins_df.columns)\n",
    "\n",
    "# outbins_df.loc[0:20,outbins_printcols]\n",
    "# # outbins_df.columns"
   ]
  },
  {
   "cell_type": "code",
   "execution_count": 8,
   "metadata": {},
   "outputs": [
    {
     "name": "stdout",
     "output_type": "stream",
     "text": [
      "\n",
      "\n",
      "DONE\n",
      "\n",
      "\n"
     ]
    }
   ],
   "source": [
    "print('\\n\\nDONE\\n\\n')"
   ]
  },
  {
   "cell_type": "code",
   "execution_count": null,
   "metadata": {},
   "outputs": [],
   "source": []
  },
  {
   "cell_type": "code",
   "execution_count": 9,
   "metadata": {},
   "outputs": [],
   "source": [
    "# mosaic_calibrated_glaciers = True\n",
    "\n",
    "# # ====== MERGE CALIBRATED GLACIERS INTO DEGREE PIXELS ======\n",
    "# # Export all .tifs to a common projection that will enable merging them smoothly\n",
    "# mosaic_fp = debris_prms.hd_fp + 'mosaic/cal_only/'\n",
    "# dst_crs = 'EPSG:4326'\n",
    "# mosaic_deg_pixels = 1\n",
    "\n",
    "# if not os.path.exists(mosaic_fp):\n",
    "#     os.makedirs(mosaic_fp)\n",
    "\n",
    "# if mosaic_calibrated_glaciers:\n",
    "#     # Glaciers optimized\n",
    "#     glac_hd_fns = []\n",
    "#     rgiid_list_tsopt = []\n",
    "#     for i in os.listdir(debris_prms.hd_fp):\n",
    "#         if i.endswith('_hdts_m.tif'):\n",
    "#             region = int(i.split('.')[0])\n",
    "#             if region in debris_prms.roi_rgidict[debris_prms.roi]:  \n",
    "#                 if region < 10:\n",
    "#                     rgiid_list_tsopt.append(i[0:7])\n",
    "#                 else:\n",
    "#                     rgiid_list_tsopt.append(i[0:8])         \n",
    "#                 glac_hd_fns.append(i)\n",
    "#     glac_hd_fns = sorted(glac_hd_fns)\n",
    "#     rgiid_list_tsopt = sorted(rgiid_list_tsopt)\n",
    "\n",
    "#     main_glac_rgi_tsopt = debris_prms.selectglaciersrgitable(rgiid_list_tsopt)\n",
    "#     # Add the filenames\n",
    "#     main_glac_rgi_tsopt['CenLon_360'] = main_glac_rgi_tsopt['CenLon']\n",
    "#     main_glac_rgi_tsopt.loc[main_glac_rgi_tsopt['CenLon_360'] < 0, 'CenLon_360'] = (\n",
    "#         360 + main_glac_rgi_tsopt.loc[main_glac_rgi_tsopt['CenLon_360'] < 0, 'CenLon_360'])\n",
    "#     main_glac_rgi_tsopt['hd_fn'] = glac_hd_fns\n",
    "\n",
    "#     # Aggregate by unique lat/lon chunks\n",
    "#     main_glac_rgi_tsopt['CenLat_round'] = np.round(main_glac_rgi_tsopt['CenLat']/mosaic_deg_pixels,0) * mosaic_deg_pixels\n",
    "#     main_glac_rgi_tsopt['CenLon_round'] = np.round(main_glac_rgi_tsopt['CenLon_360']/mosaic_deg_pixels,0) * mosaic_deg_pixels\n",
    "#     main_glac_rgi_tsopt['CenLatLon_round'] = (\n",
    "#         [(main_glac_rgi_tsopt.loc[x,'CenLat_round'], main_glac_rgi_tsopt.loc[x,'CenLon_round'])\n",
    "#          for x in main_glac_rgi_tsopt.index.values])\n",
    "# #     main_glac_rgi_tsopt.loc[:,['RGIId', 'CenLat', 'CenLon_360', 'hd_fn', 'CenLat_round', 'CenLon_round', 'CenLatLon_round']]\n",
    "\n",
    "#     mosaic_unique_pixels = np.unique(main_glac_rgi_tsopt['CenLatLon_round'])\n",
    "#     print(len(mosaic_unique_pixels), 'unique merged rasters')\n",
    "\n",
    "#     # ===== MERGE UNIQUE PIXELS =====\n",
    "#     for nunique, unique_pixel in enumerate(mosaic_unique_pixels):\n",
    "#     # for unique_pixel in [mosaic_unique_pixels[0]]:\n",
    "#         print(nunique, unique_pixel)\n",
    "#         rgi_idx = main_glac_rgi_tsopt.loc[main_glac_rgi_tsopt['CenLatLon_round'] == unique_pixel].index.values\n",
    "#         hd_fns = list(main_glac_rgi_tsopt.loc[rgi_idx, 'hd_fn'].values)\n",
    "\n",
    "#         if unique_pixel[0] > 0:\n",
    "#             lat_str = str(int(np.round(unique_pixel[0]*100,0))) + 'N'\n",
    "#         else:\n",
    "#             lat_str = str(int(np.round(unique_pixel[0]*100,0))) + 'S'\n",
    "#         lon_str = str(int(np.round(unique_pixel[1]*100,0))) + 'E'\n",
    "\n",
    "#         mosaic_fn = debris_prms.roi + '-' + lat_str + '-' + lon_str + '-' + 'hd_m_wgs84-cal.tif'\n",
    "\n",
    "#         hd_fns_proj = []\n",
    "#         for hd_fn in hd_fns:\n",
    "#             with rasterio.open(debris_prms.hd_fp + hd_fn) as src:\n",
    "#                 transform, width, height = calculate_default_transform(\n",
    "#                     src.crs, dst_crs, src.width, src.height, *src.bounds)\n",
    "#                 kwargs = src.meta.copy()\n",
    "#                 kwargs.update({\n",
    "#                     'crs': dst_crs,\n",
    "#                     'transform': transform,\n",
    "#                     'width': width,\n",
    "#                     'height': height\n",
    "#                 })\n",
    "\n",
    "#                 hd_fn_proj = hd_fn.replace('.tif','-wgs84.tif')\n",
    "#                 hd_fns_proj.append(hd_fn_proj)\n",
    "#                 with rasterio.open(mosaic_fp + hd_fn_proj, 'w', **kwargs) as dst:\n",
    "#                     for i in range(1, src.count + 1):\n",
    "#                         reproject(\n",
    "#                             source=rasterio.band(src, i),\n",
    "#                             destination=rasterio.band(dst, i),\n",
    "#                             src_transform=src.transform,\n",
    "#                             src_crs=src.crs,\n",
    "#                             dst_transform=transform,\n",
    "#                             dst_crs=dst_crs,\n",
    "#                             resampling=Resampling.nearest)\n",
    "\n",
    "#         src_files_to_mosaic = []\n",
    "#         for fn in hd_fns_proj:\n",
    "#             if fn.endswith('_m-wgs84.tif'): \n",
    "#                 with rasterio.open(mosaic_fp + fn) as src:\n",
    "#                     src_files_to_mosaic.append(src)\n",
    "\n",
    "#         mos, out_trans = merge(src_files_to_mosaic)\n",
    "\n",
    "#         with rasterio.open(mosaic_fp + mosaic_fn,\"w\", driver ='Gtiff',count=1,\n",
    "#                            height= mos.shape[1],\n",
    "#                            width= mos.shape[2],\n",
    "#                            transform= out_trans,\n",
    "#                            crs= src.crs,\n",
    "#                            dtype= src.dtypes[0]) as dest:\n",
    "#             dest.write(mos)\n",
    "\n",
    "#         # Clean up the directory\n",
    "#         for fn in hd_fns_proj:\n",
    "#             os.remove(mosaic_fp + fn)"
   ]
  },
  {
   "cell_type": "code",
   "execution_count": null,
   "metadata": {},
   "outputs": [],
   "source": [
    "                        "
   ]
  },
  {
   "cell_type": "code",
   "execution_count": null,
   "metadata": {},
   "outputs": [],
   "source": []
  }
 ],
 "metadata": {
  "kernelspec": {
   "display_name": "Python [conda env:debris_thickness_global]",
   "language": "python",
   "name": "conda-env-debris_thickness_global-py"
  },
  "language_info": {
   "codemirror_mode": {
    "name": "ipython",
    "version": 3
   },
   "file_extension": ".py",
   "mimetype": "text/x-python",
   "name": "python",
   "nbconvert_exporter": "python",
   "pygments_lexer": "ipython3",
   "version": "3.6.7"
  }
 },
 "nbformat": 4,
 "nbformat_minor": 2
}
